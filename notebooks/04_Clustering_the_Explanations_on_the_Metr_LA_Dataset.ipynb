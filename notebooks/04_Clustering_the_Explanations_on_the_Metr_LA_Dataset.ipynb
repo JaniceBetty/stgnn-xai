{
  "cells": [
    {
      "cell_type": "code",
      "execution_count": 2,
      "metadata": {
        "id": "pNMabwihNVMJ"
      },
      "outputs": [],
      "source": [
        "import sys\n",
        "import os\n",
        "\n",
        "# Set the main path in the root folder of the project.\n",
        "sys.path.append(os.path.join('..'))"
      ]
    },
    {
      "cell_type": "code",
      "execution_count": 3,
      "metadata": {
        "id": "akmntiCeNVML"
      },
      "outputs": [],
      "source": [
        "# Settings for autoreloading.\n",
        "%load_ext autoreload\n",
        "%autoreload 2"
      ]
    },
    {
      "cell_type": "code",
      "execution_count": 5,
      "metadata": {
        "id": "bz3t5chKNVML"
      },
      "outputs": [],
      "source": [
        "from src.utils.seed import set_random_seed\n",
        "\n",
        "# Set the random seed for deterministic operations.\n",
        "SEED = 42\n",
        "set_random_seed(SEED)"
      ]
    },
    {
      "cell_type": "code",
      "execution_count": 6,
      "metadata": {
        "colab": {
          "base_uri": "https://localhost:8080/"
        },
        "id": "uYHHzttCNVML",
        "outputId": "44984c57-d7c6-441e-c8f9-beaa2f0f91cf"
      },
      "outputs": [
        {
          "name": "stdout",
          "output_type": "stream",
          "text": [
            "The selected device is: \"cuda\"\n"
          ]
        }
      ],
      "source": [
        "import torch\n",
        "\n",
        "# Set the device for training and querying the model.\n",
        "DEVICE = 'cuda' if torch.cuda.is_available() else 'cpu'\n",
        "print(f'The selected device is: \"{DEVICE}\"')"
      ]
    },
    {
      "cell_type": "markdown",
      "metadata": {
        "id": "5rb8fbXTNVMM"
      },
      "source": [
        "# Loading the Data"
      ]
    },
    {
      "cell_type": "code",
      "execution_count": 7,
      "metadata": {
        "id": "TkVgJC_lNVMM"
      },
      "outputs": [],
      "source": [
        "import os\n",
        "\n",
        "BASE_DATA_DIR = os.path.join('..', 'data', 'metr-la')"
      ]
    },
    {
      "cell_type": "code",
      "execution_count": 9,
      "metadata": {
        "id": "MSSvR-Z_NVMN"
      },
      "outputs": [],
      "source": [
        "import pickle\n",
        "with open(os.path.join(BASE_DATA_DIR, 'processed', 'scaler.pkl'), 'rb') as f:\n",
        "    scaler = pickle.load(f)"
      ]
    },
    {
      "cell_type": "code",
      "execution_count": 10,
      "metadata": {
        "id": "-v25AWgjNVMN"
      },
      "outputs": [],
      "source": [
        "from src.spatial_temporal_gnn.model import SpatialTemporalGNN\n",
        "from src.data.data_extraction import get_adjacency_matrix\n",
        "\n",
        "# Get the adjacency matrix\n",
        "adj_matrix_structure = get_adjacency_matrix(\n",
        "    os.path.join(BASE_DATA_DIR, 'raw', 'adj_mx_metr_la.pkl'))\n",
        "\n",
        "# Get the header of the adjacency matrix, the node indices and the\n",
        "# matrix itself.\n",
        "header, node_ids_dict, adj_matrix = adj_matrix_structure\n",
        "\n",
        "# Get the STGNN and load the checkpoints.\n",
        "spatial_temporal_gnn = SpatialTemporalGNN(9, 1, 12, 12, adj_matrix, DEVICE, 64)\n",
        "\n",
        "stgnn_checkpoints_path = os.path.join('..', 'models', 'checkpoints',\n",
        "                                      'st_gnn_metr_la.pth')\n",
        "\n",
        "stgnn_checkpoints = torch.load(stgnn_checkpoints_path)\n",
        "spatial_temporal_gnn.load_state_dict(stgnn_checkpoints['model_state_dict'])\n",
        "\n",
        "# Set the model in evaluation mode.\n",
        "spatial_temporal_gnn.eval();"
      ]
    },
    {
      "cell_type": "code",
      "execution_count": 11,
      "metadata": {
        "id": "D_0kVsPZNVMN"
      },
      "outputs": [],
      "source": [
        "from src.data.data_extraction import get_locations_dataframe\n",
        "\n",
        "# Get the dataframe containing the latitude and longitude of each sensor.\n",
        "locations_df = get_locations_dataframe(\n",
        "    os.path.join(BASE_DATA_DIR, 'raw', 'graph_sensor_locations_metr_la.csv'),\n",
        "    has_header=True)"
      ]
    },
    {
      "cell_type": "code",
      "execution_count": 12,
      "metadata": {
        "id": "IOfi4Gi_NVMN"
      },
      "outputs": [],
      "source": [
        "# Get the node positions dictionary.\n",
        "node_pos_dict = { i: id for id, i in node_ids_dict.items() }"
      ]
    },
    {
      "cell_type": "code",
      "execution_count": 13,
      "metadata": {
        "id": "kcK77WfNNVMN"
      },
      "outputs": [],
      "source": [
        "import os\n",
        "import numpy as np\n",
        "from src.spatial_temporal_gnn.prediction import predict\n",
        "\n",
        "# Get the data and the values predicted by the STGNN.\n",
        "x_train = np.load(os.path.join(BASE_DATA_DIR, 'explained', 'x_train.npy'))[..., :1]\n",
        "x_val = np.load(os.path.join(BASE_DATA_DIR, 'explained', 'x_val.npy'))[..., :1]\n",
        "x_test = np.load(os.path.join(BASE_DATA_DIR, 'explained', 'x_test.npy'))[..., :1]"
      ]
    },
    {
      "cell_type": "code",
      "execution_count": 14,
      "metadata": {
        "id": "rsdHqdSrNVMO"
      },
      "outputs": [],
      "source": [
        "from src.utils.config import MPH_TO_KMH_FACTOR\n",
        "\n",
        "\n",
        "# Turn the dataset in kilometers per hour.\n",
        "x_train = x_train * MPH_TO_KMH_FACTOR\n",
        "x_val = x_val * MPH_TO_KMH_FACTOR\n",
        "x_test = x_test * MPH_TO_KMH_FACTOR"
      ]
    },
    {
      "cell_type": "code",
      "execution_count": 15,
      "metadata": {
        "id": "_m_SpjLoNVMO"
      },
      "outputs": [],
      "source": [
        "_, n_timesteps, n_nodes, _ = x_train.shape"
      ]
    },
    {
      "cell_type": "markdown",
      "metadata": {
        "id": "thIWL-07NVMO"
      },
      "source": [
        "# Adjacency Distance Matrix"
      ]
    },
    {
      "cell_type": "code",
      "execution_count": 16,
      "metadata": {
        "id": "vNVgD67ZNVMO"
      },
      "outputs": [],
      "source": [
        "from src.explanation.clustering.clustering import (\n",
        "    get_adjacency_distance_matrix)\n",
        "\n",
        "adj_distance_matrix = get_adjacency_distance_matrix(adj_matrix, n_timesteps)"
      ]
    },
    {
      "cell_type": "code",
      "execution_count": 17,
      "metadata": {
        "colab": {
          "base_uri": "https://localhost:8080/"
        },
        "id": "vXU3eW1bNVMO",
        "outputId": "f599616f-06c1-4534-afe3-c5691a5f493f"
      },
      "outputs": [
        {
          "name": "stdout",
          "output_type": "stream",
          "text": [
            "Shape of the Adjacency Distance Matrix: (2484, 2484)\n"
          ]
        }
      ],
      "source": [
        "print(f'Shape of the Adjacency Distance Matrix: {adj_distance_matrix.shape}')"
      ]
    },
    {
      "cell_type": "markdown",
      "metadata": {
        "id": "KJly2iprNVMO"
      },
      "source": [
        "# Temporal Distance Matrix"
      ]
    },
    {
      "cell_type": "code",
      "execution_count": 18,
      "metadata": {
        "id": "H0ozZtEuNVMO"
      },
      "outputs": [],
      "source": [
        "from src.explanation.clustering.clustering import (\n",
        "    get_temporal_distance_matrix)\n",
        "\n",
        "temporal_distance_matrix = get_temporal_distance_matrix(n_nodes, n_timesteps)"
      ]
    },
    {
      "cell_type": "code",
      "execution_count": 19,
      "metadata": {
        "colab": {
          "base_uri": "https://localhost:8080/"
        },
        "id": "mBF_PC1vNVMP",
        "outputId": "4ab1cdb5-c0a6-4b03-e103-b30ca68d5bee"
      },
      "outputs": [
        {
          "name": "stdout",
          "output_type": "stream",
          "text": [
            "Shape of the Temporal Distance Matrix: (2484, 2484)\n"
          ]
        }
      ],
      "source": [
        "print('Shape of the Temporal Distance Matrix:',\n",
        "      f'{temporal_distance_matrix.shape}')"
      ]
    },
    {
      "cell_type": "markdown",
      "metadata": {
        "id": "tscJViDnNVMP"
      },
      "source": [
        "# Clustering Function"
      ]
    },
    {
      "cell_type": "code",
      "execution_count": 20,
      "metadata": {
        "colab": {
          "base_uri": "https://localhost:8080/"
        },
        "id": "Njmm1Md6NVMP",
        "outputId": "49136363-93e0-418f-dc23-8fdf22c2c9bf"
      },
      "outputs": [
        {
          "name": "stdout",
          "output_type": "stream",
          "text": [
            "Testing: n_clusters: 3 speed_distance_weight: 2\n",
            "[100/100] - 317s - Within Cluster Variance: 2.71 - Connected Clusters Dissimilarity: 17.5 - Average time: 3.17s \n",
            "Testing: n_clusters: 3 speed_distance_weight: 3\n",
            "[100/100] - 308s - Within Cluster Variance: 2.78 - Connected Clusters Dissimilarity: 17.4 - Average time: 3.08s \n",
            "Testing: n_clusters: 4 speed_distance_weight: 2\n",
            "[100/100] - 343s - Within Cluster Variance: 1.9 - Connected Clusters Dissimilarity: 18.2 - Average time: 3.42s \n",
            "Testing: n_clusters: 4 speed_distance_weight: 3\n",
            "[100/100] - 375s - Within Cluster Variance: 1.67 - Connected Clusters Dissimilarity: 18.9 - Average time: 3.75s \n",
            "Testing: n_clusters: 5 speed_distance_weight: 2\n",
            "[100/100] - 434s - Within Cluster Variance: 1.41 - Connected Clusters Dissimilarity: 18.2 - Average time: 4.34s \n",
            "Testing: n_clusters: 5 speed_distance_weight: 3\n",
            "[100/100] - 446s - Within Cluster Variance: 1.44 - Connected Clusters Dissimilarity: 18.4 - Average time: 4.45s \n"
          ]
        }
      ],
      "source": [
        "from src.explanation.clustering.evaluation import (\n",
        "    apply_grid_search_on_explanation_dataset)\n",
        "\n",
        "# Apply the grid search on a subset of the training set.\n",
        "apply_grid_search_on_explanation_dataset(\n",
        "    x=x_train[::10],\n",
        "    adj_distance_matrix=adj_distance_matrix,\n",
        "    temporal_distance_matrix=temporal_distance_matrix,\n",
        "    speed_distance_weight_list=[2, 3],\n",
        "    n_clusters_list=[3, 4, 5])"
      ]
    },
    {
      "cell_type": "code",
      "execution_count": 21,
      "metadata": {
        "id": "SV92J6_SNVMP"
      },
      "outputs": [],
      "source": [
        "# Set the best parameters based on the results of the grid search.\n",
        "\n",
        "SPEED_DISTANCE_WEIGHT = 3\n",
        "N_CLUSTERS = 4"
      ]
    },
    {
      "cell_type": "code",
      "execution_count": 22,
      "metadata": {
        "colab": {
          "base_uri": "https://localhost:8080/"
        },
        "id": "kCUEqjgjNVMP",
        "outputId": "5dc461c1-5ebc-49a8-da1c-acf715ae40ab"
      },
      "outputs": [
        {
          "name": "stdout",
          "output_type": "stream",
          "text": [
            "[995/995] - 3500s - Within Cluster Variance: 2.1 - Connected Clusters Dissimilarity: 17.4 - Average time: 3.52s \n"
          ]
        }
      ],
      "source": [
        "from src.explanation.clustering.evaluation import (\n",
        "    get_explanation_dataset_clustering_scores)\n",
        "\n",
        "get_explanation_dataset_clustering_scores(\n",
        "    x_train,\n",
        "    adj_distance_matrix=adj_distance_matrix,\n",
        "    temporal_distance_matrix=temporal_distance_matrix,\n",
        "    speed_distance_weight=SPEED_DISTANCE_WEIGHT,\n",
        "    n_clusters=N_CLUSTERS)"
      ]
    },
    {
      "cell_type": "code",
      "execution_count": 23,
      "metadata": {
        "colab": {
          "base_uri": "https://localhost:8080/"
        },
        "id": "USpZks2CNVMP",
        "outputId": "66979ab8-1b7c-4a34-b016-9868f18130da"
      },
      "outputs": [
        {
          "name": "stdout",
          "output_type": "stream",
          "text": [
            "[197/197] - 773s - Within Cluster Variance: 2.39 - Connected Clusters Dissimilarity: 17.4 - Average time: 3.92s \n"
          ]
        }
      ],
      "source": [
        "from src.explanation.clustering.evaluation import (\n",
        "    get_explanation_dataset_clustering_scores)\n",
        "\n",
        "get_explanation_dataset_clustering_scores(\n",
        "    x_val,\n",
        "    adj_distance_matrix=adj_distance_matrix,\n",
        "    temporal_distance_matrix=temporal_distance_matrix,\n",
        "    speed_distance_weight=SPEED_DISTANCE_WEIGHT,\n",
        "    n_clusters=N_CLUSTERS)"
      ]
    },
    {
      "cell_type": "code",
      "execution_count": 24,
      "metadata": {
        "colab": {
          "base_uri": "https://localhost:8080/"
        },
        "id": "9VcwH-RdNVMP",
        "outputId": "afe76543-aedd-4b4a-d0ea-9418d96bdc59"
      },
      "outputs": [
        {
          "name": "stdout",
          "output_type": "stream",
          "text": [
            "[299/299] - 1235s - Within Cluster Variance: 2.31 - Connected Clusters Dissimilarity: 18.4 - Average time: 4.13s \n"
          ]
        }
      ],
      "source": [
        "from src.explanation.clustering.evaluation import (\n",
        "    get_explanation_dataset_clustering_scores)\n",
        "\n",
        "get_explanation_dataset_clustering_scores(\n",
        "    x_test,\n",
        "    adj_distance_matrix=adj_distance_matrix,\n",
        "    temporal_distance_matrix=temporal_distance_matrix,\n",
        "    speed_distance_weight=SPEED_DISTANCE_WEIGHT,\n",
        "    n_clusters=N_CLUSTERS)"
      ]
    }
  ],
  "metadata": {
    "accelerator": "GPU",
    "colab": {
      "gpuType": "T4",
      "provenance": []
    },
    "kernelspec": {
      "display_name": "Python 3",
      "name": "python3"
    },
    "language_info": {
      "codemirror_mode": {
        "name": "ipython",
        "version": 3
      },
      "file_extension": ".py",
      "mimetype": "text/x-python",
      "name": "python",
      "nbconvert_exporter": "python",
      "pygments_lexer": "ipython3",
      "version": "3.10.0"
    },
    "orig_nbformat": 4
  },
  "nbformat": 4,
  "nbformat_minor": 0
}
