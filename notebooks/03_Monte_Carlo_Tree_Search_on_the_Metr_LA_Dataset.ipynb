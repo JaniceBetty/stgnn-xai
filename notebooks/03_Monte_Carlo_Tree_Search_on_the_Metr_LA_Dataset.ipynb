{
  "cells": [
    {
      "cell_type": "code",
      "execution_count": null,
      "metadata": {
        "id": "6kbAULJKy-wu"
      },
      "outputs": [],
      "source": [
        "import sys\n",
        "import os\n",
        "\n",
        "# Set the main path in the root folder of the project.\n",
        "sys.path.append(os.path.join('..'))"
      ]
    },
    {
      "cell_type": "code",
      "execution_count": null,
      "metadata": {
        "id": "HGIZtEY6y-wv"
      },
      "outputs": [],
      "source": [
        "# Settings for autoreloading.\n",
        "%load_ext autoreload\n",
        "%autoreload 2"
      ]
    },
    {
      "cell_type": "code",
      "execution_count": null,
      "metadata": {
        "id": "obBqbIuGy-wv"
      },
      "outputs": [],
      "source": [
        "from src.utils.seed import set_random_seed\n",
        "\n",
        "# Set the random seed for deterministic operations.\n",
        "SEED = 42\n",
        "set_random_seed(SEED)"
      ]
    },
    {
      "cell_type": "code",
      "execution_count": null,
      "metadata": {
        "colab": {
          "base_uri": "https://localhost:8080/"
        },
        "id": "uHGuhgDmy-wv",
        "outputId": "8521fc8a-3063-4d4f-c9fd-c7baf68fbf95"
      },
      "outputs": [
        {
          "name": "stdout",
          "output_type": "stream",
          "text": [
            "The selected device is: \"cuda\"\n"
          ]
        }
      ],
      "source": [
        "import torch\n",
        "\n",
        "# Set the device for training and querying the model.\n",
        "DEVICE = 'cuda' if torch.cuda.is_available() else 'cpu'\n",
        "print(f'The selected device is: \"{DEVICE}\"')"
      ]
    },
    {
      "cell_type": "markdown",
      "metadata": {
        "id": "xhVgau7-y-ww"
      },
      "source": [
        "# Loading the Data"
      ]
    },
    {
      "cell_type": "code",
      "execution_count": null,
      "metadata": {
        "id": "HlTWno-1y-wx"
      },
      "outputs": [],
      "source": [
        "import os\n",
        "\n",
        "BASE_DATA_DIR = os.path.join('.', 'data', 'metr-la')"
      ]
    },
    {
      "cell_type": "code",
      "execution_count": null,
      "metadata": {
        "id": "BbiHBGWSy-wx"
      },
      "outputs": [],
      "source": [
        "import pickle\n",
        "with open(os.path.join(BASE_DATA_DIR, 'processed', 'scaler.pkl'), 'rb') as f:\n",
        "    scaler = pickle.load(f)"
      ]
    },
    {
      "cell_type": "code",
      "execution_count": null,
      "metadata": {
        "id": "nb6d7kVZy-wx"
      },
      "outputs": [],
      "source": [
        "from src.spatial_temporal_gnn.model import SpatialTemporalGNN\n",
        "from src.data.data_extraction import get_adjacency_matrix\n",
        "\n",
        "# Get the adjacency matrix\n",
        "adj_matrix_structure = get_adjacency_matrix(\n",
        "    os.path.join(BASE_DATA_DIR, 'raw', 'adj_mx_metr_la.pkl'))\n",
        "\n",
        "# Get the header of the adjacency matrix, the node indices and the\n",
        "# matrix itself.\n",
        "header, node_ids_dict, adj_matrix = adj_matrix_structure\n",
        "\n",
        "# Get the STGNN and load the checkpoints.\n",
        "spatial_temporal_gnn = SpatialTemporalGNN(9, 1, 12, 12, adj_matrix, DEVICE, 64)\n",
        "\n",
        "stgnn_checkpoints_path = os.path.join('..', 'models', 'checkpoints',\n",
        "                                      'st_gnn_metr_la.pth')\n",
        "\n",
        "stgnn_checkpoints = torch.load(stgnn_checkpoints_path)\n",
        "spatial_temporal_gnn.load_state_dict(stgnn_checkpoints['model_state_dict'])\n",
        "\n",
        "# Set the STGNN in evaluation mode.\n",
        "spatial_temporal_gnn.eval();"
      ]
    },
    {
      "cell_type": "code",
      "execution_count": null,
      "metadata": {
        "id": "YIB5Kn57y-wx"
      },
      "outputs": [],
      "source": [
        "from src.data.data_extraction import get_locations_dataframe\n",
        "\n",
        "# Get the dataframe containing the latitude and longitude of each sensor.\n",
        "locations_df = get_locations_dataframe(\n",
        "    os.path.join(BASE_DATA_DIR, 'raw', 'graph_sensor_locations_metr_la.csv'),\n",
        "    has_header=True)"
      ]
    },
    {
      "cell_type": "code",
      "execution_count": null,
      "metadata": {
        "id": "kwVU6H96y-wy"
      },
      "outputs": [],
      "source": [
        "# Get the node positions dictionary.\n",
        "node_pos_dict = { i: id for id, i in node_ids_dict.items() }"
      ]
    },
    {
      "cell_type": "code",
      "execution_count": null,
      "metadata": {
        "id": "x-lj4muty-wy"
      },
      "outputs": [],
      "source": [
        "import pickle\n",
        "\n",
        "# Get the data scaler.\n",
        "with open(os.path.join(BASE_DATA_DIR, 'processed', 'scaler.pkl'), 'rb') as f:\n",
        "    scaler = pickle.load(f)"
      ]
    },
    {
      "cell_type": "code",
      "execution_count": null,
      "metadata": {
        "id": "kNItiWwGy-wy"
      },
      "outputs": [],
      "source": [
        "import os\n",
        "import numpy as np\n",
        "\n",
        "# Get the data and the values predicted by the STGNN.\n",
        "x_train = np.load(os.path.join(BASE_DATA_DIR, 'explainable', 'x_train.npy'))\n",
        "y_train = np.load(os.path.join(BASE_DATA_DIR, 'explainable', 'y_train.npy'))\n",
        "x_train_time = np.load(os.path.join(BASE_DATA_DIR, 'explainable', 'x_train_time.npy'))\n",
        "y_train_time = np.load(os.path.join(BASE_DATA_DIR, 'explainable', 'y_train_time.npy'))\n",
        "\n",
        "x_val = np.load(os.path.join(BASE_DATA_DIR, 'explainable', 'x_val.npy'))\n",
        "y_val = np.load(os.path.join(BASE_DATA_DIR, 'explainable', 'y_val.npy'))\n",
        "x_val_time = np.load(os.path.join(BASE_DATA_DIR, 'explainable', 'x_val_time.npy'))\n",
        "y_val_time = np.load(os.path.join(BASE_DATA_DIR, 'explainable', 'y_val_time.npy'))\n",
        "\n",
        "x_test = np.load(os.path.join(BASE_DATA_DIR, 'explainable', 'x_test.npy'))\n",
        "y_test = np.load(os.path.join(BASE_DATA_DIR, 'explainable', 'y_test.npy'))\n",
        "x_test_time = np.load(os.path.join(BASE_DATA_DIR, 'explainable', 'x_test_time.npy'))\n",
        "y_test_time = np.load(os.path.join(BASE_DATA_DIR, 'explainable', 'y_test_time.npy'))"
      ]
    },
    {
      "cell_type": "code",
      "execution_count": null,
      "metadata": {
        "id": "bCEWyqCvy-wz"
      },
      "outputs": [],
      "source": [
        "from src.data.data_processing import get_distance_matrix\n",
        "\n",
        "if not os.path.exists(\n",
        "    os.path.join(BASE_DATA_DIR, 'processed', 'distance_matrix.npy')):\n",
        "    # Build the distance matrix between the nodes.\n",
        "    distance_matrix = get_distance_matrix(\n",
        "        adj_matrix,\n",
        "        locations_df,\n",
        "        node_pos_dict)\n",
        "\n",
        "    # Save the distance matrix.\n",
        "    np.save(os.path.join(BASE_DATA_DIR, 'processed', 'distance_matrix.npy'),\n",
        "            distance_matrix)\n",
        "\n",
        "else:\n",
        "    # Load the distance matrix.\n",
        "    distance_matrix = np.load(\n",
        "        os.path.join(BASE_DATA_DIR, 'processed', 'distance_matrix.npy'))"
      ]
    },
    {
      "cell_type": "code",
      "execution_count": null,
      "metadata": {
        "colab": {
          "base_uri": "https://localhost:8080/"
        },
        "id": "pKZtVQc2y-wz",
        "outputId": "8c65db5f-3c0a-40da-b6fc-334c2662cff9"
      },
      "outputs": [
        {
          "name": "stdout",
          "output_type": "stream",
          "text": [
            "Testing: cut_size_factor: 2 explanation_size_factor: 2 exploration_weight: 5 n_rollouts: 30 remove_value: 0.0\n",
            "[100/100] - 605s - MAE: { severe_congestion 3.36 -congestion 1.61 -free_flow 0.889 - total: 1.91 } - RMSE: { severe_congestion 4 -congestion 2.01 -free_flow 1.09 - total: 2.31 } - MAPE: { severe_congestion 15% -congestion 3.39% -free_flow 1.36% - total: 6.5% } - Average time: 6.05s \n",
            "\n",
            "Testing: cut_size_factor: 2 explanation_size_factor: 2 exploration_weight: 5 n_rollouts: 30 remove_value: -10.0\n",
            "[100/100] - 603s - MAE: { severe_congestion 4.15 -congestion 1.65 -free_flow 1.16 - total: 2.28 } - RMSE: { severe_congestion 5.31 -congestion 2.05 -free_flow 1.43 - total: 2.88 } - MAPE: { severe_congestion 20% -congestion 3.49% -free_flow 1.78% - total: 8.4% } - Average time: 6.03s \n",
            "\n",
            "Testing: cut_size_factor: 2 explanation_size_factor: 2 exploration_weight: 5 n_rollouts: 50 remove_value: 0.0\n",
            "[100/100] - 924s - MAE: { severe_congestion 3.25 -congestion 1.4 -free_flow 0.71 - total: 1.76 } - RMSE: { severe_congestion 3.94 -congestion 1.75 -free_flow 0.916 - total: 2.17 } - MAPE: { severe_congestion 15.2% -congestion 2.88% -free_flow 1.09% - total: 6.38% } - Average time: 9.24s \n",
            "\n",
            "Testing: cut_size_factor: 2 explanation_size_factor: 2 exploration_weight: 5 n_rollouts: 50 remove_value: -10.0\n",
            "[100/100] - 911s - MAE: { severe_congestion 3.71 -congestion 1.53 -free_flow 0.965 - total: 2.04 } - RMSE: { severe_congestion 4.86 -congestion 1.9 -free_flow 1.2 - total: 2.61 } - MAPE: { severe_congestion 17.9% -congestion 3.24% -free_flow 1.47% - total: 7.5% } - Average time: 9.11s \n",
            "\n",
            "Testing: cut_size_factor: 2 explanation_size_factor: 2 exploration_weight: 10 n_rollouts: 30 remove_value: 0.0\n",
            "[100/100] - 526s - MAE: { severe_congestion 3.66 -congestion 1.66 -free_flow 0.812 - total: 2.01 } - RMSE: { severe_congestion 4.26 -congestion 2.05 -free_flow 1.02 - total: 2.41 } - MAPE: { severe_congestion 16.9% -congestion 3.48% -free_flow 1.25% - total: 7.2% } - Average time: 5.26s \n",
            "\n",
            "Testing: cut_size_factor: 2 explanation_size_factor: 2 exploration_weight: 10 n_rollouts: 30 remove_value: -10.0\n",
            "[100/100] - 550s - MAE: { severe_congestion 3.84 -congestion 1.7 -free_flow 1.13 - total: 2.17 } - RMSE: { severe_congestion 5.06 -congestion 2.11 -free_flow 1.37 - total: 2.78 } - MAPE: { severe_congestion 18.4% -congestion 3.58% -free_flow 1.72% - total: 7.82% } - Average time: 5.5s \n",
            "\n",
            "Testing: cut_size_factor: 2 explanation_size_factor: 2 exploration_weight: 10 n_rollouts: 50 remove_value: 0.0\n",
            "[100/100] - 885s - MAE: { severe_congestion 3.07 -congestion 1.37 -free_flow 0.747 - total: 1.7 } - RMSE: { severe_congestion 3.71 -congestion 1.68 -free_flow 0.939 - total: 2.07 } - MAPE: { severe_congestion 14.5% -congestion 2.85% -free_flow 1.15% - total: 6.13% } - Average time: 8.85s \n",
            "\n",
            "Testing: cut_size_factor: 2 explanation_size_factor: 2 exploration_weight: 10 n_rollouts: 50 remove_value: -10.0\n",
            "[100/100] - 862s - MAE: { severe_congestion 3.42 -congestion 1.48 -free_flow 1.02 - total: 1.93 } - RMSE: { severe_congestion 4.47 -congestion 1.84 -free_flow 1.28 - total: 2.48 } - MAPE: { severe_congestion 16.7% -congestion 3.07% -free_flow 1.56% - total: 7.04% } - Average time: 8.62s \n",
            "\n",
            "Testing: cut_size_factor: 2 explanation_size_factor: 2 exploration_weight: 20 n_rollouts: 30 remove_value: 0.0\n",
            "[100/100] - 529s - MAE: { severe_congestion 3.24 -congestion 1.43 -free_flow 0.809 - total: 1.79 } - RMSE: { severe_congestion 3.85 -congestion 1.76 -free_flow 0.994 - total: 2.15 } - MAPE: { severe_congestion 14.7% -congestion 2.99% -free_flow 1.24% - total: 6.26% } - Average time: 5.29s \n",
            "\n",
            "Testing: cut_size_factor: 2 explanation_size_factor: 2 exploration_weight: 20 n_rollouts: 30 remove_value: -10.0\n",
            "[100/100] - 514s - MAE: { severe_congestion 4.34 -congestion 1.54 -free_flow 1.15 - total: 2.3 } - RMSE: { severe_congestion 5.44 -congestion 1.95 -free_flow 1.4 - total: 2.88 } - MAPE: { severe_congestion 20.2% -congestion 3.18% -free_flow 1.76% - total: 8.34% } - Average time: 5.14s \n",
            "\n",
            "Testing: cut_size_factor: 2 explanation_size_factor: 2 exploration_weight: 20 n_rollouts: 50 remove_value: 0.0\n",
            "[100/100] - 880s - MAE: { severe_congestion 2.78 -congestion 1.35 -free_flow 0.71 - total: 1.58 } - RMSE: { severe_congestion 3.32 -congestion 1.65 -free_flow 0.875 - total: 1.91 } - MAPE: { severe_congestion 12.4% -congestion 2.8% -free_flow 1.09% - total: 5.37% } - Average time: 8.8s \n",
            "\n",
            "Testing: cut_size_factor: 2 explanation_size_factor: 2 exploration_weight: 20 n_rollouts: 50 remove_value: -10.0\n",
            "[100/100] - 847s - MAE: { severe_congestion 3.33 -congestion 1.49 -free_flow 0.989 - total: 1.89 } - RMSE: { severe_congestion 4.32 -congestion 1.85 -free_flow 1.2 - total: 2.4 } - MAPE: { severe_congestion 15.6% -congestion 3.14% -free_flow 1.51% - total: 6.68% } - Average time: 8.47s \n",
            "\n",
            "Testing: cut_size_factor: 2 explanation_size_factor: 3 exploration_weight: 5 n_rollouts: 30 remove_value: 0.0\n",
            "[100/100] - 651s - MAE: { severe_congestion 3.15 -congestion 1.65 -free_flow 0.751 - total: 1.82 } - RMSE: { severe_congestion 3.73 -congestion 2.06 -free_flow 0.952 - total: 2.22 } - MAPE: { severe_congestion 14.1% -congestion 3.5% -free_flow 1.16% - total: 6.21% } - Average time: 6.51s \n",
            "\n",
            "Testing: cut_size_factor: 2 explanation_size_factor: 3 exploration_weight: 5 n_rollouts: 30 remove_value: -10.0\n",
            "[100/100] - 651s - MAE: { severe_congestion 4.31 -congestion 1.72 -free_flow 0.987 - total: 2.31 } - RMSE: { severe_congestion 5.42 -congestion 2.15 -free_flow 1.23 - total: 2.9 } - MAPE: { severe_congestion 21.4% -congestion 3.63% -free_flow 1.51% - total: 8.85% } - Average time: 6.51s \n",
            "\n",
            "Testing: cut_size_factor: 2 explanation_size_factor: 3 exploration_weight: 5 n_rollouts: 50 remove_value: 0.0\n",
            "[100/100] - 1076s - MAE: { severe_congestion 2.93 -congestion 1.27 -free_flow 0.751 - total: 1.61 } - RMSE: { severe_congestion 3.6 -congestion 1.6 -free_flow 0.921 - total: 1.99 } - MAPE: { severe_congestion 13% -congestion 2.65% -free_flow 1.15% - total: 5.55% } - Average time: 10.8s \n",
            "\n",
            "Testing: cut_size_factor: 2 explanation_size_factor: 3 exploration_weight: 5 n_rollouts: 50 remove_value: -10.0\n",
            "[100/100] - 1131s - MAE: { severe_congestion 3.45 -congestion 1.49 -free_flow 1.06 - total: 1.95 } - RMSE: { severe_congestion 4.35 -congestion 1.87 -free_flow 1.31 - total: 2.44 } - MAPE: { severe_congestion 16.4% -congestion 3.16% -free_flow 1.61% - total: 6.98% } - Average time: 11.3s \n",
            "\n",
            "Testing: cut_size_factor: 2 explanation_size_factor: 3 exploration_weight: 10 n_rollouts: 30 remove_value: 0.0\n",
            "[100/100] - 646s - MAE: { severe_congestion 3.07 -congestion 1.62 -free_flow 0.774 - total: 1.77 } - RMSE: { severe_congestion 3.63 -congestion 1.89 -free_flow 0.973 - total: 2.11 } - MAPE: { severe_congestion 13.4% -congestion 3.37% -free_flow 1.19% - total: 5.88% } - Average time: 6.46s \n",
            "\n",
            "Testing: cut_size_factor: 2 explanation_size_factor: 3 exploration_weight: 10 n_rollouts: 30 remove_value: -10.0\n",
            "[100/100] - 645s - MAE: { severe_congestion 3.8 -congestion 1.61 -free_flow 1.13 - total: 2.14 } - RMSE: { severe_congestion 4.7 -congestion 2.01 -free_flow 1.39 - total: 2.65 } - MAPE: { severe_congestion 17.9% -congestion 3.38% -free_flow 1.72% - total: 7.64% } - Average time: 6.45s \n",
            "\n",
            "Testing: cut_size_factor: 2 explanation_size_factor: 3 exploration_weight: 10 n_rollouts: 50 remove_value: 0.0\n",
            "[100/100] - 1073s - MAE: { severe_congestion 2.82 -congestion 1.31 -free_flow 0.735 - total: 1.59 } - RMSE: { severe_congestion 3.51 -congestion 1.6 -free_flow 0.926 - total: 1.98 } - MAPE: { severe_congestion 12.8% -congestion 2.7% -free_flow 1.13% - total: 5.51% } - Average time: 10.7s \n",
            "\n",
            "Testing: cut_size_factor: 2 explanation_size_factor: 3 exploration_weight: 10 n_rollouts: 50 remove_value: -10.0\n",
            "[100/100] - 1129s - MAE: { severe_congestion 3.48 -congestion 1.4 -free_flow 1.06 - total: 1.93 } - RMSE: { severe_congestion 4.55 -congestion 1.77 -free_flow 1.3 - total: 2.49 } - MAPE: { severe_congestion 15.7% -congestion 2.94% -free_flow 1.61% - total: 6.68% } - Average time: 11.3s \n",
            "\n",
            "Testing: cut_size_factor: 2 explanation_size_factor: 3 exploration_weight: 20 n_rollouts: 30 remove_value: 0.0\n",
            "[100/100] - 684s - MAE: { severe_congestion 3.23 -congestion 1.54 -free_flow 0.847 - total: 1.83 } - RMSE: { severe_congestion 3.88 -congestion 1.89 -free_flow 1.06 - total: 2.23 } - MAPE: { severe_congestion 14.5% -congestion 3.17% -free_flow 1.3% - total: 6.26% } - Average time: 6.84s \n",
            "\n",
            "Testing: cut_size_factor: 2 explanation_size_factor: 3 exploration_weight: 20 n_rollouts: 30 remove_value: -10.0\n",
            "[100/100] - 677s - MAE: { severe_congestion 4.41 -congestion 1.61 -free_flow 1.09 - total: 2.31 } - RMSE: { severe_congestion 5.62 -congestion 1.97 -free_flow 1.33 - total: 2.9 } - MAPE: { severe_congestion 22.5% -congestion 3.4% -free_flow 1.67% - total: 9.12% } - Average time: 6.77s \n",
            "\n",
            "Testing: cut_size_factor: 2 explanation_size_factor: 3 exploration_weight: 20 n_rollouts: 50 remove_value: 0.0\n",
            "[100/100] - 1140s - MAE: { severe_congestion 2.96 -congestion 1.39 -free_flow 0.773 - total: 1.67 } - RMSE: { severe_congestion 3.57 -congestion 1.72 -free_flow 0.949 - total: 2.04 } - MAPE: { severe_congestion 13.1% -congestion 2.92% -free_flow 1.18% - total: 5.67% } - Average time: 11.4s \n",
            "\n",
            "Testing: cut_size_factor: 2 explanation_size_factor: 3 exploration_weight: 20 n_rollouts: 50 remove_value: -10.0\n",
            "[100/100] - 1181s - MAE: { severe_congestion 3.71 -congestion 1.42 -free_flow 1.01 - total: 2.01 } - RMSE: { severe_congestion 4.65 -congestion 1.76 -free_flow 1.24 - total: 2.5 } - MAPE: { severe_congestion 18.1% -congestion 2.92% -free_flow 1.55% - total: 7.51% } - Average time: 11.8s \n",
            "\n"
          ]
        }
      ],
      "source": [
        "from src.explanation.monte_carlo.explanation import apply_grid_search\n",
        "\n",
        "apply_grid_search(\n",
        "    x_train[::10],\n",
        "    y_train[::10],\n",
        "    distance_matrix,\n",
        "    spatial_temporal_gnn,\n",
        "    scaler,\n",
        "    n_rollouts_list=[30, 50],\n",
        "    explanation_size_factor_list=[2, 3],\n",
        "    cut_size_factor_list=[2],\n",
        "    exploration_weight_list=[5, 10, 20],\n",
        "    remove_value_list=[0., -10.])"
      ]
    },
    {
      "cell_type": "code",
      "execution_count": null,
      "metadata": {
        "id": "qVtOLnQ68GDf"
      },
      "outputs": [],
      "source": [
        "CUT_SIZE_FACTOR = 2\n",
        "EXPLANATION_SIZE_FACTOR = 2\n",
        "EXPLORATION_WEIGHT = 20\n",
        "N_ROLLOUTS = 50"
      ]
    },
    {
      "cell_type": "code",
      "execution_count": null,
      "metadata": {
        "id": "3FYN5mEu8GAl"
      },
      "outputs": [],
      "source": [
        "import os\n",
        "import numpy as np\n",
        "\n",
        "EXPLAINED_DATA_DIR = os.path.join(BASE_DATA_DIR, 'explained')\n",
        "os.makedirs(EXPLAINED_DATA_DIR, exist_ok=True)\n"
      ]
    },
    {
      "cell_type": "code",
      "execution_count": null,
      "metadata": {
        "colab": {
          "base_uri": "https://localhost:8080/"
        },
        "id": "kdB__0mW8F-E",
        "outputId": "efa6a460-a718-4ebf-c971-91be5d9af70e"
      },
      "outputs": [
        {
          "name": "stdout",
          "output_type": "stream",
          "text": [
            "Computing the explanations for the training set...\n",
            "[999/999] - 8995s - MAE: { severe_congestion 3.14 -congestion 1.49 -free_flow 0.673 - total: 1.76 } - RMSE: { severe_congestion 3.83 -congestion 1.85 -free_flow 0.842 - total: 2.17 } - MAPE: { severe_congestion 13.8% -congestion 3.02% -free_flow 1.03% - total: 5.95% } - Average time: 9s \n"
          ]
        }
      ],
      "source": [
        "from src.explanation.monte_carlo.explanation import get_all_explanations\n",
        "\n",
        "\n",
        "print('Computing the explanations for the training set...')\n",
        "x_train_explained, y_train_explained, train_scores = get_all_explanations(\n",
        "    x_train,\n",
        "    y_train,\n",
        "    distance_matrix,\n",
        "    spatial_temporal_gnn,\n",
        "    scaler,\n",
        "    n_rollouts=N_ROLLOUTS,\n",
        "    explanation_size_factor=EXPLANATION_SIZE_FACTOR,\n",
        "    cut_size_factor=CUT_SIZE_FACTOR,\n",
        "    exploration_weight=EXPLORATION_WEIGHT,\n",
        "    remove_value=0.,\n",
        "    divide_by_traffic_cluster_kind=True)\n",
        "\n",
        "# Save the explained data.\n",
        "np.save(os.path.join(EXPLAINED_DATA_DIR, 'x_train.npy'), x_train_explained)\n",
        "np.save(os.path.join(EXPLAINED_DATA_DIR, 'y_train.npy'), y_train_explained)\n",
        "np.save(os.path.join(EXPLAINED_DATA_DIR, 'train_scores.npy'), train_scores)\n",
        "np.save(os.path.join(EXPLAINED_DATA_DIR, 'x_train_time.npy'), x_train_time)\n",
        "np.save(os.path.join(EXPLAINED_DATA_DIR, 'y_train_time.npy'), y_train_time)\n"
      ]
    },
    {
      "cell_type": "code",
      "execution_count": null,
      "metadata": {
        "colab": {
          "base_uri": "https://localhost:8080/"
        },
        "id": "WdIyprvn8F7d",
        "outputId": "9861b103-c5e9-43ba-fa10-6482ad0b9258"
      },
      "outputs": [
        {
          "name": "stdout",
          "output_type": "stream",
          "text": [
            "Computing the explanations for the validation set...\n",
            "[198/198] - 1686s - MAE: { severe_congestion 3.75 -congestion 1.56 -free_flow 0.639 - total: 1.94 } - RMSE: { severe_congestion 4.44 -congestion 1.93 -free_flow 0.809 - total: 2.34 } - MAPE: { severe_congestion 17.7% -congestion 3.09% -free_flow 0.974% - total: 7.08% } - Average time: 8.51s \n"
          ]
        }
      ],
      "source": [
        "from src.explanation.monte_carlo.explanation import get_all_explanations\n",
        "\n",
        "\n",
        "print('Computing the explanations for the validation set...')\n",
        "x_val_explained, y_val_explained, val_scores = get_all_explanations(\n",
        "    x_val,\n",
        "    y_val,\n",
        "    distance_matrix,\n",
        "    spatial_temporal_gnn,\n",
        "    scaler,\n",
        "    n_rollouts=N_ROLLOUTS,\n",
        "    explanation_size_factor=EXPLANATION_SIZE_FACTOR,\n",
        "    cut_size_factor=CUT_SIZE_FACTOR,\n",
        "    exploration_weight=EXPLORATION_WEIGHT,\n",
        "    remove_value=0.,\n",
        "    divide_by_traffic_cluster_kind=True)\n",
        "\n",
        "# Save the explained data.\n",
        "np.save(os.path.join(EXPLAINED_DATA_DIR, 'x_val.npy'), x_val_explained)\n",
        "np.save(os.path.join(EXPLAINED_DATA_DIR, 'y_val.npy'), y_val_explained)\n",
        "np.save(os.path.join(EXPLAINED_DATA_DIR, 'val_scores.npy'), val_scores)\n",
        "np.save(os.path.join(EXPLAINED_DATA_DIR, 'x_val_time.npy'), x_val_time)\n",
        "np.save(os.path.join(EXPLAINED_DATA_DIR, 'y_val_time.npy'), y_val_time)"
      ]
    },
    {
      "cell_type": "code",
      "execution_count": 18,
      "metadata": {
        "colab": {
          "base_uri": "https://localhost:8080/"
        },
        "id": "x-U5tti38F4V",
        "outputId": "6677b430-d9b7-463f-bafc-c1541ed2a0f6"
      },
      "outputs": [
        {
          "name": "stdout",
          "output_type": "stream",
          "text": [
            "Computing the explanations for the test set...\n",
            "[300/300] - 2710s - MAE: { severe_congestion 3.27 -congestion 1.7 -free_flow 0.75 - total: 1.89 } - RMSE: { severe_congestion 3.94 -congestion 2.1 -free_flow 0.931 - total: 2.3 } - MAPE: { severe_congestion 14.2% -congestion 3.58% -free_flow 1.15% - total: 6.25% } - Average time: 9.03s \n"
          ]
        }
      ],
      "source": [
        "from src.explanation.monte_carlo.explanation import get_all_explanations\n",
        "\n",
        "\n",
        "print('Computing the explanations for the test set...')\n",
        "x_test_explained, y_test_explained, test_scores = get_all_explanations(\n",
        "    x_test,\n",
        "    y_test,\n",
        "    distance_matrix,\n",
        "    spatial_temporal_gnn,\n",
        "    scaler,\n",
        "    n_rollouts=N_ROLLOUTS,\n",
        "    explanation_size_factor=EXPLANATION_SIZE_FACTOR,\n",
        "    cut_size_factor=CUT_SIZE_FACTOR,\n",
        "    exploration_weight=EXPLORATION_WEIGHT,\n",
        "    remove_value=0.,\n",
        "    divide_by_traffic_cluster_kind=True)\n",
        "\n",
        "# Save the explained data.\n",
        "np.save(os.path.join(EXPLAINED_DATA_DIR, 'x_test.npy'), x_test_explained)\n",
        "np.save(os.path.join(EXPLAINED_DATA_DIR, 'y_test.npy'), y_test_explained)\n",
        "np.save(os.path.join(EXPLAINED_DATA_DIR, 'test_scores.npy'), test_scores)\n",
        "np.save(os.path.join(EXPLAINED_DATA_DIR, 'x_test_time.npy'), x_test_time)\n",
        "np.save(os.path.join(EXPLAINED_DATA_DIR, 'y_test_time.npy'), y_test_time)"
      ]
    }
  ],
  "metadata": {
    "accelerator": "GPU",
    "colab": {
      "gpuType": "T4",
      "provenance": []
    },
    "kernelspec": {
      "display_name": "Python 3",
      "name": "python3"
    },
    "language_info": {
      "codemirror_mode": {
        "name": "ipython",
        "version": 3
      },
      "file_extension": ".py",
      "mimetype": "text/x-python",
      "name": "python",
      "nbconvert_exporter": "python",
      "pygments_lexer": "ipython3",
      "version": "3.10.0"
    },
    "orig_nbformat": 4
  },
  "nbformat": 4,
  "nbformat_minor": 0
}
