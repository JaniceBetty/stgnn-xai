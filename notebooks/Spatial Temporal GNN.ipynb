{
 "cells": [
  {
   "cell_type": "code",
   "execution_count": null,
   "metadata": {},
   "outputs": [],
   "source": [
    "# Settings for autoreloading\n",
    "\n",
    "%load_ext autoreload\n",
    "%autoreload 2"
   ]
  },
  {
   "attachments": {},
   "cell_type": "markdown",
   "metadata": {},
   "source": [
    "https://github.com/LMissher/STGNN/blob/main/model.py"
   ]
  },
  {
   "cell_type": "code",
   "execution_count": 1,
   "metadata": {},
   "outputs": [
    {
     "name": "stderr",
     "output_type": "stream",
     "text": [
      "c:\\Users\\riccardo\\AppData\\Local\\Programs\\Python\\Python310\\lib\\site-packages\\tqdm\\auto.py:22: TqdmWarning: IProgress not found. Please update jupyter and ipywidgets. See https://ipywidgets.readthedocs.io/en/stable/user_install.html\n",
      "  from .autonotebook import tqdm as notebook_tqdm\n"
     ]
    }
   ],
   "source": [
    "import torch\n",
    "\n",
    "DEVICE = 'cuda' if torch.cuda.is_available() else 'cpu'"
   ]
  },
  {
   "cell_type": "code",
   "execution_count": 14,
   "metadata": {},
   "outputs": [
    {
     "name": "stdout",
     "output_type": "stream",
     "text": [
      "cuda\n"
     ]
    }
   ],
   "source": [
    "print(DEVICE)"
   ]
  },
  {
   "cell_type": "code",
   "execution_count": 92,
   "metadata": {},
   "outputs": [],
   "source": [
    "import torch\n",
    "import torch.nn as nn\n",
    "from typing import Tuple\n",
    "\n",
    "class S_GNN(nn.Module):\n",
    "    def __init__(self, input_dim: int) -> None:\n",
    "        super().__init__()\n",
    "        # Module to obtain the latent representation of the input.\n",
    "        # TODO: check if the latent representation is ok\n",
    "        self.latent_encoder = nn.Sequential(\n",
    "            nn.Linear(input_dim, input_dim),\n",
    "            nn.Linear(input_dim, input_dim)\n",
    "        )\n",
    "        # Linear layer to model the spatial feature extraction.\n",
    "        self.linear = nn.Linear(input_dim, input_dim)\n",
    "    \n",
    "    def forward(self, x: torch.Tensor):\n",
    "        # TODO: Check if the input itself is an Adjacency Matrix, otherwise one must be provided as A\n",
    "        # Get the latent representation of the input.\n",
    "        p = self.latent_encoder(x)\n",
    "        print(p.device)\n",
    "        with torch.no_grad():\n",
    "            # Get refined adjacency matrix: A_hat = A + I\n",
    "            # TODO: A_hat should probably be provided by the model since it is just a refined adjacency matrix, unless we pass the adjacency matrix as an input\n",
    "            A_hat = p + torch.eye(p.shape[0], p.shape[1], device=x.device)\n",
    "            # Apply score function: Score(p1, p2) = p1^T p2.\n",
    "            score = p.transpose(1, 0) @ p\n",
    "            # Pair-wise relation between any road node.\n",
    "            R = torch.relu(score).exp() / torch.relu(score).exp().sum()\n",
    "            # Get the sparsified relation matrix\n",
    "            R_hat = (A_hat > 0).float() * R + torch.eye(p.shape[0], p.shape[1], device=x.device)\n",
    "            # Get refined degree matrix for R_hat\n",
    "            D_hat = R_hat.sum(-1)\n",
    "            D_hat = torch.diag_embed(D_hat)\n",
    "\n",
    "            A = (D_hat ** -.5) @ R_hat @ (D_hat ** -.5)\n",
    "        A = A.to(x.device)\n",
    "        return torch.relu(self.linear(A @ x))\n",
    "\n",
    "class GRU(nn.Module):\n",
    "    def __init__(self, input_size: Tuple[int, int]) -> None:\n",
    "        super().__init__()\n",
    "        self.input_size = input_size\n",
    "        n_nodes, n_features = self.input_size\n",
    "        # Define a GRUCell layer for each node.\n",
    "        gru_list = [nn.GRUCell(n_features, n_features) for _ in range(n_nodes)]\n",
    "        self.gru_layers = nn.ModuleList(gru_list)\n",
    "        \n",
    "    def forward(self, x: torch.Tensor, x_h: torch.Tensor):\n",
    "        # Get number of nodes.\n",
    "        n_nodes, _ = self.input_size\n",
    "        # Apply GRU layer on each node features.\n",
    "        outs = [self.gru_layers[i](x[i,:], x_h[i,:]) for i in range(n_nodes)]\n",
    "        # Stack the results by row.\n",
    "        return torch.stack(outs, 0)#.to(x.device)"
   ]
  },
  {
   "cell_type": "code",
   "execution_count": 77,
   "metadata": {},
   "outputs": [
    {
     "data": {
      "text/plain": [
       "tensor([[12.0000,  3.3000],\n",
       "        [ 5.0000,  3.0000]])"
      ]
     },
     "execution_count": 77,
     "metadata": {},
     "output_type": "execute_result"
    }
   ],
   "source": []
  },
  {
   "cell_type": "code",
   "execution_count": 93,
   "metadata": {},
   "outputs": [
    {
     "name": "stdout",
     "output_type": "stream",
     "text": [
      "tensor([[12.0000,  3.3000],\n",
      "        [ 5.0000,  3.0000]], device='cuda:0')\n",
      "cuda:0\n",
      "tensor([[inf, nan],\n",
      "        [inf, nan]], device='cuda:0', grad_fn=<ReluBackward0>)\n"
     ]
    }
   ],
   "source": [
    "s = S_GNN(2).to(DEVICE)\n",
    "a = torch.tensor([[12., 3.3],\n",
    "                  [5., 3.]], device=DEVICE)\n",
    "print(a)\n",
    "d = s(a)\n",
    "\n",
    "print(d)"
   ]
  },
  {
   "cell_type": "code",
   "execution_count": 94,
   "metadata": {},
   "outputs": [
    {
     "name": "stdout",
     "output_type": "stream",
     "text": [
      "tensor([[12.0000,  3.3000],\n",
      "        [ 5.0000,  3.0000]], device='cuda:0')\n",
      "tensor([[ 5.8793,  1.2576],\n",
      "        [-0.4574,  1.6593]], device='cuda:0', grad_fn=<StackBackward0>)\n"
     ]
    }
   ],
   "source": [
    "s = GRU((2, 2)).to(DEVICE)\n",
    "a = torch.tensor([[12., 3.3],\n",
    "                  [5., 3.]], device=DEVICE)\n",
    "b = torch.tensor([[7., 1.3],\n",
    "                  [0., 3.]], device=DEVICE)\n",
    "print(a)\n",
    "d = s(a, b)\n",
    "\n",
    "print(d)"
   ]
  }
 ],
 "metadata": {
  "kernelspec": {
   "display_name": "Python 3",
   "language": "python",
   "name": "python3"
  },
  "language_info": {
   "codemirror_mode": {
    "name": "ipython",
    "version": 3
   },
   "file_extension": ".py",
   "mimetype": "text/x-python",
   "name": "python",
   "nbconvert_exporter": "python",
   "pygments_lexer": "ipython3",
   "version": "3.10.0"
  },
  "orig_nbformat": 4,
  "vscode": {
   "interpreter": {
    "hash": "0bb5e395f71e970ef2dfa88b10e29155c2f154fbffe5a547ccb4cc942724aa68"
   }
  }
 },
 "nbformat": 4,
 "nbformat_minor": 2
}
