{
  "cells": [
    {
      "cell_type": "code",
      "execution_count": 1,
      "metadata": {
        "id": "pNMabwihNVMJ"
      },
      "outputs": [],
      "source": [
        "import sys\n",
        "import os\n",
        "\n",
        "# Set the main path in the root folder of the project.\n",
        "sys.path.append(os.path.join('..'))"
      ]
    },
    {
      "cell_type": "code",
      "execution_count": 2,
      "metadata": {
        "id": "akmntiCeNVML"
      },
      "outputs": [],
      "source": [
        "# Settings for autoreloading.\n",
        "%load_ext autoreload\n",
        "%autoreload 2"
      ]
    },
    {
      "cell_type": "code",
      "execution_count": 3,
      "metadata": {
        "id": "bz3t5chKNVML"
      },
      "outputs": [],
      "source": [
        "from src.utils.seed import set_random_seed\n",
        "\n",
        "# Set the random seed for deterministic operations.\n",
        "SEED = 42\n",
        "set_random_seed(SEED)"
      ]
    },
    {
      "cell_type": "code",
      "execution_count": 4,
      "metadata": {
        "colab": {
          "base_uri": "https://localhost:8080/"
        },
        "id": "uYHHzttCNVML",
        "outputId": "44984c57-d7c6-441e-c8f9-beaa2f0f91cf"
      },
      "outputs": [
        {
          "name": "stdout",
          "output_type": "stream",
          "text": [
            "The selected device is: \"cuda\"\n"
          ]
        }
      ],
      "source": [
        "import torch\n",
        "\n",
        "# Set the device for training and querying the model.\n",
        "DEVICE = 'cuda' if torch.cuda.is_available() else 'cpu'\n",
        "print(f'The selected device is: \"{DEVICE}\"')"
      ]
    },
    {
      "cell_type": "markdown",
      "metadata": {
        "id": "5rb8fbXTNVMM"
      },
      "source": [
        "# Loading the Data"
      ]
    },
    {
      "cell_type": "code",
      "execution_count": 5,
      "metadata": {
        "id": "TkVgJC_lNVMM"
      },
      "outputs": [],
      "source": [
        "import os\n",
        "\n",
        "BASE_DATA_DIR = os.path.join('..', 'data', 'metr-la')"
      ]
    },
    {
      "cell_type": "code",
      "execution_count": 6,
      "metadata": {
        "id": "MSSvR-Z_NVMN"
      },
      "outputs": [],
      "source": [
        "import pickle\n",
        "with open(os.path.join(BASE_DATA_DIR, 'processed', 'scaler.pkl'), 'rb') as f:\n",
        "    scaler = pickle.load(f)"
      ]
    },
    {
      "cell_type": "code",
      "execution_count": 7,
      "metadata": {
        "id": "-v25AWgjNVMN"
      },
      "outputs": [],
      "source": [
        "from src.spatial_temporal_gnn.model import SpatialTemporalGNN\n",
        "from src.data.data_extraction import get_adjacency_matrix\n",
        "\n",
        "# Get the adjacency matrix\n",
        "adj_matrix_structure = get_adjacency_matrix(\n",
        "    os.path.join(BASE_DATA_DIR, 'raw', 'adj_mx_metr_la.pkl'))\n",
        "\n",
        "# Get the header of the adjacency matrix, the node indices and the\n",
        "# matrix itself.\n",
        "header, node_ids_dict, adj_matrix = adj_matrix_structure\n",
        "\n",
        "# Get the STGNN and load the checkpoints.\n",
        "spatial_temporal_gnn = SpatialTemporalGNN(9, 1, 12, 12, adj_matrix, DEVICE, 64)\n",
        "\n",
        "stgnn_checkpoints_path = os.path.join('..', 'models', 'checkpoints',\n",
        "                                      'st_gnn_metr_la.pth')\n",
        "\n",
        "stgnn_checkpoints = torch.load(stgnn_checkpoints_path)\n",
        "spatial_temporal_gnn.load_state_dict(stgnn_checkpoints['model_state_dict'])\n",
        "\n",
        "# Set the model in evaluation mode.\n",
        "spatial_temporal_gnn.eval();"
      ]
    },
    {
      "cell_type": "code",
      "execution_count": 8,
      "metadata": {
        "id": "D_0kVsPZNVMN"
      },
      "outputs": [],
      "source": [
        "from src.data.data_extraction import get_locations_dataframe\n",
        "\n",
        "# Get the dataframe containing the latitude and longitude of each sensor.\n",
        "locations_df = get_locations_dataframe(\n",
        "    os.path.join(BASE_DATA_DIR, 'raw', 'graph_sensor_locations_metr_la.csv'),\n",
        "    has_header=True)"
      ]
    },
    {
      "cell_type": "code",
      "execution_count": 9,
      "metadata": {
        "id": "IOfi4Gi_NVMN"
      },
      "outputs": [],
      "source": [
        "# Get the node positions dictionary.\n",
        "node_pos_dict = { i: id for id, i in node_ids_dict.items() }"
      ]
    },
    {
      "cell_type": "code",
      "execution_count": 10,
      "metadata": {
        "id": "kcK77WfNNVMN"
      },
      "outputs": [],
      "source": [
        "import os\n",
        "import numpy as np\n",
        "\n",
        "# Get the data and the values predicted by the STGNN.\n",
        "x_train = np.load(os.path.join(BASE_DATA_DIR, 'explained', 'x_train.npy'))[..., :1]\n",
        "x_val = np.load(os.path.join(BASE_DATA_DIR, 'explained', 'x_val.npy'))[..., :1]\n",
        "x_test = np.load(os.path.join(BASE_DATA_DIR, 'explained', 'x_test.npy'))[..., :1]"
      ]
    },
    {
      "cell_type": "code",
      "execution_count": 11,
      "metadata": {
        "id": "rsdHqdSrNVMO"
      },
      "outputs": [],
      "source": [
        "from src.utils.config import MPH_TO_KMH_FACTOR\n",
        "\n",
        "\n",
        "# Turn the dataset in kilometers per hour.\n",
        "x_train = x_train * MPH_TO_KMH_FACTOR\n",
        "x_val = x_val * MPH_TO_KMH_FACTOR\n",
        "x_test = x_test * MPH_TO_KMH_FACTOR"
      ]
    },
    {
      "cell_type": "code",
      "execution_count": 12,
      "metadata": {
        "id": "_m_SpjLoNVMO"
      },
      "outputs": [],
      "source": [
        "_, n_timesteps, n_nodes, _ = x_train.shape"
      ]
    },
    {
      "cell_type": "markdown",
      "metadata": {
        "id": "thIWL-07NVMO"
      },
      "source": [
        "# Adjacency Distance Matrix"
      ]
    },
    {
      "cell_type": "code",
      "execution_count": 13,
      "metadata": {
        "id": "vNVgD67ZNVMO"
      },
      "outputs": [],
      "source": [
        "from src.explanation.clustering.clustering import (\n",
        "    get_adjacency_distance_matrix)\n",
        "\n",
        "adj_distance_matrix = get_adjacency_distance_matrix(adj_matrix, n_timesteps)"
      ]
    },
    {
      "cell_type": "code",
      "execution_count": 14,
      "metadata": {
        "colab": {
          "base_uri": "https://localhost:8080/"
        },
        "id": "vXU3eW1bNVMO",
        "outputId": "f599616f-06c1-4534-afe3-c5691a5f493f"
      },
      "outputs": [
        {
          "name": "stdout",
          "output_type": "stream",
          "text": [
            "Shape of the Adjacency Distance Matrix: (2484, 2484)\n"
          ]
        }
      ],
      "source": [
        "print(f'Shape of the Adjacency Distance Matrix: {adj_distance_matrix.shape}')"
      ]
    },
    {
      "cell_type": "markdown",
      "metadata": {
        "id": "KJly2iprNVMO"
      },
      "source": [
        "# Temporal Distance Matrix"
      ]
    },
    {
      "cell_type": "code",
      "execution_count": 15,
      "metadata": {
        "id": "H0ozZtEuNVMO"
      },
      "outputs": [],
      "source": [
        "from src.explanation.clustering.clustering import (\n",
        "    get_temporal_distance_matrix)\n",
        "\n",
        "temporal_distance_matrix = get_temporal_distance_matrix(n_nodes, n_timesteps)"
      ]
    },
    {
      "cell_type": "code",
      "execution_count": 16,
      "metadata": {
        "colab": {
          "base_uri": "https://localhost:8080/"
        },
        "id": "mBF_PC1vNVMP",
        "outputId": "4ab1cdb5-c0a6-4b03-e103-b30ca68d5bee"
      },
      "outputs": [
        {
          "name": "stdout",
          "output_type": "stream",
          "text": [
            "Shape of the Temporal Distance Matrix: (2484, 2484)\n"
          ]
        }
      ],
      "source": [
        "print('Shape of the Temporal Distance Matrix:',\n",
        "      f'{temporal_distance_matrix.shape}')"
      ]
    },
    {
      "cell_type": "markdown",
      "metadata": {
        "id": "tscJViDnNVMP"
      },
      "source": [
        "# Clustering Function"
      ]
    },
    {
      "cell_type": "code",
      "execution_count": 420,
      "metadata": {},
      "outputs": [],
      "source": [
        "from sklearn.cluster import AgglomerativeClustering\n",
        "from scipy.spatial.distance import cdist\n",
        "\n",
        "def get_explanation_clusters(\n",
        "    x: np.ndarray,\n",
        "    adj_distance_matrix: np.ndarray,\n",
        "    temporal_distance_matrix: np.ndarray,\n",
        "    speed_distance_weight: float = 3,\n",
        "    n_clusters: int = 4,\n",
        "    ) -> np.ndarray:\n",
        "    \"\"\"\n",
        "    Get the clusters of the given explanation instance using the\n",
        "    k-medoids algorithm.\n",
        "\n",
        "    Parameters\n",
        "    ----------\n",
        "    instance : ndarray\n",
        "        The spatial-temporal graph instance to cluster.\n",
        "    adj_distance_matrix : ndarray\n",
        "        The adjacency matrix of the nodes in the graph measured in distance\n",
        "        between 0 and 1.\n",
        "    temporal_distance_matrix : ndarray\n",
        "        The matrix measuring the distance between the time steps\n",
        "        of the nodes in the graph between 0 and 1.\n",
        "    speed_distance_weight : float, optional\n",
        "        The weight of the speed distance in the clustering process,\n",
        "        by default 3.\n",
        "    n_clusters : int, optional\n",
        "        The number of clusters to find, by default 4.\n",
        "\n",
        "    Returns\n",
        "    -------\n",
        "    ndarray\n",
        "        The clusters of the given instance.\n",
        "    \"\"\"\n",
        "    n_timesteps, n_nodes, _ = x.shape\n",
        "\n",
        "    # Reshape the instance to be a column vector.\n",
        "    reshaped_instance = x.reshape(-2, 1)\n",
        "\n",
        "    # Compute the distance matrix between the speed of the nodes in the graph.\n",
        "    speed_distance_matrix = cdist(\n",
        "        reshaped_instance,\n",
        "        reshaped_instance,\n",
        "        'euclidean')\n",
        "    # Normalize the distance matrix between 0 and 1.\n",
        "    speed_distance_matrix /= np.max(speed_distance_matrix)\n",
        "\n",
        "    # Compute the weighted distance matrix between the nodes in the graph\n",
        "    # in terms of speed and the spatial and temporal distances.\n",
        "    distance_matrix = speed_distance_matrix * speed_distance_weight +\\\n",
        "        adj_distance_matrix + temporal_distance_matrix\n",
        "\n",
        "    # Set the distance between nodes that are not connected to an\n",
        "    # unreachable value.\n",
        "    distance_matrix[adj_distance_matrix == 1] = 1_000\n",
        "\n",
        "    # Get the non-zero indices of the reshaped instance.\n",
        "    non_zeros = np.where(reshaped_instance != 0)[0]\n",
        "    # Reduce distance matrix by solely considering the nodes that are\n",
        "    # present in the instance.\n",
        "    distance_matrix = distance_matrix[non_zeros, :][:, non_zeros]\n",
        "\n",
        "    # Compute the clusters of the given instance using the k-medoids\n",
        "    # algorithm.\n",
        "    agglomerative_clustering = AgglomerativeClustering(\n",
        "        n_clusters=n_clusters,\n",
        "        metric='precomputed',\n",
        "        linkage='single')\n",
        "\n",
        "    clusters = agglomerative_clustering.fit_predict(distance_matrix)\n",
        "\n",
        "    # Add a dummy dimension to the clusters array.\n",
        "    clusters = np.expand_dims(clusters, axis=1)\n",
        "\n",
        "    # Create a cluster vector with dummy -1 values.\n",
        "    clusters_vector = np.full_like(reshaped_instance, -1)\n",
        "    # Set the non-zero values of the cluster vector to the clusters\n",
        "    clusters_vector[non_zeros] = clusters[:]\n",
        "\n",
        "    # Reshape the clusters array to have the same shape as the instance.\n",
        "    clusters_vector = clusters_vector.reshape(n_timesteps, n_nodes, 1)\n",
        "\n",
        "    # Set the cluster IDs as integers.\n",
        "    clusters_vector = clusters_vector.astype(int)\n",
        "\n",
        "    return clusters_vector"
      ]
    },
    {
      "cell_type": "code",
      "execution_count": 432,
      "metadata": {},
      "outputs": [],
      "source": [
        "def get_mean_clusters_variance(\n",
        "    x: np.ndarray,\n",
        "    clusters: np.ndarray,\n",
        "    ignore_noise: bool = False\n",
        "    ) -> float:\n",
        "    \"\"\"\n",
        "    Get the Within-Cluster Variance metric of the clusters\n",
        "    obtained on the given instance in terms of speed.\n",
        "\n",
        "    Parameters\n",
        "    ----------\n",
        "    x : ndarray\n",
        "        The spatial-temporal graph instance on which the clusters\n",
        "        are evaluated.\n",
        "    clusters : ndarray\n",
        "        The clusters obtained on the given instance.\n",
        "\n",
        "    Returns\n",
        "    -------\n",
        "    float\n",
        "        The Within-Cluster Variance metric result.\n",
        "    \"\"\"\n",
        "    # Set the intial value of the numerator sum to 0.\n",
        "    numerator_sum = 0.\n",
        "    # Set the initial value of the total number of nodes to 0.\n",
        "    total_node_number = 0.\n",
        "\n",
        "    if ignore_noise:\n",
        "        cluster_types = [c for c in np.unique(clusters) if c >= 0]\n",
        "    else:\n",
        "        cluster_types = np.unique(clusters)\n",
        "    for c in cluster_types:\n",
        "        # Get the sub-sample of the nodes in the graph that belong to the\n",
        "        # current cluster.\n",
        "        sub_sample = x[clusters == c]\n",
        "        # Get the length of the sub-sample.\n",
        "        len_sub_sample = len(sub_sample)\n",
        "        # Update the total nominator sum.\n",
        "        numerator_sum += np.var(sub_sample) #* len_sub_sample\n",
        "        # Update the total number of nodes with the length of the sub-sample.\n",
        "        total_node_number += len_sub_sample\n",
        "    return numerator_sum / (total_node_number)"
      ]
    },
    {
      "cell_type": "code",
      "execution_count": 504,
      "metadata": {},
      "outputs": [
        {
          "name": "stdout",
          "output_type": "stream",
          "text": [
            "Variance within clusters: 5.452483550334905\n"
          ]
        }
      ],
      "source": [
        "i = 0\n",
        "\n",
        "cl = get_explanation_clusters(\n",
        "    x=x_train[i],\n",
        "    adj_distance_matrix=adj_distance_matrix,\n",
        "    temporal_distance_matrix=temporal_distance_matrix,\n",
        "    speed_distance_weight=3,\n",
        "    n_clusters=3)\n",
        "\n",
        "print('Variance within clusters:', get_mean_clusters_variance(\n",
        "    x_train[i],\n",
        "    cl,\n",
        "    ignore_noise=True))"
      ]
    },
    {
      "cell_type": "code",
      "execution_count": null,
      "metadata": {},
      "outputs": [],
      "source": []
    },
    {
      "cell_type": "code",
      "execution_count": null,
      "metadata": {},
      "outputs": [],
      "source": []
    },
    {
      "cell_type": "code",
      "execution_count": 58,
      "metadata": {},
      "outputs": [
        {
          "name": "stdout",
          "output_type": "stream",
          "text": [
            "[-1  0  1  2  3  4  5  6  7  8  9]\n",
            "Variance within clusters: 0.0970757680408836\n",
            "Dissimilarity between clusters: 30.283116096489607\n"
          ]
        }
      ],
      "source": [
        "from src.explanation.clustering.metrics import (\n",
        "    get_within_clusters_variance,\n",
        "    get_connected_cluster_dissimilarity)\n",
        "\n",
        "cl = get_explanation_clusters(\n",
        "    x=x_train[0],\n",
        "    adj_distance_matrix=adj_distance_matrix,\n",
        "    temporal_distance_matrix=temporal_distance_matrix,\n",
        "    speed_distance_weight=3,\n",
        "    distance_threshold=.5\n",
        "    )\n",
        "\n",
        "print(np.unique(cl))\n",
        "\n",
        "\n",
        "print('Variance within clusters:', get_within_clusters_variance(\n",
        "    x_train[0],\n",
        "    cl,\n",
        "    ignore_noise=True))\n",
        "print('Dissimilarity between clusters:',get_connected_cluster_dissimilarity(\n",
        "    x_train[0],\n",
        "    cl, ignore_noise=True))"
      ]
    },
    {
      "cell_type": "code",
      "execution_count": 61,
      "metadata": {},
      "outputs": [
        {
          "name": "stdout",
          "output_type": "stream",
          "text": [
            "[-1  0  1  2  3  4  5  6]\n",
            "Variance within clusters: 0.28257857846696\n",
            "Dissimilarity between clusters: 28.15513314273189\n"
          ]
        }
      ],
      "source": [
        "from src.explanation.clustering.metrics import (\n",
        "    get_within_clusters_variance,\n",
        "    get_connected_cluster_dissimilarity)\n",
        "\n",
        "cl = get_explanation_clusters(\n",
        "    x=x_train[0],\n",
        "    adj_distance_matrix=adj_distance_matrix,\n",
        "    temporal_distance_matrix=temporal_distance_matrix,\n",
        "    speed_distance_weight=3,\n",
        "    distance_threshold=1.\n",
        "    )\n",
        "\n",
        "print(np.unique(cl))\n",
        "\n",
        "\n",
        "print('Variance within clusters:', get_within_clusters_variance(\n",
        "    x_train[0],\n",
        "    cl,\n",
        "    ignore_noise=True))\n",
        "print('Dissimilarity between clusters:',get_connected_cluster_dissimilarity(\n",
        "    x_train[0],\n",
        "    cl, ignore_noise=True))"
      ]
    },
    {
      "cell_type": "code",
      "execution_count": 59,
      "metadata": {},
      "outputs": [
        {
          "name": "stdout",
          "output_type": "stream",
          "text": [
            "[-1  0  1  2  3  4]\n",
            "Variance within clusters: 4.083315684095293\n",
            "Dissimilarity between clusters: 22.777141667383862\n"
          ]
        }
      ],
      "source": [
        "from src.explanation.clustering.metrics import (\n",
        "    get_within_clusters_variance,\n",
        "    get_connected_cluster_dissimilarity)\n",
        "\n",
        "cl = get_explanation_clusters(\n",
        "    x=x_train[0],\n",
        "    adj_distance_matrix=adj_distance_matrix,\n",
        "    temporal_distance_matrix=temporal_distance_matrix,\n",
        "    speed_distance_weight=3,\n",
        "    distance_threshold=3.\n",
        "    )\n",
        "\n",
        "print(np.unique(cl))\n",
        "\n",
        "\n",
        "print('Variance within clusters:', get_within_clusters_variance(\n",
        "    x_train[0],\n",
        "    cl,\n",
        "    ignore_noise=True))\n",
        "print('Dissimilarity between clusters:',get_connected_cluster_dissimilarity(\n",
        "    x_train[0],\n",
        "    cl, ignore_noise=True))"
      ]
    },
    {
      "cell_type": "code",
      "execution_count": 83,
      "metadata": {},
      "outputs": [
        {
          "name": "stdout",
          "output_type": "stream",
          "text": [
            "[-1  0  1  2  3  4  5]\n",
            "Variance within clusters: 0.364716434831156\n",
            "Dissimilarity between clusters: 35.33421425279196\n"
          ]
        }
      ],
      "source": [
        "i = 10\n",
        "\n",
        "from src.explanation.clustering.metrics import (\n",
        "    get_within_clusters_variance,\n",
        "    get_connected_cluster_dissimilarity)\n",
        "\n",
        "cl = get_explanation_clusters(\n",
        "    x=x_train[i],\n",
        "    adj_distance_matrix=adj_distance_matrix,\n",
        "    temporal_distance_matrix=temporal_distance_matrix,\n",
        "    speed_distance_weight=3,\n",
        "    n_clusters=4\n",
        "    )\n",
        "\n",
        "print(np.unique(cl))\n",
        "\n",
        "print('Variance within clusters:', get_within_clusters_variance(\n",
        "    x_train[i],\n",
        "    cl,\n",
        "    ignore_noise=True))\n",
        "print('Dissimilarity between clusters:',get_connected_cluster_dissimilarity(\n",
        "    x_train[i],\n",
        "    cl, ignore_noise=True))"
      ]
    },
    {
      "cell_type": "code",
      "execution_count": 41,
      "metadata": {},
      "outputs": [
        {
          "ename": "AttributeError",
          "evalue": "'AgglomerativeClustering' object has no attribute 'bic'",
          "output_type": "error",
          "traceback": [
            "\u001b[1;31m---------------------------------------------------------------------------\u001b[0m",
            "\u001b[1;31mAttributeError\u001b[0m                            Traceback (most recent call last)",
            "\u001b[1;32mc:\\Users\\riccardo\\Desktop\\Verbal-Explanation-of-Graph-Neural-Networks-for-Traffic-Forecasting\\notebooks\\04 [AGGLOMERATIVE]_Clustering_the_Explanations_on_the_Metr_LA_Dataset.ipynb Cell 22\u001b[0m line \u001b[0;36m1\n\u001b[1;32m----> <a href='vscode-notebook-cell:/c%3A/Users/riccardo/Desktop/Verbal-Explanation-of-Graph-Neural-Networks-for-Traffic-Forecasting/notebooks/04%20%5BAGGLOMERATIVE%5D_Clustering_the_Explanations_on_the_Metr_LA_Dataset.ipynb#X40sZmlsZQ%3D%3D?line=0'>1</a>\u001b[0m cl, f \u001b[39m=\u001b[39m get_explanation_clusters(\n\u001b[0;32m      <a href='vscode-notebook-cell:/c%3A/Users/riccardo/Desktop/Verbal-Explanation-of-Graph-Neural-Networks-for-Traffic-Forecasting/notebooks/04%20%5BAGGLOMERATIVE%5D_Clustering_the_Explanations_on_the_Metr_LA_Dataset.ipynb#X40sZmlsZQ%3D%3D?line=1'>2</a>\u001b[0m     x\u001b[39m=\u001b[39;49mx_train[\u001b[39m0\u001b[39;49m],\n\u001b[0;32m      <a href='vscode-notebook-cell:/c%3A/Users/riccardo/Desktop/Verbal-Explanation-of-Graph-Neural-Networks-for-Traffic-Forecasting/notebooks/04%20%5BAGGLOMERATIVE%5D_Clustering_the_Explanations_on_the_Metr_LA_Dataset.ipynb#X40sZmlsZQ%3D%3D?line=2'>3</a>\u001b[0m     adj_distance_matrix\u001b[39m=\u001b[39;49madj_distance_matrix,\n\u001b[0;32m      <a href='vscode-notebook-cell:/c%3A/Users/riccardo/Desktop/Verbal-Explanation-of-Graph-Neural-Networks-for-Traffic-Forecasting/notebooks/04%20%5BAGGLOMERATIVE%5D_Clustering_the_Explanations_on_the_Metr_LA_Dataset.ipynb#X40sZmlsZQ%3D%3D?line=3'>4</a>\u001b[0m     temporal_distance_matrix\u001b[39m=\u001b[39;49mtemporal_distance_matrix,\n\u001b[0;32m      <a href='vscode-notebook-cell:/c%3A/Users/riccardo/Desktop/Verbal-Explanation-of-Graph-Neural-Networks-for-Traffic-Forecasting/notebooks/04%20%5BAGGLOMERATIVE%5D_Clustering_the_Explanations_on_the_Metr_LA_Dataset.ipynb#X40sZmlsZQ%3D%3D?line=4'>5</a>\u001b[0m     speed_distance_weight\u001b[39m=\u001b[39;49m\u001b[39m3\u001b[39;49m,\n\u001b[0;32m      <a href='vscode-notebook-cell:/c%3A/Users/riccardo/Desktop/Verbal-Explanation-of-Graph-Neural-Networks-for-Traffic-Forecasting/notebooks/04%20%5BAGGLOMERATIVE%5D_Clustering_the_Explanations_on_the_Metr_LA_Dataset.ipynb#X40sZmlsZQ%3D%3D?line=5'>6</a>\u001b[0m     )\n",
            "\u001b[1;32mc:\\Users\\riccardo\\Desktop\\Verbal-Explanation-of-Graph-Neural-Networks-for-Traffic-Forecasting\\notebooks\\04 [AGGLOMERATIVE]_Clustering_the_Explanations_on_the_Metr_LA_Dataset.ipynb Cell 22\u001b[0m line \u001b[0;36m7\n\u001b[0;32m     <a href='vscode-notebook-cell:/c%3A/Users/riccardo/Desktop/Verbal-Explanation-of-Graph-Neural-Networks-for-Traffic-Forecasting/notebooks/04%20%5BAGGLOMERATIVE%5D_Clustering_the_Explanations_on_the_Metr_LA_Dataset.ipynb#X40sZmlsZQ%3D%3D?line=70'>71</a>\u001b[0m fit \u001b[39m=\u001b[39m agglomerative_clustering\u001b[39m.\u001b[39mfit(distance_matrix)\n\u001b[0;32m     <a href='vscode-notebook-cell:/c%3A/Users/riccardo/Desktop/Verbal-Explanation-of-Graph-Neural-Networks-for-Traffic-Forecasting/notebooks/04%20%5BAGGLOMERATIVE%5D_Clustering_the_Explanations_on_the_Metr_LA_Dataset.ipynb#X40sZmlsZQ%3D%3D?line=71'>72</a>\u001b[0m clusters \u001b[39m=\u001b[39m fit\u001b[39m.\u001b[39mfit_predict(distance_matrix)\n\u001b[1;32m---> <a href='vscode-notebook-cell:/c%3A/Users/riccardo/Desktop/Verbal-Explanation-of-Graph-Neural-Networks-for-Traffic-Forecasting/notebooks/04%20%5BAGGLOMERATIVE%5D_Clustering_the_Explanations_on_the_Metr_LA_Dataset.ipynb#X40sZmlsZQ%3D%3D?line=72'>73</a>\u001b[0m fit\u001b[39m.\u001b[39;49mbic(distance_matrix)\n\u001b[0;32m     <a href='vscode-notebook-cell:/c%3A/Users/riccardo/Desktop/Verbal-Explanation-of-Graph-Neural-Networks-for-Traffic-Forecasting/notebooks/04%20%5BAGGLOMERATIVE%5D_Clustering_the_Explanations_on_the_Metr_LA_Dataset.ipynb#X40sZmlsZQ%3D%3D?line=74'>75</a>\u001b[0m \u001b[39m# Add a dummy dimension to the clusters array.\u001b[39;00m\n\u001b[0;32m     <a href='vscode-notebook-cell:/c%3A/Users/riccardo/Desktop/Verbal-Explanation-of-Graph-Neural-Networks-for-Traffic-Forecasting/notebooks/04%20%5BAGGLOMERATIVE%5D_Clustering_the_Explanations_on_the_Metr_LA_Dataset.ipynb#X40sZmlsZQ%3D%3D?line=75'>76</a>\u001b[0m clusters \u001b[39m=\u001b[39m np\u001b[39m.\u001b[39mexpand_dims(clusters, axis\u001b[39m=\u001b[39m\u001b[39m1\u001b[39m)\n",
            "\u001b[1;31mAttributeError\u001b[0m: 'AgglomerativeClustering' object has no attribute 'bic'"
          ]
        }
      ],
      "source": []
    },
    {
      "cell_type": "code",
      "execution_count": 39,
      "metadata": {},
      "outputs": [
        {
          "data": {
            "text/html": [
              "<style>#sk-container-id-1 {color: black;}#sk-container-id-1 pre{padding: 0;}#sk-container-id-1 div.sk-toggleable {background-color: white;}#sk-container-id-1 label.sk-toggleable__label {cursor: pointer;display: block;width: 100%;margin-bottom: 0;padding: 0.3em;box-sizing: border-box;text-align: center;}#sk-container-id-1 label.sk-toggleable__label-arrow:before {content: \"▸\";float: left;margin-right: 0.25em;color: #696969;}#sk-container-id-1 label.sk-toggleable__label-arrow:hover:before {color: black;}#sk-container-id-1 div.sk-estimator:hover label.sk-toggleable__label-arrow:before {color: black;}#sk-container-id-1 div.sk-toggleable__content {max-height: 0;max-width: 0;overflow: hidden;text-align: left;background-color: #f0f8ff;}#sk-container-id-1 div.sk-toggleable__content pre {margin: 0.2em;color: black;border-radius: 0.25em;background-color: #f0f8ff;}#sk-container-id-1 input.sk-toggleable__control:checked~div.sk-toggleable__content {max-height: 200px;max-width: 100%;overflow: auto;}#sk-container-id-1 input.sk-toggleable__control:checked~label.sk-toggleable__label-arrow:before {content: \"▾\";}#sk-container-id-1 div.sk-estimator input.sk-toggleable__control:checked~label.sk-toggleable__label {background-color: #d4ebff;}#sk-container-id-1 div.sk-label input.sk-toggleable__control:checked~label.sk-toggleable__label {background-color: #d4ebff;}#sk-container-id-1 input.sk-hidden--visually {border: 0;clip: rect(1px 1px 1px 1px);clip: rect(1px, 1px, 1px, 1px);height: 1px;margin: -1px;overflow: hidden;padding: 0;position: absolute;width: 1px;}#sk-container-id-1 div.sk-estimator {font-family: monospace;background-color: #f0f8ff;border: 1px dotted black;border-radius: 0.25em;box-sizing: border-box;margin-bottom: 0.5em;}#sk-container-id-1 div.sk-estimator:hover {background-color: #d4ebff;}#sk-container-id-1 div.sk-parallel-item::after {content: \"\";width: 100%;border-bottom: 1px solid gray;flex-grow: 1;}#sk-container-id-1 div.sk-label:hover label.sk-toggleable__label {background-color: #d4ebff;}#sk-container-id-1 div.sk-serial::before {content: \"\";position: absolute;border-left: 1px solid gray;box-sizing: border-box;top: 0;bottom: 0;left: 50%;z-index: 0;}#sk-container-id-1 div.sk-serial {display: flex;flex-direction: column;align-items: center;background-color: white;padding-right: 0.2em;padding-left: 0.2em;position: relative;}#sk-container-id-1 div.sk-item {position: relative;z-index: 1;}#sk-container-id-1 div.sk-parallel {display: flex;align-items: stretch;justify-content: center;background-color: white;position: relative;}#sk-container-id-1 div.sk-item::before, #sk-container-id-1 div.sk-parallel-item::before {content: \"\";position: absolute;border-left: 1px solid gray;box-sizing: border-box;top: 0;bottom: 0;left: 50%;z-index: -1;}#sk-container-id-1 div.sk-parallel-item {display: flex;flex-direction: column;z-index: 1;position: relative;background-color: white;}#sk-container-id-1 div.sk-parallel-item:first-child::after {align-self: flex-end;width: 50%;}#sk-container-id-1 div.sk-parallel-item:last-child::after {align-self: flex-start;width: 50%;}#sk-container-id-1 div.sk-parallel-item:only-child::after {width: 0;}#sk-container-id-1 div.sk-dashed-wrapped {border: 1px dashed gray;margin: 0 0.4em 0.5em 0.4em;box-sizing: border-box;padding-bottom: 0.4em;background-color: white;}#sk-container-id-1 div.sk-label label {font-family: monospace;font-weight: bold;display: inline-block;line-height: 1.2em;}#sk-container-id-1 div.sk-label-container {text-align: center;}#sk-container-id-1 div.sk-container {/* jupyter's `normalize.less` sets `[hidden] { display: none; }` but bootstrap.min.css set `[hidden] { display: none !important; }` so we also need the `!important` here to be able to override the default hidden behavior on the sphinx rendered scikit-learn.org. See: https://github.com/scikit-learn/scikit-learn/issues/21755 */display: inline-block !important;position: relative;}#sk-container-id-1 div.sk-text-repr-fallback {display: none;}</style><div id=\"sk-container-id-1\" class=\"sk-top-container\"><div class=\"sk-text-repr-fallback\"><pre>AgglomerativeClustering(distance_threshold=3.0, linkage=&#x27;average&#x27;,\n",
              "                        metric=&#x27;precomputed&#x27;, n_clusters=None)</pre><b>In a Jupyter environment, please rerun this cell to show the HTML representation or trust the notebook. <br />On GitHub, the HTML representation is unable to render, please try loading this page with nbviewer.org.</b></div><div class=\"sk-container\" hidden><div class=\"sk-item\"><div class=\"sk-estimator sk-toggleable\"><input class=\"sk-toggleable__control sk-hidden--visually\" id=\"sk-estimator-id-1\" type=\"checkbox\" checked><label for=\"sk-estimator-id-1\" class=\"sk-toggleable__label sk-toggleable__label-arrow\">AgglomerativeClustering</label><div class=\"sk-toggleable__content\"><pre>AgglomerativeClustering(distance_threshold=3.0, linkage=&#x27;average&#x27;,\n",
              "                        metric=&#x27;precomputed&#x27;, n_clusters=None)</pre></div></div></div></div></div>"
            ],
            "text/plain": [
              "AgglomerativeClustering(distance_threshold=3.0, linkage='average',\n",
              "                        metric='precomputed', n_clusters=None)"
            ]
          },
          "execution_count": 39,
          "metadata": {},
          "output_type": "execute_result"
        }
      ],
      "source": [
        "f.bic(distance_matrix)"
      ]
    },
    {
      "cell_type": "code",
      "execution_count": 36,
      "metadata": {},
      "outputs": [
        {
          "data": {
            "text/plain": [
              "array([-1,  0,  1,  2,  3,  4])"
            ]
          },
          "execution_count": 36,
          "metadata": {},
          "output_type": "execute_result"
        }
      ],
      "source": [
        "np.unique(cl)"
      ]
    },
    {
      "cell_type": "code",
      "execution_count": 33,
      "metadata": {},
      "outputs": [
        {
          "data": {
            "text/plain": [
              "'1.3.2'"
            ]
          },
          "execution_count": 33,
          "metadata": {},
          "output_type": "execute_result"
        }
      ],
      "source": [
        "# import sklearn\n",
        "# sklearn.__version__"
      ]
    },
    {
      "cell_type": "code",
      "execution_count": null,
      "metadata": {},
      "outputs": [],
      "source": []
    },
    {
      "cell_type": "code",
      "execution_count": 20,
      "metadata": {
        "colab": {
          "base_uri": "https://localhost:8080/"
        },
        "id": "Njmm1Md6NVMP",
        "outputId": "49136363-93e0-418f-dc23-8fdf22c2c9bf"
      },
      "outputs": [
        {
          "name": "stdout",
          "output_type": "stream",
          "text": [
            "Testing: n_clusters: 3 speed_distance_weight: 2\n",
            "[100/100] - 317s - Within Cluster Variance: 2.71 - Connected Clusters Dissimilarity: 17.5 - Average time: 3.17s \n",
            "Testing: n_clusters: 3 speed_distance_weight: 3\n",
            "[100/100] - 308s - Within Cluster Variance: 2.78 - Connected Clusters Dissimilarity: 17.4 - Average time: 3.08s \n",
            "Testing: n_clusters: 4 speed_distance_weight: 2\n",
            "[100/100] - 343s - Within Cluster Variance: 1.9 - Connected Clusters Dissimilarity: 18.2 - Average time: 3.42s \n",
            "Testing: n_clusters: 4 speed_distance_weight: 3\n",
            "[100/100] - 375s - Within Cluster Variance: 1.67 - Connected Clusters Dissimilarity: 18.9 - Average time: 3.75s \n",
            "Testing: n_clusters: 5 speed_distance_weight: 2\n",
            "[100/100] - 434s - Within Cluster Variance: 1.41 - Connected Clusters Dissimilarity: 18.2 - Average time: 4.34s \n",
            "Testing: n_clusters: 5 speed_distance_weight: 3\n",
            "[100/100] - 446s - Within Cluster Variance: 1.44 - Connected Clusters Dissimilarity: 18.4 - Average time: 4.45s \n"
          ]
        }
      ],
      "source": [
        "#from src.explanation.clustering.evaluation import (\n",
        "#    apply_grid_search_on_explanation_dataset)\n",
        "\n",
        "# Apply the grid search on a subset of the training set.\n",
        "apply_grid_search_on_explanation_dataset(\n",
        "    x=x_train[::10],\n",
        "    adj_distance_matrix=adj_distance_matrix,\n",
        "    temporal_distance_matrix=temporal_distance_matrix,\n",
        "    speed_distance_weight_list=[2, 3],\n",
        "    n_clusters_list=[3, 4, 5])"
      ]
    },
    {
      "cell_type": "code",
      "execution_count": 21,
      "metadata": {
        "id": "SV92J6_SNVMP"
      },
      "outputs": [],
      "source": [
        "# Set the best parameters based on the results of the grid search.\n",
        "\n",
        "SPEED_DISTANCE_WEIGHT = 3\n",
        "N_CLUSTERS = 4"
      ]
    },
    {
      "cell_type": "code",
      "execution_count": 22,
      "metadata": {
        "colab": {
          "base_uri": "https://localhost:8080/"
        },
        "id": "kCUEqjgjNVMP",
        "outputId": "5dc461c1-5ebc-49a8-da1c-acf715ae40ab"
      },
      "outputs": [
        {
          "name": "stdout",
          "output_type": "stream",
          "text": [
            "[995/995] - 3500s - Within Cluster Variance: 2.1 - Connected Clusters Dissimilarity: 17.4 - Average time: 3.52s \n"
          ]
        }
      ],
      "source": [
        "from src.explanation.clustering.evaluation import (\n",
        "    get_explanation_dataset_clustering_scores)\n",
        "\n",
        "get_explanation_dataset_clustering_scores(\n",
        "    x_train,\n",
        "    adj_distance_matrix=adj_distance_matrix,\n",
        "    temporal_distance_matrix=temporal_distance_matrix,\n",
        "    speed_distance_weight=SPEED_DISTANCE_WEIGHT,\n",
        "    n_clusters=N_CLUSTERS)"
      ]
    },
    {
      "cell_type": "code",
      "execution_count": 23,
      "metadata": {
        "colab": {
          "base_uri": "https://localhost:8080/"
        },
        "id": "USpZks2CNVMP",
        "outputId": "66979ab8-1b7c-4a34-b016-9868f18130da"
      },
      "outputs": [
        {
          "name": "stdout",
          "output_type": "stream",
          "text": [
            "[197/197] - 773s - Within Cluster Variance: 2.39 - Connected Clusters Dissimilarity: 17.4 - Average time: 3.92s \n"
          ]
        }
      ],
      "source": [
        "from src.explanation.clustering.evaluation import (\n",
        "    get_explanation_dataset_clustering_scores)\n",
        "\n",
        "get_explanation_dataset_clustering_scores(\n",
        "    x_val,\n",
        "    adj_distance_matrix=adj_distance_matrix,\n",
        "    temporal_distance_matrix=temporal_distance_matrix,\n",
        "    speed_distance_weight=SPEED_DISTANCE_WEIGHT,\n",
        "    n_clusters=N_CLUSTERS)"
      ]
    },
    {
      "cell_type": "code",
      "execution_count": 24,
      "metadata": {
        "colab": {
          "base_uri": "https://localhost:8080/"
        },
        "id": "9VcwH-RdNVMP",
        "outputId": "afe76543-aedd-4b4a-d0ea-9418d96bdc59"
      },
      "outputs": [
        {
          "name": "stdout",
          "output_type": "stream",
          "text": [
            "[299/299] - 1235s - Within Cluster Variance: 2.31 - Connected Clusters Dissimilarity: 18.4 - Average time: 4.13s \n"
          ]
        }
      ],
      "source": [
        "from src.explanation.clustering.evaluation import (\n",
        "    get_explanation_dataset_clustering_scores)\n",
        "\n",
        "get_explanation_dataset_clustering_scores(\n",
        "    x_test,\n",
        "    adj_distance_matrix=adj_distance_matrix,\n",
        "    temporal_distance_matrix=temporal_distance_matrix,\n",
        "    speed_distance_weight=SPEED_DISTANCE_WEIGHT,\n",
        "    n_clusters=N_CLUSTERS)"
      ]
    }
  ],
  "metadata": {
    "accelerator": "GPU",
    "colab": {
      "gpuType": "T4",
      "provenance": []
    },
    "kernelspec": {
      "display_name": "Python 3",
      "name": "python3"
    },
    "language_info": {
      "codemirror_mode": {
        "name": "ipython",
        "version": 3
      },
      "file_extension": ".py",
      "mimetype": "text/x-python",
      "name": "python",
      "nbconvert_exporter": "python",
      "pygments_lexer": "ipython3",
      "version": "3.10.0"
    },
    "orig_nbformat": 4
  },
  "nbformat": 4,
  "nbformat_minor": 0
}
