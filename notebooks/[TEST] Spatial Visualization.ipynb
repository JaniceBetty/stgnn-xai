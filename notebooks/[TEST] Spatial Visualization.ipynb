{
 "cells": [
  {
   "cell_type": "code",
   "execution_count": 25,
   "metadata": {},
   "outputs": [],
   "source": [
    "import sys\n",
    "import os\n",
    "\n",
    "# Set the main path in the root folder of the project.\n",
    "sys.path.append(os.path.join('..'))"
   ]
  },
  {
   "cell_type": "code",
   "execution_count": 26,
   "metadata": {},
   "outputs": [
    {
     "name": "stdout",
     "output_type": "stream",
     "text": [
      "The autoreload extension is already loaded. To reload it, use:\n",
      "  %reload_ext autoreload\n"
     ]
    }
   ],
   "source": [
    "# Settings for autoreloading\n",
    "\n",
    "%load_ext autoreload\n",
    "%autoreload 2"
   ]
  },
  {
   "cell_type": "code",
   "execution_count": 27,
   "metadata": {},
   "outputs": [],
   "source": [
    "# Set the base data directory.\n",
    "BASE_DATA_DIR = os.path.join('..', 'data', 'metr-la', 'raw')\n",
    "\n",
    "# Set the base configuration directory.\n",
    "BASE_CONFIG_DIR = os.path.join('..', 'config', 'kepler', 'metr-la')"
   ]
  },
  {
   "cell_type": "markdown",
   "metadata": {},
   "source": [
    "# 1 Dataset Download\n",
    "\n",
    "Firstly, the *Metr-LA* dataset is downloaded along with the dataset containing the latitude and lonngitude information of each sensor."
   ]
  },
  {
   "cell_type": "code",
   "execution_count": 28,
   "metadata": {},
   "outputs": [],
   "source": [
    "from src.data.data_extraction import get_node_values_dataframe\n",
    "\n",
    "# Get the dataframe containing the node values at different timestamps.\n",
    "node_values_df = get_node_values_dataframe(\n",
    "    os.path.join(BASE_DATA_DIR, 'metr-la.h5'), turn_in_kmph=True)"
   ]
  },
  {
   "cell_type": "code",
   "execution_count": 29,
   "metadata": {},
   "outputs": [
    {
     "data": {
      "text/html": [
       "<div>\n",
       "<style scoped>\n",
       "    .dataframe tbody tr th:only-of-type {\n",
       "        vertical-align: middle;\n",
       "    }\n",
       "\n",
       "    .dataframe tbody tr th {\n",
       "        vertical-align: top;\n",
       "    }\n",
       "\n",
       "    .dataframe thead th {\n",
       "        text-align: right;\n",
       "    }\n",
       "</style>\n",
       "<table border=\"1\" class=\"dataframe\">\n",
       "  <thead>\n",
       "    <tr style=\"text-align: right;\">\n",
       "      <th></th>\n",
       "      <th>773869</th>\n",
       "      <th>767541</th>\n",
       "      <th>767542</th>\n",
       "      <th>717447</th>\n",
       "      <th>717446</th>\n",
       "      <th>717445</th>\n",
       "      <th>773062</th>\n",
       "      <th>767620</th>\n",
       "      <th>737529</th>\n",
       "      <th>717816</th>\n",
       "      <th>...</th>\n",
       "      <th>772167</th>\n",
       "      <th>769372</th>\n",
       "      <th>774204</th>\n",
       "      <th>769806</th>\n",
       "      <th>717590</th>\n",
       "      <th>717592</th>\n",
       "      <th>717595</th>\n",
       "      <th>772168</th>\n",
       "      <th>718141</th>\n",
       "      <th>769373</th>\n",
       "    </tr>\n",
       "  </thead>\n",
       "  <tbody>\n",
       "    <tr>\n",
       "      <th>2012-03-01 00:00:00</th>\n",
       "      <td>103.601520</td>\n",
       "      <td>108.831888</td>\n",
       "      <td>108.027216</td>\n",
       "      <td>98.974656</td>\n",
       "      <td>107.624880</td>\n",
       "      <td>110.642400</td>\n",
       "      <td>104.808528</td>\n",
       "      <td>108.027216</td>\n",
       "      <td>95.957136</td>\n",
       "      <td>100.986336</td>\n",
       "      <td>...</td>\n",
       "      <td>73.426320</td>\n",
       "      <td>105.412032</td>\n",
       "      <td>103.802688</td>\n",
       "      <td>106.906423</td>\n",
       "      <td>107.624880</td>\n",
       "      <td>95.5548</td>\n",
       "      <td>111.044736</td>\n",
       "      <td>95.353632</td>\n",
       "      <td>111.044736</td>\n",
       "      <td>99.578160</td>\n",
       "    </tr>\n",
       "    <tr>\n",
       "      <th>2012-03-01 00:05:00</th>\n",
       "      <td>100.852224</td>\n",
       "      <td>110.329472</td>\n",
       "      <td>105.322624</td>\n",
       "      <td>100.494592</td>\n",
       "      <td>103.713280</td>\n",
       "      <td>109.614208</td>\n",
       "      <td>104.607360</td>\n",
       "      <td>104.607360</td>\n",
       "      <td>92.447872</td>\n",
       "      <td>101.925120</td>\n",
       "      <td>...</td>\n",
       "      <td>81.540096</td>\n",
       "      <td>112.452912</td>\n",
       "      <td>107.289600</td>\n",
       "      <td>94.236032</td>\n",
       "      <td>99.779328</td>\n",
       "      <td>98.3488</td>\n",
       "      <td>103.713280</td>\n",
       "      <td>89.944448</td>\n",
       "      <td>110.150656</td>\n",
       "      <td>101.187504</td>\n",
       "    </tr>\n",
       "    <tr>\n",
       "      <th>2012-03-01 00:10:00</th>\n",
       "      <td>102.998016</td>\n",
       "      <td>102.595680</td>\n",
       "      <td>96.560640</td>\n",
       "      <td>94.951296</td>\n",
       "      <td>107.021376</td>\n",
       "      <td>106.619040</td>\n",
       "      <td>103.802688</td>\n",
       "      <td>103.400352</td>\n",
       "      <td>102.796848</td>\n",
       "      <td>105.210864</td>\n",
       "      <td>...</td>\n",
       "      <td>71.012304</td>\n",
       "      <td>111.044736</td>\n",
       "      <td>90.927936</td>\n",
       "      <td>95.353632</td>\n",
       "      <td>109.636560</td>\n",
       "      <td>100.5840</td>\n",
       "      <td>105.613200</td>\n",
       "      <td>98.773488</td>\n",
       "      <td>112.424174</td>\n",
       "      <td>99.779328</td>\n",
       "    </tr>\n",
       "    <tr>\n",
       "      <th>2012-03-01 00:15:00</th>\n",
       "      <td>0.000000</td>\n",
       "      <td>0.000000</td>\n",
       "      <td>0.000000</td>\n",
       "      <td>0.000000</td>\n",
       "      <td>0.000000</td>\n",
       "      <td>0.000000</td>\n",
       "      <td>0.000000</td>\n",
       "      <td>0.000000</td>\n",
       "      <td>0.000000</td>\n",
       "      <td>0.000000</td>\n",
       "      <td>...</td>\n",
       "      <td>0.000000</td>\n",
       "      <td>0.000000</td>\n",
       "      <td>0.000000</td>\n",
       "      <td>0.000000</td>\n",
       "      <td>0.000000</td>\n",
       "      <td>0.0000</td>\n",
       "      <td>0.000000</td>\n",
       "      <td>0.000000</td>\n",
       "      <td>0.000000</td>\n",
       "      <td>0.000000</td>\n",
       "    </tr>\n",
       "    <tr>\n",
       "      <th>2012-03-01 00:20:00</th>\n",
       "      <td>0.000000</td>\n",
       "      <td>0.000000</td>\n",
       "      <td>0.000000</td>\n",
       "      <td>0.000000</td>\n",
       "      <td>0.000000</td>\n",
       "      <td>0.000000</td>\n",
       "      <td>0.000000</td>\n",
       "      <td>0.000000</td>\n",
       "      <td>0.000000</td>\n",
       "      <td>0.000000</td>\n",
       "      <td>...</td>\n",
       "      <td>0.000000</td>\n",
       "      <td>0.000000</td>\n",
       "      <td>0.000000</td>\n",
       "      <td>0.000000</td>\n",
       "      <td>0.000000</td>\n",
       "      <td>0.0000</td>\n",
       "      <td>0.000000</td>\n",
       "      <td>0.000000</td>\n",
       "      <td>0.000000</td>\n",
       "      <td>0.000000</td>\n",
       "    </tr>\n",
       "  </tbody>\n",
       "</table>\n",
       "<p>5 rows × 207 columns</p>\n",
       "</div>"
      ],
      "text/plain": [
       "                         773869      767541      767542      717447  \\\n",
       "2012-03-01 00:00:00  103.601520  108.831888  108.027216   98.974656   \n",
       "2012-03-01 00:05:00  100.852224  110.329472  105.322624  100.494592   \n",
       "2012-03-01 00:10:00  102.998016  102.595680   96.560640   94.951296   \n",
       "2012-03-01 00:15:00    0.000000    0.000000    0.000000    0.000000   \n",
       "2012-03-01 00:20:00    0.000000    0.000000    0.000000    0.000000   \n",
       "\n",
       "                         717446      717445      773062      767620  \\\n",
       "2012-03-01 00:00:00  107.624880  110.642400  104.808528  108.027216   \n",
       "2012-03-01 00:05:00  103.713280  109.614208  104.607360  104.607360   \n",
       "2012-03-01 00:10:00  107.021376  106.619040  103.802688  103.400352   \n",
       "2012-03-01 00:15:00    0.000000    0.000000    0.000000    0.000000   \n",
       "2012-03-01 00:20:00    0.000000    0.000000    0.000000    0.000000   \n",
       "\n",
       "                         737529      717816  ...     772167      769372  \\\n",
       "2012-03-01 00:00:00   95.957136  100.986336  ...  73.426320  105.412032   \n",
       "2012-03-01 00:05:00   92.447872  101.925120  ...  81.540096  112.452912   \n",
       "2012-03-01 00:10:00  102.796848  105.210864  ...  71.012304  111.044736   \n",
       "2012-03-01 00:15:00    0.000000    0.000000  ...   0.000000    0.000000   \n",
       "2012-03-01 00:20:00    0.000000    0.000000  ...   0.000000    0.000000   \n",
       "\n",
       "                         774204      769806      717590    717592      717595  \\\n",
       "2012-03-01 00:00:00  103.802688  106.906423  107.624880   95.5548  111.044736   \n",
       "2012-03-01 00:05:00  107.289600   94.236032   99.779328   98.3488  103.713280   \n",
       "2012-03-01 00:10:00   90.927936   95.353632  109.636560  100.5840  105.613200   \n",
       "2012-03-01 00:15:00    0.000000    0.000000    0.000000    0.0000    0.000000   \n",
       "2012-03-01 00:20:00    0.000000    0.000000    0.000000    0.0000    0.000000   \n",
       "\n",
       "                        772168      718141      769373  \n",
       "2012-03-01 00:00:00  95.353632  111.044736   99.578160  \n",
       "2012-03-01 00:05:00  89.944448  110.150656  101.187504  \n",
       "2012-03-01 00:10:00  98.773488  112.424174   99.779328  \n",
       "2012-03-01 00:15:00   0.000000    0.000000    0.000000  \n",
       "2012-03-01 00:20:00   0.000000    0.000000    0.000000  \n",
       "\n",
       "[5 rows x 207 columns]"
      ]
     },
     "execution_count": 29,
     "metadata": {},
     "output_type": "execute_result"
    }
   ],
   "source": [
    "node_values_df.head()"
   ]
  },
  {
   "cell_type": "code",
   "execution_count": 30,
   "metadata": {},
   "outputs": [
    {
     "name": "stdout",
     "output_type": "stream",
     "text": [
      "Shape of the node value dataframe: (34272, 207)\n"
     ]
    }
   ],
   "source": [
    "print('Shape of the node value dataframe:', node_values_df.shape)"
   ]
  },
  {
   "cell_type": "code",
   "execution_count": 31,
   "metadata": {},
   "outputs": [],
   "source": [
    "from src.data.data_extraction import get_locations_dataframe\n",
    "\n",
    "# Get the dataframe containing the latitude and longitude of each sensor.\n",
    "locations_df = get_locations_dataframe(\n",
    "    os.path.join(BASE_DATA_DIR, 'graph_sensor_locations_metr_la.csv'),\n",
    "    has_header=True)"
   ]
  },
  {
   "cell_type": "code",
   "execution_count": 32,
   "metadata": {},
   "outputs": [],
   "source": [
    "from src.spatial_temporal_gnn.model import SpatialTemporalGNN\n",
    "from src.data.data_extraction import get_adjacency_matrix\n",
    "\n",
    "# Get the adjacency matrix\n",
    "adj_matrix_structure = get_adjacency_matrix(\n",
    "    os.path.join(BASE_DATA_DIR, 'adj_mx_metr_la.pkl'))\n",
    "\n",
    "# Get the header of the adjacency matrix, the node indices and the\n",
    "# matrix itself.\n",
    "header, node_ids_dict, adj_matrix = adj_matrix_structure\n"
   ]
  },
  {
   "cell_type": "code",
   "execution_count": 34,
   "metadata": {},
   "outputs": [
    {
     "data": {
      "text/html": [
       "<div>\n",
       "<style scoped>\n",
       "    .dataframe tbody tr th:only-of-type {\n",
       "        vertical-align: middle;\n",
       "    }\n",
       "\n",
       "    .dataframe tbody tr th {\n",
       "        vertical-align: top;\n",
       "    }\n",
       "\n",
       "    .dataframe thead th {\n",
       "        text-align: right;\n",
       "    }\n",
       "</style>\n",
       "<table border=\"1\" class=\"dataframe\">\n",
       "  <thead>\n",
       "    <tr style=\"text-align: right;\">\n",
       "      <th></th>\n",
       "      <th>sensor_id</th>\n",
       "      <th>latitude</th>\n",
       "      <th>longitude</th>\n",
       "    </tr>\n",
       "    <tr>\n",
       "      <th>index</th>\n",
       "      <th></th>\n",
       "      <th></th>\n",
       "      <th></th>\n",
       "    </tr>\n",
       "  </thead>\n",
       "  <tbody>\n",
       "    <tr>\n",
       "      <th>0</th>\n",
       "      <td>773869</td>\n",
       "      <td>34.15497</td>\n",
       "      <td>-118.31829</td>\n",
       "    </tr>\n",
       "    <tr>\n",
       "      <th>1</th>\n",
       "      <td>767541</td>\n",
       "      <td>34.11621</td>\n",
       "      <td>-118.23799</td>\n",
       "    </tr>\n",
       "    <tr>\n",
       "      <th>2</th>\n",
       "      <td>767542</td>\n",
       "      <td>34.11641</td>\n",
       "      <td>-118.23819</td>\n",
       "    </tr>\n",
       "    <tr>\n",
       "      <th>3</th>\n",
       "      <td>717447</td>\n",
       "      <td>34.07248</td>\n",
       "      <td>-118.26772</td>\n",
       "    </tr>\n",
       "    <tr>\n",
       "      <th>4</th>\n",
       "      <td>717446</td>\n",
       "      <td>34.07142</td>\n",
       "      <td>-118.26572</td>\n",
       "    </tr>\n",
       "  </tbody>\n",
       "</table>\n",
       "</div>"
      ],
      "text/plain": [
       "      sensor_id  latitude  longitude\n",
       "index                               \n",
       "0        773869  34.15497 -118.31829\n",
       "1        767541  34.11621 -118.23799\n",
       "2        767542  34.11641 -118.23819\n",
       "3        717447  34.07248 -118.26772\n",
       "4        717446  34.07142 -118.26572"
      ]
     },
     "execution_count": 34,
     "metadata": {},
     "output_type": "execute_result"
    }
   ],
   "source": [
    "locations_df.head()"
   ]
  },
  {
   "cell_type": "code",
   "execution_count": 35,
   "metadata": {},
   "outputs": [
    {
     "name": "stdout",
     "output_type": "stream",
     "text": [
      "Shape of the locations dataframe: (207, 3)\n"
     ]
    }
   ],
   "source": [
    "print('Shape of the locations dataframe:', locations_df.shape)"
   ]
  },
  {
   "cell_type": "markdown",
   "metadata": {},
   "source": [
    "# 2 Spatial Analysis\n",
    "\n",
    "The spatial network representing the city is observed. The network covers the area of central *Los Angeles* and it includes the *Glendale*, *Burbank* and *La Cañada Flintridge* areas. On the west, it extends up to the *Sepulveda* zone."
   ]
  },
  {
   "cell_type": "code",
   "execution_count": null,
   "metadata": {},
   "outputs": [],
   "source": []
  },
  {
   "cell_type": "markdown",
   "metadata": {},
   "source": [
    "Style: https://raw.githubusercontent.com/heshan0131/kepler.gl-data/master/style/basic.json"
   ]
  },
  {
   "cell_type": "markdown",
   "metadata": {},
   "source": [
    "Radius 15"
   ]
  },
  {
   "cell_type": "code",
   "execution_count": 36,
   "metadata": {},
   "outputs": [
    {
     "name": "stdout",
     "output_type": "stream",
     "text": [
      "Metr-LA spatial map:\n"
     ]
    },
    {
     "data": {
      "application/vnd.jupyter.widget-view+json": {
       "model_id": "3dcab768b7074a62959dfd7da65573b3",
       "version_major": 2,
       "version_minor": 0
      },
      "text/plain": [
       "KeplerGl(config={'version': 'v1', 'config': {'visState': {'layers': [{'id': 'msruhg9', 'type': 'point', 'confi…"
      ]
     },
     "metadata": {},
     "output_type": "display_data"
    }
   ],
   "source": [
    "from src.data.data_analysis import show_kepler_map\n",
    "\n",
    "print('Metr-LA spatial map:')\n",
    "show_kepler_map(locations_df,\n",
    "                os.path.join(BASE_CONFIG_DIR, 'spatial-map.json'))"
   ]
  },
  {
   "cell_type": "code",
   "execution_count": null,
   "metadata": {},
   "outputs": [],
   "source": []
  }
 ],
 "metadata": {
  "kernelspec": {
   "display_name": "Python 3",
   "language": "python",
   "name": "python3"
  },
  "language_info": {
   "codemirror_mode": {
    "name": "ipython",
    "version": 3
   },
   "file_extension": ".py",
   "mimetype": "text/x-python",
   "name": "python",
   "nbconvert_exporter": "python",
   "pygments_lexer": "ipython3",
   "version": "3.10.0"
  }
 },
 "nbformat": 4,
 "nbformat_minor": 2
}
