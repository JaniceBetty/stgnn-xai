{
  "cells": [
    {
      "cell_type": "markdown",
      "metadata": {},
      "source": [
        "<center>\n",
        "    <h1>Verbal Explanation of Spatial Temporal GNNs for Traffic Forecasting</h1>\n",
        "    <h2>Monte Carlo Tree Search on the PeMS-Bay dataset</h2>\n",
        "</center>\n",
        "\n",
        "---\n",
        "\n",
        "In this notebook the explanations of the predicted events of the *STGNN* on the *PeMS-Bay* dataset are computed by means of an *Explainer*. The explainer is an MCTS algorithm that performs a localized search on the input graph of the instance to be explained. It returns the important subgraph which serves as the explanation of the predicted selected event outputed by the STGNN. The search space is cut by a transparent *global heuristic* that exploits traffic domain-specific characteristics and limits the search on a subgraph of the input graph composed of the top scoring nodes according to the global heuristic. The explainer is inspired by the paper *Explaining temporal graph models through an explorer-navigator framework* <a name=\"cite_paper\"></a>[<sup>[1]</sup>](#note_paper).\n",
        "\n",
        "Firstly, grid search is applied to the training set in order to tune the hyperparameters of the explainer, afterwards, the important subgraphs of each dataset are extracted and the results are evaluated.\n",
        "\n",
        "For more detailed informations about the used functions, look into the corresponding docstrings inside the python files, inside the `src` folder.\n",
        "\n",
        "---\n",
        "<small>\n",
        "\n",
        "<a name=\"note_paper\"></a>[1]\n",
        "W. Xia et al. “Explaining temporal graph models through an explorer-navigator framework”. In: *The\n",
        "Eleventh International Conference on Learning Representations*, 2023.\n",
        "URL: https://openreview.net/forum?id=BR_ZhvcYbGJ.\n",
        "</small>"
      ]
    },
    {
      "cell_type": "code",
      "execution_count": 4,
      "metadata": {
        "id": "6kbAULJKy-wu"
      },
      "outputs": [],
      "source": [
        "import sys\n",
        "import os\n",
        "\n",
        "# Set the main path in the root folder of the project.\n",
        "sys.path.append(os.path.join('..'))"
      ]
    },
    {
      "cell_type": "code",
      "execution_count": 5,
      "metadata": {
        "id": "HGIZtEY6y-wv"
      },
      "outputs": [
        {
          "name": "stdout",
          "output_type": "stream",
          "text": [
            "The autoreload extension is already loaded. To reload it, use:\n",
            "  %reload_ext autoreload\n"
          ]
        }
      ],
      "source": [
        "# Settings for autoreloading.\n",
        "%load_ext autoreload\n",
        "%autoreload 2"
      ]
    },
    {
      "cell_type": "code",
      "execution_count": 6,
      "metadata": {
        "id": "obBqbIuGy-wv"
      },
      "outputs": [],
      "source": [
        "from src.utils.seed import set_random_seed\n",
        "\n",
        "# Set the random seed for deterministic operations.\n",
        "SEED = 42\n",
        "set_random_seed(SEED)"
      ]
    },
    {
      "cell_type": "code",
      "execution_count": 7,
      "metadata": {
        "colab": {
          "base_uri": "https://localhost:8080/"
        },
        "id": "uHGuhgDmy-wv",
        "outputId": "f72a962b-a8e4-4741-c313-28fb904159be"
      },
      "outputs": [
        {
          "name": "stdout",
          "output_type": "stream",
          "text": [
            "The selected device is: \"cuda\"\n"
          ]
        }
      ],
      "source": [
        "import torch\n",
        "\n",
        "# Set the device for training and querying the model.\n",
        "DEVICE = 'cuda' if torch.cuda.is_available() else 'cpu'\n",
        "print(f'The selected device is: \"{DEVICE}\"')"
      ]
    },
    {
      "cell_type": "markdown",
      "metadata": {
        "id": "xhVgau7-y-ww"
      },
      "source": [
        "# 1 Loading the Data\n",
        "In this section the data is loaded"
      ]
    },
    {
      "cell_type": "code",
      "execution_count": 8,
      "metadata": {
        "id": "HlTWno-1y-wx"
      },
      "outputs": [],
      "source": [
        "import os\n",
        "\n",
        "BASE_DATA_DIR = os.path.join('..', 'data', 'pems-bay')"
      ]
    },
    {
      "cell_type": "code",
      "execution_count": 9,
      "metadata": {
        "id": "BbiHBGWSy-wx"
      },
      "outputs": [],
      "source": [
        "import pickle\n",
        "with open(os.path.join(BASE_DATA_DIR, 'processed', 'scaler.pkl'), 'rb') as f:\n",
        "    scaler = pickle.load(f)"
      ]
    },
    {
      "cell_type": "code",
      "execution_count": 10,
      "metadata": {
        "id": "nb6d7kVZy-wx"
      },
      "outputs": [],
      "source": [
        "from src.spatial_temporal_gnn.model import SpatialTemporalGNN\n",
        "from src.data.data_extraction import get_adjacency_matrix\n",
        "\n",
        "# Get the adjacency matrix\n",
        "adj_matrix_structure = get_adjacency_matrix(\n",
        "    os.path.join(BASE_DATA_DIR, 'raw', 'adj_mx_pems_bay.pkl'))\n",
        "\n",
        "# Get the header of the adjacency matrix, the node indices and the\n",
        "# matrix itself.\n",
        "header, node_ids_dict, adj_matrix = adj_matrix_structure\n",
        "\n",
        "# Get the STGNN and load the checkpoints.\n",
        "spatial_temporal_gnn = SpatialTemporalGNN(9, 1, 12, 12, adj_matrix, DEVICE, 64)\n",
        "\n",
        "stgnn_checkpoints_path = os.path.join('..', 'models', 'checkpoints',\n",
        "                                      'st_gnn_pems_bay.pth')\n",
        "\n",
        "stgnn_checkpoints = torch.load(stgnn_checkpoints_path)\n",
        "spatial_temporal_gnn.load_state_dict(stgnn_checkpoints['model_state_dict'])\n",
        "\n",
        "# Set the STGNN in evaluation mode.\n",
        "spatial_temporal_gnn.eval();"
      ]
    },
    {
      "cell_type": "code",
      "execution_count": 11,
      "metadata": {
        "id": "YIB5Kn57y-wx"
      },
      "outputs": [],
      "source": [
        "from src.data.data_extraction import get_locations_dataframe\n",
        "\n",
        "# Get the dataframe containing the latitude and longitude of each sensor.\n",
        "locations_df = get_locations_dataframe(\n",
        "    os.path.join(BASE_DATA_DIR, 'raw', 'graph_sensor_locations_pems_bay.csv'),\n",
        "    has_header=False)"
      ]
    },
    {
      "cell_type": "code",
      "execution_count": 12,
      "metadata": {
        "id": "kwVU6H96y-wy"
      },
      "outputs": [],
      "source": [
        "# Get the node positions dictionary.\n",
        "node_pos_dict = { i: id for id, i in node_ids_dict.items() }"
      ]
    },
    {
      "cell_type": "code",
      "execution_count": 13,
      "metadata": {
        "id": "x-lj4muty-wy"
      },
      "outputs": [],
      "source": [
        "import pickle\n",
        "\n",
        "# Get the data scaler.\n",
        "with open(os.path.join(BASE_DATA_DIR, 'processed', 'scaler.pkl'), 'rb') as f:\n",
        "    scaler = pickle.load(f)"
      ]
    },
    {
      "cell_type": "code",
      "execution_count": 14,
      "metadata": {
        "id": "kNItiWwGy-wy"
      },
      "outputs": [],
      "source": [
        "import os\n",
        "import numpy as np\n",
        "\n",
        "# Get the data and the values predicted by the STGNN.\n",
        "x_train = np.load(os.path.join(BASE_DATA_DIR, 'explainable', 'x_train.npy'))\n",
        "y_train = np.load(os.path.join(BASE_DATA_DIR, 'explainable', 'y_train.npy'))\n",
        "x_train_time = np.load(os.path.join(BASE_DATA_DIR, 'explainable', 'x_train_time.npy'))\n",
        "y_train_time = np.load(os.path.join(BASE_DATA_DIR, 'explainable', 'y_train_time.npy'))\n",
        "\n",
        "x_val = np.load(os.path.join(BASE_DATA_DIR, 'explainable', 'x_val.npy'))\n",
        "y_val = np.load(os.path.join(BASE_DATA_DIR, 'explainable', 'y_val.npy'))\n",
        "x_val_time = np.load(os.path.join(BASE_DATA_DIR, 'explainable', 'x_val_time.npy'))\n",
        "y_val_time = np.load(os.path.join(BASE_DATA_DIR, 'explainable', 'y_val_time.npy'))\n",
        "\n",
        "x_test = np.load(os.path.join(BASE_DATA_DIR, 'explainable', 'x_test.npy'))\n",
        "y_test = np.load(os.path.join(BASE_DATA_DIR, 'explainable', 'y_test.npy'))\n",
        "x_test_time = np.load(os.path.join(BASE_DATA_DIR, 'explainable', 'x_test_time.npy'))\n",
        "y_test_time = np.load(os.path.join(BASE_DATA_DIR, 'explainable', 'y_test_time.npy'))"
      ]
    },
    {
      "cell_type": "markdown",
      "metadata": {},
      "source": [
        "# 2 Explainer\n",
        "In this section the explainer algorithm is applied through a grid search on the train dataset, then the results are evaluated.\n",
        "\n",
        "The explainer firstly computes a global heuristic $c_{v_i, v_j}^t$ among all input nodes $v_i$ at timesteps $t$ and the nodes of the event to explain $v_j$ as:\n",
        "$$ c_{v_i, v_j}^t = \\frac{\\Delta t}{\\Delta d} + \\frac{\\exp (- (\\Delta t + \\Delta d))}{\\Delta s} $$\n",
        "Where $\\Delta t$ is the temporal distance between $t$ and the last timestep of $v_j$, $\\Delta d$ their spatial distance and $\\Delta s$ the abdolute difference between the speed of $v_i$ at time $t$ and the average speed of $v_j$ in the event to explain.\n",
        "\n",
        "Afterwards, it performs a MCTS using the input subgraph composed of top scoring nodes by the heuristic as the root of the tree. It performs a series of rollout that involve choosing a path from the root to a leaf node. At each branching, a node of the graph described in the tree node is removed and a child tree node is obtained. The leaf node respects a sparsity threshold, as its graph has a limited pre-defined number of nodes. In practice, given node of the tree $\\mathcal{N}_i$:\n",
        "    \n",
        "1. A new tree node is expanded from $\\mathcal{N}_i$ according to an action. The action consists in removing a specific traffic node in the graph described in $\\mathcal{N}_i$.\n",
        "2. A child node is selected from $\\mathcal{N}_i$ among the expanded ones. In particular, it is selected the child node that maximizes exploration and exploitation.\n",
        "3. If $\\mathcal{N}_i$ is a leaf node, its reward is computed using the STGNN $\\Phi$.\n",
        "4. If $\\mathcal{N}_i$ is a leaf node, its reward is backpropagated from it up to the path nodes until the root is reached to update information useful for exploration and exploitation in the tree search.\n",
        "\n",
        "Ultimately, the final explanation outcome defined as the important subgraph is determined by the subgraph of the leaf node that attains the highest reward and which meets the specified sparsity threshold."
      ]
    },
    {
      "cell_type": "markdown",
      "metadata": {},
      "source": [
        "## 2.1 Spatial Distance Matrix\n",
        "Firstly, a speed distance matrix is built in order to compute the shortest distance in kms for each pair of nodes. This matrix is built by firstly finding the shortest path between couple of nodes through the distance matrix $A$ and then computing the length of the path in kms.\n",
        "\n",
        "Given a path $[n_1, ..., n_m]$, the distance among $n_1$ and $n_m$ is obtained as:\n",
        "$$ \\sum_{i}^{m -1} \\text{geodesic}(n_i, n_{i+1})$$"
      ]
    },
    {
      "cell_type": "code",
      "execution_count": 12,
      "metadata": {
        "id": "bCEWyqCvy-wz"
      },
      "outputs": [],
      "source": [
        "from src.data.data_processing import get_distance_matrix\n",
        "\n",
        "if not os.path.exists(\n",
        "    os.path.join(BASE_DATA_DIR, 'processed', 'distance_matrix.npy')):\n",
        "    # Build the distance matrix between the nodes.\n",
        "    distance_matrix = get_distance_matrix(\n",
        "        adj_matrix,\n",
        "        locations_df,\n",
        "        node_pos_dict)\n",
        "\n",
        "    # Save the distance matrix.\n",
        "    np.save(os.path.join(BASE_DATA_DIR, 'processed', 'distance_matrix.npy'),\n",
        "            distance_matrix)\n",
        "\n",
        "else:\n",
        "    # Load the distance matrix.\n",
        "    distance_matrix = np.load(\n",
        "        os.path.join(BASE_DATA_DIR, 'processed', 'distance_matrix.npy'))"
      ]
    },
    {
      "cell_type": "markdown",
      "metadata": {},
      "source": [
        "## 2.2 Grid Search\n",
        "\n",
        "Grid search is performed on a portion of the train dataset in order to find the best set of hyperparameters of the Explainer:\n",
        "* `explanation size factor`: multiplied by the number of the nodes of the event to explain, defines the size of the important subgraph found by the explainer;\n",
        "* `cut size factor`: multiplied by `explanation size factor`, defines the number of top scoring nodes of the input graph according to the global heuristic that have to be used to cut the search;\n",
        "* `exploration weight`: parameter to weight the exploration in the MCTS;\n",
        "* `n rollouts`: the number of simulations to perform in the MCTS.\n",
        "* `remove value`: The value used to flag the missing data speed in the important subgraph. \n",
        "\n",
        "The results are evaluated in terms of *Fidelity*$^-$ and *average time* to output the subgraph.\n",
        "\n",
        "* **Fidelity**$^\\textbf{-}$\n",
        "    $$\n",
        "        \\text{Fidelity}^- = \\frac{1}{N}  \\sum_{i=1}^N (\\Phi(\\mathcal{G}_i) - \\Phi({\\mathcal{G}}_i^m))\n",
        "    $$\n",
        "    with $N$ the number of instances, $\\Phi$ the STGNN, $\\mathcal{G}_i$ the $i^th$ input graph and $\\mathcal{G}_i^m$ the important subgraph.\n",
        "    The error $\\Phi(\\mathcal{G}_i) - \\Phi({\\mathcal{G}}_i^m)$ is computed using *MAE*, *RMSE* and *MAPE*.\n",
        "\n",
        "* **Average time:**\n",
        "    It measures the average time employed to output the important subgraph by for each instance."
      ]
    },
    {
      "cell_type": "code",
      "execution_count": null,
      "metadata": {
        "colab": {
          "base_uri": "https://localhost:8080/"
        },
        "id": "y70iKYfv2P9r",
        "outputId": "22baca3d-8c29-4999-9e6b-1d722b37c7dc"
      },
      "outputs": [
        {
          "name": "stdout",
          "output_type": "stream",
          "text": [
            "Testing: cut_size_factor: 2 explanation_size_factor: 2 exploration_weight: 5 n_rollouts: 30 remove_value: perturb\n",
            "[100/100] - 586s - MAE: { severe_congestion 3.98 -congestion 2.02 -free_flow 0.849 - total: 2.05 } - RMSE: { severe_congestion 4.45 -congestion 2.28 -free_flow 0.968 - total: 2.33 } - MAPE: { severe_congestion 16.9% -congestion 4.03% -free_flow 1.27% - total: 6.81% } - Average time: 5.86s \n",
            "\n",
            "Testing: cut_size_factor: 2 explanation_size_factor: 2 exploration_weight: 5 n_rollouts: 30 remove_value: 0.0\n",
            "[100/100] - 582s - MAE: { severe_congestion 11.3 -congestion 2.7 -free_flow 1.69 - total: 5.24 } - RMSE: { severe_congestion 11.6 -congestion 3.17 -free_flow 1.91 - total: 5.57 } - MAPE: { severe_congestion 56.5% -congestion 5.53% -free_flow 2.51% - total: 21.7% } - Average time: 5.82s \n",
            "\n",
            "Testing: cut_size_factor: 2 explanation_size_factor: 2 exploration_weight: 5 n_rollouts: 50 remove_value: perturb\n",
            "[100/100] - 937s - MAE: { severe_congestion 3.31 -congestion 1.78 -free_flow 0.836 - total: 1.94 } - RMSE: { severe_congestion 3.66 -congestion 2.13 -free_flow 1.02 - total: 2.24 } - MAPE: { severe_congestion 14.3% -congestion 3.73% -free_flow 1.25% - total: 6.41% } - Average time: 9.37s \n",
            "\n",
            "Testing: cut_size_factor: 2 explanation_size_factor: 2 exploration_weight: 5 n_rollouts: 50 remove_value: 0.0\n",
            "[100/100] - 975s - MAE: { severe_congestion 10.8 -congestion 2.53 -free_flow 1.61 - total: 4.97 } - RMSE: { severe_congestion 11.1 -congestion 2.93 -free_flow 1.8 - total: 5.27 } - MAPE: { severe_congestion 54.2% -congestion 5.17% -free_flow 2.38% - total: 20.8% } - Average time: 9.75s \n",
            "\n",
            "Testing: cut_size_factor: 2 explanation_size_factor: 2 exploration_weight: 10 n_rollouts: 30 remove_value: perturb\n",
            "[100/100] - 592s - MAE: { severe_congestion 3.69 -congestion 1.63 -free_flow 0.69 - total: 1.87 } - RMSE: { severe_congestion 4.11 -congestion 1.76 -free_flow 0.795 - total: 2.09 } - MAPE: { severe_congestion 15.3% -congestion 3.36% -free_flow 1.04% - total: 6.21% } - Average time: 5.92s \n",
            "\n",
            "Testing: cut_size_factor: 2 explanation_size_factor: 2 exploration_weight: 10 n_rollouts: 30 remove_value: 0.0\n",
            "[100/100] - 583s - MAE: { severe_congestion 11.2 -congestion 2.73 -free_flow 1.71 - total: 5.2 } - RMSE: { severe_congestion 11.5 -congestion 3.14 -free_flow 1.94 - total: 5.5 } - MAPE: { severe_congestion 55.8% -congestion 5.55% -free_flow 2.53% - total: 21.5% } - Average time: 5.83s \n",
            "\n",
            "Testing: cut_size_factor: 2 explanation_size_factor: 2 exploration_weight: 10 n_rollouts: 50 remove_value: perturb\n",
            "[100/100] - 950s - MAE: { severe_congestion 4.1 -congestion 1.91 -free_flow 0.768 - total: 2.13 } - RMSE: { severe_congestion 4.58 -congestion 2.23 -free_flow 0.863 - total: 2.43 } - MAPE: { severe_congestion 17.9% -congestion 4.04% -free_flow 1.16% - total: 7.37% } - Average time: 9.5s \n",
            "\n",
            "Testing: cut_size_factor: 2 explanation_size_factor: 2 exploration_weight: 10 n_rollouts: 50 remove_value: 0.0\n",
            "[100/100] - 967s - MAE: { severe_congestion 10.8 -congestion 2.23 -free_flow 1.6 - total: 4.89 } - RMSE: { severe_congestion 11.1 -congestion 2.67 -free_flow 1.81 - total: 5.19 } - MAPE: { severe_congestion 54.3% -congestion 4.5% -free_flow 2.36% - total: 20.6% } - Average time: 9.67s \n",
            "\n",
            "Testing: cut_size_factor: 2 explanation_size_factor: 2 exploration_weight: 20 n_rollouts: 30 remove_value: perturb\n",
            "[100/100] - 579s - MAE: { severe_congestion 3.31 -congestion 1.79 -free_flow 0.796 - total: 1.86 } - RMSE: { severe_congestion 3.71 -congestion 2.08 -free_flow 0.953 - total: 2.13 } - MAPE: { severe_congestion 14.1% -congestion 3.54% -free_flow 1.2% - total: 6.07% } - Average time: 5.79s \n",
            "\n",
            "Testing: cut_size_factor: 2 explanation_size_factor: 2 exploration_weight: 20 n_rollouts: 30 remove_value: 0.0\n",
            "[100/100] - 577s - MAE: { severe_congestion 11 -congestion 2.67 -free_flow 1.81 - total: 5.15 } - RMSE: { severe_congestion 11.3 -congestion 3.17 -free_flow 2.07 - total: 5.48 } - MAPE: { severe_congestion 55.1% -congestion 5.46% -free_flow 2.67% - total: 21.3% } - Average time: 5.77s \n",
            "\n",
            "Testing: cut_size_factor: 2 explanation_size_factor: 2 exploration_weight: 20 n_rollouts: 50 remove_value: perturb\n",
            "[100/100] - 949s - MAE: { severe_congestion 4.09 -congestion 1.34 -free_flow 0.897 - total: 2.08 } - RMSE: { severe_congestion 4.67 -congestion 1.55 -free_flow 1 - total: 2.38 } - MAPE: { severe_congestion 18.4% -congestion 2.72% -free_flow 1.35% - total: 7.49% } - Average time: 9.49s \n",
            "\n",
            "Testing: cut_size_factor: 2 explanation_size_factor: 2 exploration_weight: 20 n_rollouts: 50 remove_value: 0.0\n",
            "[100/100] - 959s - MAE: { severe_congestion 10.7 -congestion 2.39 -free_flow 1.74 - total: 4.95 } - RMSE: { severe_congestion 11 -congestion 2.88 -free_flow 1.95 - total: 5.26 } - MAPE: { severe_congestion 54.1% -congestion 4.89% -free_flow 2.58% - total: 20.7% } - Average time: 9.59s \n",
            "\n",
            "Testing: cut_size_factor: 2 explanation_size_factor: 3 exploration_weight: 5 n_rollouts: 30 remove_value: perturb\n",
            "[100/100] - 770s - MAE: { severe_congestion 3.87 -congestion 1.59 -free_flow 0.837 - total: 2.03 } - RMSE: { severe_congestion 4.47 -congestion 1.84 -free_flow 0.963 - total: 2.36 } - MAPE: { severe_congestion 18% -congestion 3.12% -free_flow 1.26% - total: 7.36% } - Average time: 7.7s \n",
            "\n",
            "Testing: cut_size_factor: 2 explanation_size_factor: 3 exploration_weight: 5 n_rollouts: 30 remove_value: 0.0\n",
            "[100/100] - 753s - MAE: { severe_congestion 11.4 -congestion 2.61 -free_flow 1.83 - total: 5.27 } - RMSE: { severe_congestion 11.7 -congestion 3.14 -free_flow 2.08 - total: 5.62 } - MAPE: { severe_congestion 56.7% -congestion 5.31% -free_flow 2.72% - total: 21.7% } - Average time: 7.53s \n",
            "\n",
            "Testing: cut_size_factor: 2 explanation_size_factor: 3 exploration_weight: 5 n_rollouts: 50 remove_value: perturb\n",
            "[100/100] - 1274s - MAE: { severe_congestion 4.12 -congestion 1.77 -free_flow 0.933 - total: 2.21 } - RMSE: { severe_congestion 4.61 -congestion 2.01 -free_flow 1.07 - total: 2.5 } - MAPE: { severe_congestion 17.2% -congestion 3.6% -free_flow 1.41% - total: 7.27% } - Average time: 12.7s \n",
            "\n",
            "Testing: cut_size_factor: 2 explanation_size_factor: 3 exploration_weight: 5 n_rollouts: 50 remove_value: 0.0\n",
            "[100/100] - 1264s - MAE: { severe_congestion 10.9 -congestion 2.08 -free_flow 1.65 - total: 4.87 } - RMSE: { severe_congestion 11.2 -congestion 2.55 -free_flow 1.87 - total: 5.19 } - MAPE: { severe_congestion 54.3% -congestion 4.19% -free_flow 2.44% - total: 20.5% } - Average time: 12.6s \n",
            "\n",
            "Testing: cut_size_factor: 2 explanation_size_factor: 3 exploration_weight: 10 n_rollouts: 30 remove_value: perturb\n",
            "[100/100] - 795s - MAE: { severe_congestion 4.46 -congestion 1.98 -free_flow 1.1 - total: 2.47 } - RMSE: { severe_congestion 5.09 -congestion 2.27 -free_flow 1.25 - total: 2.82 } - MAPE: { severe_congestion 20.8% -congestion 4.13% -free_flow 1.67% - total: 8.8% } - Average time: 7.95s \n",
            "\n",
            "Testing: cut_size_factor: 2 explanation_size_factor: 3 exploration_weight: 10 n_rollouts: 30 remove_value: 0.0\n",
            "[100/100] - 801s - MAE: { severe_congestion 10.7 -congestion 2.81 -free_flow 1.75 - total: 5.06 } - RMSE: { severe_congestion 11 -congestion 3.39 -free_flow 2 - total: 5.42 } - MAPE: { severe_congestion 53.4% -congestion 5.76% -free_flow 2.58% - total: 20.7% } - Average time: 8.01s \n",
            "\n",
            "Testing: cut_size_factor: 2 explanation_size_factor: 3 exploration_weight: 10 n_rollouts: 50 remove_value: perturb\n",
            "[100/100] - 1304s - MAE: { severe_congestion 3.83 -congestion 2.41 -free_flow 0.89 - total: 2.35 } - RMSE: { severe_congestion 4.32 -congestion 2.69 -free_flow 1.02 - total: 2.65 } - MAPE: { severe_congestion 17.1% -congestion 5% -free_flow 1.35% - total: 7.8% } - Average time: 13s \n",
            "\n",
            "Testing: cut_size_factor: 2 explanation_size_factor: 3 exploration_weight: 10 n_rollouts: 50 remove_value: 0.0\n",
            "[100/100] - 1289s - MAE: { severe_congestion 10.7 -congestion 2.42 -free_flow 1.66 - total: 4.94 } - RMSE: { severe_congestion 11.1 -congestion 2.84 -free_flow 1.87 - total: 5.24 } - MAPE: { severe_congestion 53.7% -congestion 4.93% -free_flow 2.46% - total: 20.6% } - Average time: 12.9s \n",
            "\n",
            "Testing: cut_size_factor: 2 explanation_size_factor: 3 exploration_weight: 20 n_rollouts: 30 remove_value: perturb\n",
            "[100/100] - 769s - MAE: { severe_congestion 4.11 -congestion 1.82 -free_flow 0.699 - total: 2.19 } - RMSE: { severe_congestion 4.62 -congestion 2.14 -free_flow 0.804 - total: 2.5 } - MAPE: { severe_congestion 18.6% -congestion 3.59% -free_flow 1.04% - total: 7.78% } - Average time: 7.69s \n",
            "\n",
            "Testing: cut_size_factor: 2 explanation_size_factor: 3 exploration_weight: 20 n_rollouts: 30 remove_value: 0.0\n",
            "[100/100] - 742s - MAE: { severe_congestion 11.3 -congestion 2.62 -free_flow 1.75 - total: 5.21 } - RMSE: { severe_congestion 11.6 -congestion 3.07 -free_flow 2.02 - total: 5.55 } - MAPE: { severe_congestion 55.9% -congestion 5.39% -free_flow 2.59% - total: 21.5% } - Average time: 7.42s \n",
            "\n",
            "Testing: cut_size_factor: 2 explanation_size_factor: 3 exploration_weight: 20 n_rollouts: 50 remove_value: perturb\n",
            "[100/100] - 1234s - MAE: { severe_congestion 5.17 -congestion 1.84 -free_flow 0.806 - total: 2.53 } - RMSE: { severe_congestion 5.69 -congestion 2.04 -free_flow 0.933 - total: 2.81 } - MAPE: { severe_congestion 23.1% -congestion 3.63% -free_flow 1.21% - total: 9.19% } - Average time: 12.3s \n",
            "\n",
            "Testing: cut_size_factor: 2 explanation_size_factor: 3 exploration_weight: 20 n_rollouts: 50 remove_value: 0.0\n",
            "[100/100] - 1247s - MAE: { severe_congestion 10.7 -congestion 2.22 -free_flow 1.61 - total: 4.84 } - RMSE: { severe_congestion 10.9 -congestion 2.66 -free_flow 1.83 - total: 5.14 } - MAPE: { severe_congestion 53.7% -congestion 4.51% -free_flow 2.39% - total: 20.4% } - Average time: 12.5s \n",
            "\n"
          ]
        }
      ],
      "source": [
        "from src.explanation.monte_carlo.explanation import apply_grid_search\n",
        "\n",
        "apply_grid_search(\n",
        "    x_train[::10],\n",
        "    y_train[::10],\n",
        "    distance_matrix,\n",
        "    spatial_temporal_gnn,\n",
        "    scaler,\n",
        "    n_rollouts_list=[30, 50],\n",
        "    explanation_size_factor_list=[2, 3],\n",
        "    cut_size_factor_list=[2],\n",
        "    exploration_weight_list=[5, 10, 20],\n",
        "    remove_value_list=['perturb', 0.])"
      ]
    },
    {
      "cell_type": "markdown",
      "metadata": {},
      "source": [
        "The best hyperparameters are expressed below."
      ]
    },
    {
      "cell_type": "code",
      "execution_count": 15,
      "metadata": {
        "id": "qVtOLnQ68GDf"
      },
      "outputs": [],
      "source": [
        "CUT_SIZE_FACTOR = 2\n",
        "EXPLANATION_SIZE_FACTOR = 2\n",
        "EXPLORATION_WEIGHT = 20\n",
        "N_ROLLOUTS = 30\n",
        "REMOVE_VALUE = 'perturb'"
      ]
    },
    {
      "cell_type": "markdown",
      "metadata": {},
      "source": [
        "## 2.3 Computing the explanations and Saving the Results\n",
        "In this section the explanations of the predicted events of the train, validation and test datasets are computed using the selected hyperparameters.\n",
        "\n",
        "The results are evaluated in terms of *Fidelity*$^-$ using *MAE*, *RMSE* and *MAPE*; *Average time*; *Fidelity*$^+$ using *MAE*, *RMSE* and *MAPE*; and *Sparsity*.\n",
        "\n",
        "*Fidelity*$^-$ and *Average time* have already been introduced. For what concerns *Fidelity*$^+$ and *Sparsity*:\n",
        "\n",
        "* **Fidelity**$^\\textbf{+}$\n",
        "    $$\n",
        "        \\text{Fidelity}^+ = \\frac{1}{N}  \\sum_{i=1}^N (\\Phi(\\mathcal{G}_i) - \\Phi({\\mathcal{G}}_i^{1 - m}))\n",
        "    $$\n",
        "    with $N$ the number of instances, $\\Phi$ the STGNN, $\\mathcal{G}_i$ the $i^th$ input graph and $\\mathcal{G}_i^{1 - m}$ the complement of the important subgraph.\n",
        "* **Sparsity:**\n",
        "    $$\\text{Sparsity} = \\frac{1}{N} \\sum_{i=1}^N (1 -\\frac{m_i}{M_i})$$\n",
        "    with $N$ the number of instances, $m_i$ the number of nodes in the important subgraph used for the explanation at instance $i$ and $M_i$ the number of nodes of the input graph at instance $i$."
      ]
    },
    {
      "cell_type": "code",
      "execution_count": 14,
      "metadata": {
        "id": "3FYN5mEu8GAl"
      },
      "outputs": [],
      "source": [
        "import os\n",
        "import numpy as np\n",
        "\n",
        "EXPLAINED_DATA_DIR = os.path.join(BASE_DATA_DIR, 'explained')\n",
        "os.makedirs(EXPLAINED_DATA_DIR, exist_ok=True)\n"
      ]
    },
    {
      "cell_type": "code",
      "execution_count": 16,
      "metadata": {
        "colab": {
          "base_uri": "https://localhost:8080/"
        },
        "id": "kdB__0mW8F-E",
        "outputId": "0fa3bb15-0240-407c-98f2-f8d51ec5e908"
      },
      "outputs": [
        {
          "name": "stdout",
          "output_type": "stream",
          "text": [
            "Computing the explanations for the training set...\n",
            "[999/999] - 6378s - MAE: { severe_congestion 3.83 -congestion 1.92 -free_flow 0.804 - total: 2.18 } - RMSE: { severe_congestion 4.34 -congestion 2.14 -free_flow 0.93 - total: 2.46 } - MAPE: { severe_congestion 16.7% -congestion 3.88% -free_flow 1.22% - total: 7.24% } - Average time: 6.38s \n"
          ]
        }
      ],
      "source": [
        "from src.explanation.monte_carlo.explanation import get_all_explanations\n",
        "\n",
        "\n",
        "print('Computing the explanations for the training set...')\n",
        "x_train_explained, y_train_explained, train_scores = get_all_explanations(\n",
        "    x_train,\n",
        "    y_train,\n",
        "    distance_matrix,\n",
        "    spatial_temporal_gnn,\n",
        "    scaler,\n",
        "    n_rollouts=N_ROLLOUTS,\n",
        "    explanation_size_factor=EXPLANATION_SIZE_FACTOR,\n",
        "    cut_size_factor=CUT_SIZE_FACTOR,\n",
        "    exploration_weight=EXPLORATION_WEIGHT,\n",
        "    remove_value=REMOVE_VALUE,\n",
        "    divide_by_traffic_cluster_kind=True)\n",
        "\n",
        "# Save the explained data.\n",
        "np.save(os.path.join(EXPLAINED_DATA_DIR, 'x_train.npy'), x_train_explained)\n",
        "np.save(os.path.join(EXPLAINED_DATA_DIR, 'y_train.npy'), y_train_explained)\n",
        "np.save(os.path.join(EXPLAINED_DATA_DIR, 'train_scores.npy'), train_scores)\n",
        "np.save(os.path.join(EXPLAINED_DATA_DIR, 'x_train_time.npy'), x_train_time)\n",
        "np.save(os.path.join(EXPLAINED_DATA_DIR, 'y_train_time.npy'), y_train_time)\n"
      ]
    },
    {
      "cell_type": "code",
      "execution_count": 17,
      "metadata": {
        "colab": {
          "base_uri": "https://localhost:8080/"
        },
        "id": "WdIyprvn8F7d",
        "outputId": "63cee00d-cb6e-4714-ad78-6c0660bce7ab"
      },
      "outputs": [
        {
          "name": "stdout",
          "output_type": "stream",
          "text": [
            "Computing the explanations for the validation set...\n",
            "[198/198] - 1314s - MAE: { severe_congestion 2.95 -congestion 2.21 -free_flow 0.77 - total: 1.93 } - RMSE: { severe_congestion 3.32 -congestion 2.5 -free_flow 0.888 - total: 2.18 } - MAPE: { severe_congestion 12.4% -congestion 4.83% -free_flow 1.18% - total: 5.99% } - Average time: 6.64s \n"
          ]
        }
      ],
      "source": [
        "from src.explanation.monte_carlo.explanation import get_all_explanations\n",
        "\n",
        "\n",
        "print('Computing the explanations for the validation set...')\n",
        "x_val_explained, y_val_explained, val_scores = get_all_explanations(\n",
        "    x_val,\n",
        "    y_val,\n",
        "    distance_matrix,\n",
        "    spatial_temporal_gnn,\n",
        "    scaler,\n",
        "    n_rollouts=N_ROLLOUTS,\n",
        "    explanation_size_factor=EXPLANATION_SIZE_FACTOR,\n",
        "    cut_size_factor=CUT_SIZE_FACTOR,\n",
        "    exploration_weight=EXPLORATION_WEIGHT,\n",
        "    remove_value=REMOVE_VALUE,\n",
        "    divide_by_traffic_cluster_kind=True)\n",
        "\n",
        "# Save the explained data.\n",
        "np.save(os.path.join(EXPLAINED_DATA_DIR, 'x_val.npy'), x_val_explained)\n",
        "np.save(os.path.join(EXPLAINED_DATA_DIR, 'y_val.npy'), y_val_explained)\n",
        "np.save(os.path.join(EXPLAINED_DATA_DIR, 'val_scores.npy'), val_scores)\n",
        "np.save(os.path.join(EXPLAINED_DATA_DIR, 'x_val_time.npy'), x_val_time)\n",
        "np.save(os.path.join(EXPLAINED_DATA_DIR, 'y_val_time.npy'), y_val_time)"
      ]
    },
    {
      "cell_type": "code",
      "execution_count": 18,
      "metadata": {
        "colab": {
          "base_uri": "https://localhost:8080/"
        },
        "id": "x-U5tti38F4V",
        "outputId": "268c15e4-a8ed-40fe-d5d7-d2275beefa11"
      },
      "outputs": [
        {
          "name": "stdout",
          "output_type": "stream",
          "text": [
            "Computing the explanations for the test set...\n",
            "[300/300] - 1920s - MAE: { severe_congestion 4.05 -congestion 2.22 -free_flow 0.725 - total: 2.32 } - RMSE: { severe_congestion 4.41 -congestion 2.45 -free_flow 0.837 - total: 2.55 } - MAPE: { severe_congestion 16.8% -congestion 4.64% -free_flow 1.1% - total: 7.47% } - Average time: 6.4s \n"
          ]
        }
      ],
      "source": [
        "from src.explanation.monte_carlo.explanation import get_all_explanations\n",
        "\n",
        "\n",
        "print('Computing the explanations for the test set...')\n",
        "x_test_explained, y_test_explained, test_scores = get_all_explanations(\n",
        "    x_test,\n",
        "    y_test,\n",
        "    distance_matrix,\n",
        "    spatial_temporal_gnn,\n",
        "    scaler,\n",
        "    n_rollouts=N_ROLLOUTS,\n",
        "    explanation_size_factor=EXPLANATION_SIZE_FACTOR,\n",
        "    cut_size_factor=CUT_SIZE_FACTOR,\n",
        "    exploration_weight=EXPLORATION_WEIGHT,\n",
        "    remove_value=REMOVE_VALUE,\n",
        "    divide_by_traffic_cluster_kind=True)\n",
        "\n",
        "# Save the explained data.\n",
        "np.save(os.path.join(EXPLAINED_DATA_DIR, 'x_test.npy'), x_test_explained)\n",
        "np.save(os.path.join(EXPLAINED_DATA_DIR, 'y_test.npy'), y_test_explained)\n",
        "np.save(os.path.join(EXPLAINED_DATA_DIR, 'test_scores.npy'), test_scores)\n",
        "np.save(os.path.join(EXPLAINED_DATA_DIR, 'x_test_time.npy'), x_test_time)\n",
        "np.save(os.path.join(EXPLAINED_DATA_DIR, 'y_test_time.npy'), y_test_time)"
      ]
    },
    {
      "cell_type": "code",
      "execution_count": 16,
      "metadata": {},
      "outputs": [],
      "source": [
        "import os\n",
        "import numpy as np\n",
        "\n",
        "# Get the data and the values predicted by the STGNN.\n",
        "x_train_explained = np.load(os.path.join(BASE_DATA_DIR, 'explained', 'x_train.npy'))\n",
        "\n",
        "x_val_explained = np.load(os.path.join(BASE_DATA_DIR, 'explained', 'x_val.npy'))\n",
        "\n",
        "x_test_explained = np.load(os.path.join(BASE_DATA_DIR, 'explained', 'x_test.npy'))"
      ]
    },
    {
      "cell_type": "code",
      "execution_count": 18,
      "metadata": {},
      "outputs": [
        {
          "name": "stdout",
          "output_type": "stream",
          "text": [
            "Computing the fidelity+ for the training set...\n",
            "MAE+: { severe_congestion 9.94 -congestion 28.2 -free_flow 26.3 - total: 21.5% } -RMSE+: { severe_congestion 11 -congestion 29.5 -free_flow 28.9 - total: 23.1% } -MAPE+: { severe_congestion 39.4% -congestion 53% -free_flow 40.3% - total: 44.2% }\n",
            "\n",
            "Computing the fidelity+ for the validation set...\n",
            "MAE+: { severe_congestion 9.65 -congestion 25.7 -free_flow 24.8 - total: 20% } -RMSE+: { severe_congestion 10.6 -congestion 26.9 -free_flow 28 - total: 21.8% } -MAPE+: { severe_congestion 37.8% -congestion 48.8% -free_flow 38% - total: 41.5% }\n",
            "\n",
            "Computing the fidelity+ for the test set...\n",
            "MAE+: { severe_congestion 10.7 -congestion 27.3 -free_flow 27.9 - total: 22% } -RMSE+: { severe_congestion 11.7 -congestion 28.5 -free_flow 30.8 - total: 23.7% } -MAPE+: { severe_congestion 41.2% -congestion 51.6% -free_flow 42.6% - total: 45.1% }\n",
            "\n"
          ]
        }
      ],
      "source": [
        "from src.explanation.monte_carlo.explanation import print_all_fidelity_plus\n",
        "\n",
        "\n",
        "print('Computing the fidelity+ for the training set...')\n",
        "print_all_fidelity_plus(x_train, y_train, x_train_explained, spatial_temporal_gnn, scaler, remove_value=REMOVE_VALUE)\n",
        "print()\n",
        "\n",
        "print('Computing the fidelity+ for the validation set...')\n",
        "print_all_fidelity_plus(x_val, y_val, x_val_explained, spatial_temporal_gnn, scaler, remove_value=REMOVE_VALUE)\n",
        "print()\n",
        "\n",
        "print('Computing the fidelity+ for the test set...')\n",
        "print_all_fidelity_plus(x_test, y_test, x_test_explained, spatial_temporal_gnn, scaler, remove_value=REMOVE_VALUE)\n",
        "print()"
      ]
    },
    {
      "cell_type": "code",
      "execution_count": 20,
      "metadata": {},
      "outputs": [
        {
          "name": "stdout",
          "output_type": "stream",
          "text": [
            "Computing the sparsity for the training set...\n",
            "Sparsity: { severe_congestion 0.989 -congestion 0.992 -free_flow 0.989 - total: 0.99 }\n",
            "\n",
            "Computing the sparsity for the validation set...\n",
            "Sparsity: { severe_congestion 0.99 -congestion 0.991 -free_flow 0.987 - total: 0.989 }\n",
            "\n",
            "Computing the sparsity for the test set...\n",
            "Sparsity: { severe_congestion 0.99 -congestion 0.992 -free_flow 0.989 - total: 0.99 }\n",
            "\n"
          ]
        }
      ],
      "source": [
        "from src.explanation.monte_carlo.explanation import print_all_sparsity\n",
        "\n",
        "\n",
        "print('Computing the sparsity for the training set...')\n",
        "print_all_sparsity(x_train, x_train_explained)\n",
        "print()\n",
        "\n",
        "print('Computing the sparsity for the validation set...')\n",
        "print_all_sparsity(x_val, x_val_explained)\n",
        "print()\n",
        "\n",
        "print('Computing the sparsity for the test set...')\n",
        "print_all_sparsity(x_test, x_test_explained)\n",
        "print()"
      ]
    }
  ],
  "metadata": {
    "accelerator": "GPU",
    "colab": {
      "provenance": []
    },
    "kernelspec": {
      "display_name": "Python 3",
      "name": "python3"
    },
    "language_info": {
      "codemirror_mode": {
        "name": "ipython",
        "version": 3
      },
      "file_extension": ".py",
      "mimetype": "text/x-python",
      "name": "python",
      "nbconvert_exporter": "python",
      "pygments_lexer": "ipython3",
      "version": "3.10.0"
    }
  },
  "nbformat": 4,
  "nbformat_minor": 0
}
