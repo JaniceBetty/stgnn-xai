{
 "cells": [
  {
   "cell_type": "code",
   "execution_count": 1,
   "metadata": {},
   "outputs": [],
   "source": [
    "import sys\n",
    "import os\n",
    "\n",
    "# Set the main path in the root folder of the project.\n",
    "sys.path.append(os.path.join('..'))"
   ]
  },
  {
   "cell_type": "code",
   "execution_count": 2,
   "metadata": {},
   "outputs": [],
   "source": [
    "# Settings for autoreloading.\n",
    "%load_ext autoreload\n",
    "%autoreload 2"
   ]
  },
  {
   "cell_type": "code",
   "execution_count": 3,
   "metadata": {},
   "outputs": [],
   "source": [
    "from src.utils.seed import set_random_seed\n",
    "\n",
    "# Set the random seed for deterministic operations.\n",
    "SEED = 42\n",
    "set_random_seed(SEED)"
   ]
  },
  {
   "cell_type": "code",
   "execution_count": 4,
   "metadata": {},
   "outputs": [
    {
     "name": "stdout",
     "output_type": "stream",
     "text": [
      "The selected device is: \"cuda\"\n"
     ]
    }
   ],
   "source": [
    "import torch\n",
    "\n",
    "# Set the device for training and querying the model.\n",
    "DEVICE = 'cuda' if torch.cuda.is_available() else 'cpu'\n",
    "print(f'The selected device is: \"{DEVICE}\"')"
   ]
  },
  {
   "attachments": {},
   "cell_type": "markdown",
   "metadata": {},
   "source": [
    "# Loading the Data"
   ]
  },
  {
   "cell_type": "code",
   "execution_count": 5,
   "metadata": {},
   "outputs": [],
   "source": [
    "import os\n",
    "\n",
    "BASE_DATA_DIR = os.path.join('..', 'data', 'metr-la')"
   ]
  },
  {
   "cell_type": "code",
   "execution_count": 6,
   "metadata": {},
   "outputs": [],
   "source": [
    "import pickle\n",
    "with open(os.path.join(BASE_DATA_DIR, 'processed', 'scaler.pkl'), 'rb') as f:\n",
    "    scaler = pickle.load(f)"
   ]
  },
  {
   "cell_type": "code",
   "execution_count": 7,
   "metadata": {},
   "outputs": [
    {
     "name": "stderr",
     "output_type": "stream",
     "text": [
      "c:\\Users\\riccardo\\AppData\\Local\\Programs\\Python\\Python310\\lib\\site-packages\\torch\\nn\\modules\\lazy.py:180: UserWarning: Lazy modules are a new feature under heavy development so changes to the API or functionality can happen at any moment.\n",
      "  warnings.warn('Lazy modules are a new feature under heavy development '\n"
     ]
    }
   ],
   "source": [
    "from src.spatial_temporal_gnn.model import SpatialTemporalGNN\n",
    "from src.explanation.navigator.model import Navigator\n",
    "from src.data.data_extraction import get_adjacency_matrix\n",
    "\n",
    "# Get the adjacency matrix\n",
    "adj_matrix_structure = get_adjacency_matrix(\n",
    "    os.path.join(BASE_DATA_DIR, 'raw', 'adj_mx_metr_la.pkl'))\n",
    "\n",
    "# Get the header of the adjacency matrix, the node indices and the\n",
    "# matrix itself.\n",
    "header, node_ids_dict, adj_matrix = adj_matrix_structure\n",
    "\n",
    "# Get the STGNN and load the checkpoints.\n",
    "spatial_temporal_gnn = SpatialTemporalGNN(9, 1, 12, 12, adj_matrix, DEVICE, 64)\n",
    "\n",
    "stgnn_checkpoints_path = os.path.join('..', 'models', 'checkpoints',\n",
    "                                      'st_gnn_metr_la.pth')\n",
    "\n",
    "stgnn_checkpoints = torch.load(stgnn_checkpoints_path)\n",
    "spatial_temporal_gnn.load_state_dict(stgnn_checkpoints['model_state_dict'])\n",
    "\n",
    "# Set the STGNN in evaluation mode.\n",
    "spatial_temporal_gnn.eval();\n",
    "\n",
    "# Get the Navigator and load the checkpoints.\n",
    "navigator = Navigator(DEVICE)\n",
    "\n",
    "navigator_checkpoints_path = os.path.join('..', 'models', 'checkpoints',\n",
    "                                          'navigator_metr_la.pth')\n",
    "\n",
    "navigator_checkpoints = torch.load(navigator_checkpoints_path)\n",
    "navigator.load_state_dict(navigator_checkpoints['model_state_dict'])\n",
    "\n",
    "# Set the Navigator in evaluation mode.\n",
    "navigator.eval();"
   ]
  },
  {
   "cell_type": "code",
   "execution_count": 8,
   "metadata": {},
   "outputs": [],
   "source": [
    "from src.data.data_extraction import get_locations_dataframe\n",
    "\n",
    "# Get the dataframe containing the latitude and longitude of each sensor.\n",
    "locations_df = get_locations_dataframe(\n",
    "    os.path.join(BASE_DATA_DIR, 'raw', 'graph_sensor_locations_metr_la.csv'),\n",
    "    has_header=True)"
   ]
  },
  {
   "cell_type": "code",
   "execution_count": 9,
   "metadata": {},
   "outputs": [],
   "source": [
    "# Get the node positions dictionary.\n",
    "node_pos_dict = { i: id for id, i in node_ids_dict.items() }"
   ]
  },
  {
   "cell_type": "code",
   "execution_count": 10,
   "metadata": {},
   "outputs": [],
   "source": [
    "import pickle\n",
    "\n",
    "# Get the data scaler.\n",
    "with open(os.path.join(BASE_DATA_DIR, 'processed', 'scaler.pkl'), 'rb') as f:\n",
    "    scaler = pickle.load(f)"
   ]
  },
  {
   "cell_type": "code",
   "execution_count": 11,
   "metadata": {},
   "outputs": [],
   "source": [
    "import os\n",
    "import numpy as np\n",
    "\n",
    "# Get the explained data.\n",
    "x_test = np.load(os.path.join(BASE_DATA_DIR, 'processed', 'x_test.npy'))\n",
    "y_test = np.load(os.path.join(BASE_DATA_DIR, 'processed', 'y_test.npy'))\n",
    "\n",
    "# Get the time information of the explained data.\n",
    "x_test_time = np.load(os.path.join(BASE_DATA_DIR, 'processed', 'x_test_time.npy'))\n",
    "y_test_time = np.load(os.path.join(BASE_DATA_DIR, 'processed', 'y_test_time.npy'))"
   ]
  },
  {
   "cell_type": "code",
   "execution_count": 26,
   "metadata": {},
   "outputs": [],
   "source": [
    "MPH_TO_KMH_FACTOR = 1.609344\n",
    "\n",
    "sample_x, sample_y, sample_x_time, sample_y_time = x_test[0], y_test[0], x_test_time[0], y_test_time[0]\n",
    "\n",
    "sample_x[:, :, 0] = sample_x[:, :, 0] * MPH_TO_KMH_FACTOR\n",
    "sample_y[:, :, 0] = sample_y[:, :, 0] * MPH_TO_KMH_FACTOR"
   ]
  },
  {
   "cell_type": "code",
   "execution_count": 27,
   "metadata": {},
   "outputs": [
    {
     "data": {
      "text/plain": [
       "(12, 207, 9)"
      ]
     },
     "execution_count": 27,
     "metadata": {},
     "output_type": "execute_result"
    }
   ],
   "source": [
    "sample_x.shape"
   ]
  },
  {
   "cell_type": "code",
   "execution_count": 28,
   "metadata": {},
   "outputs": [],
   "source": [
    "_, n_timesteps, n_nodes, _ = y_test.shape"
   ]
  },
  {
   "cell_type": "code",
   "execution_count": 29,
   "metadata": {},
   "outputs": [],
   "source": [
    "# Get the node positions dictionary.\n",
    "node_pos_dict = { i: id for id, i in node_ids_dict.items() }"
   ]
  },
  {
   "cell_type": "code",
   "execution_count": 33,
   "metadata": {},
   "outputs": [],
   "source": [
    "import pandas as pd\n",
    "from typing import Dict, Optional\n",
    "\n",
    "def get_node_values_with_location_dataframe(\n",
    "    node_values: np.ndarray,\n",
    "    node_pos_dict: Dict[int, str],\n",
    "    locations_df: pd.DataFrame,\n",
    "    time_values: Optional[np.ndarray] = None\n",
    "    ) -> pd.DataFrame:\n",
    "    \"\"\"\n",
    "    Get a pandas dataframe from a numpy array of node speed values a numpy\n",
    "    array of node clusters and a pandas dataframe of node locations.\n",
    "    The resulting dataframe has for each timestamp the value of the speed\n",
    "    for each node, its cluster and the location of the node in the form of\n",
    "    latitude and longitude.\n",
    "\n",
    "    Parameters\n",
    "    ----------\n",
    "    node_values : ndarray\n",
    "        The numpy array containing the values of the speed of each node\n",
    "        for each timestamp.\n",
    "    clusters : ndarray\n",
    "        The numpy array containing the cluster of each node for each\n",
    "        timestamp.\n",
    "    node_pos_dict : { int: str }\n",
    "        The dictionary containing the position of each node and the\n",
    "        corresponding node ID.\n",
    "    locations_df : DataFrame\n",
    "        The dataframe containing the location of each node.\n",
    "    time_values : ndarray, optional\n",
    "        The numpy array containing the timestamps of the speed values.\n",
    "\n",
    "    Returns\n",
    "    -------\n",
    "    DataFrame\n",
    "        The resulting dataframe containing the values of the speed for\n",
    "        each node, its cluster and the location of the node in the form of\n",
    "        latitude and longitude.\n",
    "    \"\"\"\n",
    "    # Concatenate the speeds and the cluster information.\n",
    "    nodes_information = []\n",
    "\n",
    "    for time_idx, node_matrix in enumerate(node_values):\n",
    "        for node_idx, speed in enumerate(node_matrix):\n",
    "            if time_values is not None:\n",
    "                # Get the timestamp from the time values array.\n",
    "                datetime = time_values[time_idx, node_idx]\n",
    "            else:\n",
    "                datetime = time_idx\n",
    "            # Get the node ID from the node position dictionary.\n",
    "            node_id = node_pos_dict[node_idx]\n",
    "            # Get the latitude and longitude of the node.\n",
    "            latitude = locations_df.loc[\n",
    "                locations_df['sensor_id'] == node_id].latitude.values[0]\n",
    "            longitude = locations_df.loc[\n",
    "                locations_df['sensor_id'] == node_id].longitude.values[0]\n",
    "\n",
    "            # Update the nodes information list.\n",
    "            nodes_information.append(\n",
    "                [node_id, latitude, longitude, speed[0], datetime])\n",
    "\n",
    "    # Build the dataframe from the nodes information list.\n",
    "    df = pd.DataFrame({\n",
    "        'sensor_id': [n[0] for n in nodes_information],\n",
    "        'latitude': [n[1] for n in nodes_information],\n",
    "        'longitude': [n[2] for n in nodes_information],\n",
    "        'speed': [n[3] for n in nodes_information],\n",
    "        'datetime': [n[4] for n in nodes_information]\n",
    "    })\n",
    "\n",
    "    return df\n",
    "\n",
    "\n",
    "df = get_node_values_with_location_dataframe(sample_y, node_pos_dict, locations_df, sample_y_time)"
   ]
  },
  {
   "cell_type": "code",
   "execution_count": 34,
   "metadata": {},
   "outputs": [
    {
     "data": {
      "text/html": [
       "<div>\n",
       "<style scoped>\n",
       "    .dataframe tbody tr th:only-of-type {\n",
       "        vertical-align: middle;\n",
       "    }\n",
       "\n",
       "    .dataframe tbody tr th {\n",
       "        vertical-align: top;\n",
       "    }\n",
       "\n",
       "    .dataframe thead th {\n",
       "        text-align: right;\n",
       "    }\n",
       "</style>\n",
       "<table border=\"1\" class=\"dataframe\">\n",
       "  <thead>\n",
       "    <tr style=\"text-align: right;\">\n",
       "      <th></th>\n",
       "      <th>sensor_id</th>\n",
       "      <th>latitude</th>\n",
       "      <th>longitude</th>\n",
       "      <th>speed</th>\n",
       "      <th>datetime</th>\n",
       "    </tr>\n",
       "  </thead>\n",
       "  <tbody>\n",
       "    <tr>\n",
       "      <th>0</th>\n",
       "      <td>773869</td>\n",
       "      <td>34.15497</td>\n",
       "      <td>-118.31829</td>\n",
       "      <td>108.027216</td>\n",
       "      <td>2012-06-04 05:45:00</td>\n",
       "    </tr>\n",
       "    <tr>\n",
       "      <th>1</th>\n",
       "      <td>767541</td>\n",
       "      <td>34.11621</td>\n",
       "      <td>-118.23799</td>\n",
       "      <td>102.796848</td>\n",
       "      <td>2012-06-04 05:45:00</td>\n",
       "    </tr>\n",
       "    <tr>\n",
       "      <th>2</th>\n",
       "      <td>767542</td>\n",
       "      <td>34.11641</td>\n",
       "      <td>-118.23819</td>\n",
       "      <td>110.843568</td>\n",
       "      <td>2012-06-04 05:45:00</td>\n",
       "    </tr>\n",
       "    <tr>\n",
       "      <th>3</th>\n",
       "      <td>717447</td>\n",
       "      <td>34.07248</td>\n",
       "      <td>-118.26772</td>\n",
       "      <td>87.105744</td>\n",
       "      <td>2012-06-04 05:45:00</td>\n",
       "    </tr>\n",
       "    <tr>\n",
       "      <th>4</th>\n",
       "      <td>717446</td>\n",
       "      <td>34.07142</td>\n",
       "      <td>-118.26572</td>\n",
       "      <td>105.814368</td>\n",
       "      <td>2012-06-04 05:45:00</td>\n",
       "    </tr>\n",
       "    <tr>\n",
       "      <th>...</th>\n",
       "      <td>...</td>\n",
       "      <td>...</td>\n",
       "      <td>...</td>\n",
       "      <td>...</td>\n",
       "      <td>...</td>\n",
       "    </tr>\n",
       "    <tr>\n",
       "      <th>2479</th>\n",
       "      <td>717592</td>\n",
       "      <td>34.14604</td>\n",
       "      <td>-118.22430</td>\n",
       "      <td>104.607360</td>\n",
       "      <td>2012-06-04 06:40:00</td>\n",
       "    </tr>\n",
       "    <tr>\n",
       "      <th>2480</th>\n",
       "      <td>717595</td>\n",
       "      <td>34.14163</td>\n",
       "      <td>-118.18290</td>\n",
       "      <td>110.329472</td>\n",
       "      <td>2012-06-04 06:40:00</td>\n",
       "    </tr>\n",
       "    <tr>\n",
       "      <th>2481</th>\n",
       "      <td>772168</td>\n",
       "      <td>34.16542</td>\n",
       "      <td>-118.47985</td>\n",
       "      <td>69.559424</td>\n",
       "      <td>2012-06-04 06:40:00</td>\n",
       "    </tr>\n",
       "    <tr>\n",
       "      <th>2482</th>\n",
       "      <td>718141</td>\n",
       "      <td>34.15133</td>\n",
       "      <td>-118.37456</td>\n",
       "      <td>107.468416</td>\n",
       "      <td>2012-06-04 06:40:00</td>\n",
       "    </tr>\n",
       "    <tr>\n",
       "      <th>2483</th>\n",
       "      <td>769373</td>\n",
       "      <td>34.10262</td>\n",
       "      <td>-118.31747</td>\n",
       "      <td>84.937600</td>\n",
       "      <td>2012-06-04 06:40:00</td>\n",
       "    </tr>\n",
       "  </tbody>\n",
       "</table>\n",
       "<p>2484 rows × 5 columns</p>\n",
       "</div>"
      ],
      "text/plain": [
       "     sensor_id  latitude  longitude       speed            datetime\n",
       "0       773869  34.15497 -118.31829  108.027216 2012-06-04 05:45:00\n",
       "1       767541  34.11621 -118.23799  102.796848 2012-06-04 05:45:00\n",
       "2       767542  34.11641 -118.23819  110.843568 2012-06-04 05:45:00\n",
       "3       717447  34.07248 -118.26772   87.105744 2012-06-04 05:45:00\n",
       "4       717446  34.07142 -118.26572  105.814368 2012-06-04 05:45:00\n",
       "...        ...       ...        ...         ...                 ...\n",
       "2479    717592  34.14604 -118.22430  104.607360 2012-06-04 06:40:00\n",
       "2480    717595  34.14163 -118.18290  110.329472 2012-06-04 06:40:00\n",
       "2481    772168  34.16542 -118.47985   69.559424 2012-06-04 06:40:00\n",
       "2482    718141  34.15133 -118.37456  107.468416 2012-06-04 06:40:00\n",
       "2483    769373  34.10262 -118.31747   84.937600 2012-06-04 06:40:00\n",
       "\n",
       "[2484 rows x 5 columns]"
      ]
     },
     "execution_count": 34,
     "metadata": {},
     "output_type": "execute_result"
    }
   ],
   "source": [
    "df"
   ]
  },
  {
   "cell_type": "code",
   "execution_count": 35,
   "metadata": {},
   "outputs": [
    {
     "data": {
      "application/vnd.jupyter.widget-view+json": {
       "model_id": "0c466f8713b841bc92558348726af71b",
       "version_major": 2,
       "version_minor": 0
      },
      "text/plain": [
       "KeplerGl(data={'data':      sensor_id  latitude  longitude       speed            datetime\n",
       "0       773869  34.…"
      ]
     },
     "metadata": {},
     "output_type": "display_data"
    }
   ],
   "source": [
    "from src.data.data_analysis import show_kepler_map\n",
    "\n",
    "# Font size 27\n",
    "show_kepler_map(\n",
    "    df,None)"
   ]
  },
  {
   "cell_type": "code",
   "execution_count": 32,
   "metadata": {},
   "outputs": [
    {
     "data": {
      "application/vnd.jupyter.widget-view+json": {
       "model_id": "4ede81311f4e4d88a54ca909fc7ed990",
       "version_major": 2,
       "version_minor": 0
      },
      "text/plain": [
       "KeplerGl(data={'data':      sensor_id  latitude  longitude       speed            datetime\n",
       "0       773869  34.…"
      ]
     },
     "metadata": {},
     "output_type": "display_data"
    }
   ],
   "source": [
    "from src.data.data_analysis import show_kepler_map\n",
    "\n",
    "# Font size 27\n",
    "show_kepler_map(\n",
    "    df,None)"
   ]
  },
  {
   "cell_type": "code",
   "execution_count": 24,
   "metadata": {},
   "outputs": [
    {
     "data": {
      "application/vnd.jupyter.widget-view+json": {
       "model_id": "b02a17f280ca46b5a450247cf6ffc6e4",
       "version_major": 2,
       "version_minor": 0
      },
      "text/plain": [
       "KeplerGl(config={'version': 'v1', 'config': {'visState': {'filters': [{'dataId': ['data'], 'id': 'r4gzjf87n', …"
      ]
     },
     "metadata": {},
     "output_type": "display_data"
    }
   ],
   "source": [
    "from src.data.data_analysis import show_kepler_map\n",
    "\n",
    "show_kepler_map(\n",
    "    df, config_file_path='../config/kepler/metr-la/visualization_test_x_clusters.json')"
   ]
  },
  {
   "cell_type": "code",
   "execution_count": 25,
   "metadata": {},
   "outputs": [],
   "source": [
    "'''# Save m config\n",
    "import json\n",
    "\n",
    "with open('../config/kepler/visualization_test_x_clusters.json', 'w') as f:\n",
    "    json.dump(m.config, f)''';"
   ]
  },
  {
   "cell_type": "code",
   "execution_count": 26,
   "metadata": {},
   "outputs": [],
   "source": [
    "from src.explanation.clustering.analyisis import (\n",
    "    get_node_values_with_clusters_and_location_dataframe)\n",
    "\n",
    "df = get_node_values_with_clusters_and_location_dataframe(sample_y, clusters_y, node_pos_dict, locations_df, sample_y_time)"
   ]
  },
  {
   "cell_type": "code",
   "execution_count": 27,
   "metadata": {},
   "outputs": [
    {
     "data": {
      "application/vnd.jupyter.widget-view+json": {
       "model_id": "8602470e827c48a298da10013cce1319",
       "version_major": 2,
       "version_minor": 0
      },
      "text/plain": [
       "KeplerGl(config={'version': 'v1', 'config': {'visState': {'filters': [{'dataId': ['data'], 'id': 'qxv5h0is9', …"
      ]
     },
     "metadata": {},
     "output_type": "display_data"
    }
   ],
   "source": [
    "from src.data.data_analysis import show_kepler_map\n",
    "\n",
    "show_kepler_map(\n",
    "    df, config_file_path='../config/kepler/metr-la/visualization_test_y.json')"
   ]
  },
  {
   "cell_type": "code",
   "execution_count": null,
   "metadata": {},
   "outputs": [],
   "source": []
  },
  {
   "cell_type": "code",
   "execution_count": null,
   "metadata": {},
   "outputs": [],
   "source": []
  },
  {
   "cell_type": "code",
   "execution_count": null,
   "metadata": {},
   "outputs": [],
   "source": []
  },
  {
   "cell_type": "code",
   "execution_count": 28,
   "metadata": {},
   "outputs": [],
   "source": [
    "# m"
   ]
  },
  {
   "cell_type": "code",
   "execution_count": null,
   "metadata": {},
   "outputs": [],
   "source": [
    "'''# Save m config\n",
    "import json\n",
    "\n",
    "with open('../config/kepler/visualization_test_y.json', 'w') as f:\n",
    "    json.dump(m.config, f)''';"
   ]
  },
  {
   "cell_type": "code",
   "execution_count": null,
   "metadata": {},
   "outputs": [],
   "source": []
  }
 ],
 "metadata": {
  "kernelspec": {
   "display_name": "Python 3",
   "language": "python",
   "name": "python3"
  },
  "language_info": {
   "codemirror_mode": {
    "name": "ipython",
    "version": 3
   },
   "file_extension": ".py",
   "mimetype": "text/x-python",
   "name": "python",
   "nbconvert_exporter": "python",
   "pygments_lexer": "ipython3",
   "version": "3.10.0"
  },
  "orig_nbformat": 4
 },
 "nbformat": 4,
 "nbformat_minor": 2
}
