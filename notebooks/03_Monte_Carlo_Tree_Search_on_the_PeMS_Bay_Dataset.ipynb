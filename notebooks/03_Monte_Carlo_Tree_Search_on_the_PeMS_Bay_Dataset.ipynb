{
  "cells": [
    {
      "cell_type": "code",
      "execution_count": 1,
      "metadata": {
        "id": "6kbAULJKy-wu"
      },
      "outputs": [],
      "source": [
        "import sys\n",
        "import os\n",
        "\n",
        "# Set the main path in the root folder of the project.\n",
        "sys.path.append(os.path.join('..'))"
      ]
    },
    {
      "cell_type": "code",
      "execution_count": 2,
      "metadata": {
        "id": "HGIZtEY6y-wv"
      },
      "outputs": [],
      "source": [
        "# Settings for autoreloading.\n",
        "%load_ext autoreload\n",
        "%autoreload 2"
      ]
    },
    {
      "cell_type": "code",
      "execution_count": 3,
      "metadata": {
        "id": "obBqbIuGy-wv"
      },
      "outputs": [],
      "source": [
        "from src.utils.seed import set_random_seed\n",
        "\n",
        "# Set the random seed for deterministic operations.\n",
        "SEED = 42\n",
        "set_random_seed(SEED)"
      ]
    },
    {
      "cell_type": "code",
      "execution_count": 4,
      "metadata": {
        "colab": {
          "base_uri": "https://localhost:8080/"
        },
        "id": "uHGuhgDmy-wv",
        "outputId": "eeb77296-2a9e-4a6a-f32e-f17a741e1706"
      },
      "outputs": [
        {
          "name": "stdout",
          "output_type": "stream",
          "text": [
            "The selected device is: \"cuda\"\n"
          ]
        }
      ],
      "source": [
        "import torch\n",
        "\n",
        "# Set the device for training and querying the model.\n",
        "DEVICE = 'cuda' if torch.cuda.is_available() else 'cpu'\n",
        "print(f'The selected device is: \"{DEVICE}\"')"
      ]
    },
    {
      "cell_type": "markdown",
      "metadata": {
        "id": "xhVgau7-y-ww"
      },
      "source": [
        "# Loading the Data"
      ]
    },
    {
      "cell_type": "code",
      "execution_count": 5,
      "metadata": {
        "id": "HlTWno-1y-wx"
      },
      "outputs": [],
      "source": [
        "import os\n",
        "\n",
        "BASE_DATA_DIR = os.path.join('..', 'data', 'pems-bay')"
      ]
    },
    {
      "cell_type": "code",
      "execution_count": 6,
      "metadata": {
        "id": "BbiHBGWSy-wx"
      },
      "outputs": [],
      "source": [
        "import pickle\n",
        "with open(os.path.join(BASE_DATA_DIR, 'processed', 'scaler.pkl'), 'rb') as f:\n",
        "    scaler = pickle.load(f)"
      ]
    },
    {
      "cell_type": "code",
      "execution_count": 7,
      "metadata": {
        "id": "nb6d7kVZy-wx"
      },
      "outputs": [],
      "source": [
        "from src.spatial_temporal_gnn.model import SpatialTemporalGNN\n",
        "from src.data.data_extraction import get_adjacency_matrix\n",
        "\n",
        "# Get the adjacency matrix\n",
        "adj_matrix_structure = get_adjacency_matrix(\n",
        "    os.path.join(BASE_DATA_DIR, 'raw', 'adj_mx_pems_bay.pkl'))\n",
        "\n",
        "# Get the header of the adjacency matrix, the node indices and the\n",
        "# matrix itself.\n",
        "header, node_ids_dict, adj_matrix = adj_matrix_structure\n",
        "\n",
        "# Get the STGNN and load the checkpoints.\n",
        "spatial_temporal_gnn = SpatialTemporalGNN(9, 1, 12, 12, adj_matrix, DEVICE, 64)\n",
        "\n",
        "stgnn_checkpoints_path = os.path.join('..', 'models', 'checkpoints',\n",
        "                                      'st_gnn_pems_bay.pth')\n",
        "\n",
        "stgnn_checkpoints = torch.load(stgnn_checkpoints_path)\n",
        "spatial_temporal_gnn.load_state_dict(stgnn_checkpoints['model_state_dict'])\n",
        "\n",
        "# Set the STGNN in evaluation mode.\n",
        "spatial_temporal_gnn.eval();"
      ]
    },
    {
      "cell_type": "code",
      "execution_count": 8,
      "metadata": {
        "id": "YIB5Kn57y-wx"
      },
      "outputs": [],
      "source": [
        "from src.data.data_extraction import get_locations_dataframe\n",
        "\n",
        "# Get the dataframe containing the latitude and longitude of each sensor.\n",
        "locations_df = get_locations_dataframe(\n",
        "    os.path.join(BASE_DATA_DIR, 'raw', 'graph_sensor_locations_pems_bay.csv'),\n",
        "    has_header=False)"
      ]
    },
    {
      "cell_type": "code",
      "execution_count": 9,
      "metadata": {
        "id": "kwVU6H96y-wy"
      },
      "outputs": [],
      "source": [
        "# Get the node positions dictionary.\n",
        "node_pos_dict = { i: id for id, i in node_ids_dict.items() }"
      ]
    },
    {
      "cell_type": "code",
      "execution_count": 10,
      "metadata": {
        "id": "x-lj4muty-wy"
      },
      "outputs": [],
      "source": [
        "import pickle\n",
        "\n",
        "# Get the data scaler.\n",
        "with open(os.path.join(BASE_DATA_DIR, 'processed', 'scaler.pkl'), 'rb') as f:\n",
        "    scaler = pickle.load(f)"
      ]
    },
    {
      "cell_type": "code",
      "execution_count": 11,
      "metadata": {
        "id": "kNItiWwGy-wy"
      },
      "outputs": [],
      "source": [
        "import os\n",
        "import numpy as np\n",
        "\n",
        "# Get the data and the values predicted by the STGNN.\n",
        "x_train = np.load(os.path.join(BASE_DATA_DIR, 'explainable', 'x_train.npy'))\n",
        "y_train = np.load(os.path.join(BASE_DATA_DIR, 'explainable', 'y_train.npy'))\n",
        "x_train_time = np.load(os.path.join(BASE_DATA_DIR, 'explainable', 'x_train_time.npy'))\n",
        "y_train_time = np.load(os.path.join(BASE_DATA_DIR, 'explainable', 'y_train_time.npy'))\n",
        "\n",
        "x_val = np.load(os.path.join(BASE_DATA_DIR, 'explainable', 'x_val.npy'))\n",
        "y_val = np.load(os.path.join(BASE_DATA_DIR, 'explainable', 'y_val.npy'))\n",
        "x_val_time = np.load(os.path.join(BASE_DATA_DIR, 'explainable', 'x_val_time.npy'))\n",
        "y_val_time = np.load(os.path.join(BASE_DATA_DIR, 'explainable', 'y_val_time.npy'))\n",
        "\n",
        "x_test = np.load(os.path.join(BASE_DATA_DIR, 'explainable', 'x_test.npy'))\n",
        "y_test = np.load(os.path.join(BASE_DATA_DIR, 'explainable', 'y_test.npy'))\n",
        "x_test_time = np.load(os.path.join(BASE_DATA_DIR, 'explainable', 'x_test_time.npy'))\n",
        "y_test_time = np.load(os.path.join(BASE_DATA_DIR, 'explainable', 'y_test_time.npy'))"
      ]
    },
    {
      "cell_type": "code",
      "execution_count": 12,
      "metadata": {
        "id": "bCEWyqCvy-wz"
      },
      "outputs": [],
      "source": [
        "from src.data.data_processing import get_distance_matrix\n",
        "\n",
        "if not os.path.exists(\n",
        "    os.path.join(BASE_DATA_DIR, 'processed', 'distance_matrix.npy')):\n",
        "    # Build the distance matrix between the nodes.\n",
        "    distance_matrix = get_distance_matrix(\n",
        "        adj_matrix,\n",
        "        locations_df,\n",
        "        node_pos_dict)\n",
        "\n",
        "    # Save the distance matrix.\n",
        "    np.save(os.path.join(BASE_DATA_DIR, 'processed', 'distance_matrix.npy'),\n",
        "            distance_matrix)\n",
        "\n",
        "else:\n",
        "    # Load the distance matrix.\n",
        "    distance_matrix = np.load(\n",
        "        os.path.join(BASE_DATA_DIR, 'processed', 'distance_matrix.npy'))"
      ]
    },
    {
      "cell_type": "code",
      "execution_count": 13,
      "metadata": {
        "colab": {
          "base_uri": "https://localhost:8080/"
        },
        "id": "pKZtVQc2y-wz",
        "outputId": "dd3c8b5a-f6a5-4290-e880-a540f610f744"
      },
      "outputs": [
        {
          "name": "stdout",
          "output_type": "stream",
          "text": [
            "Testing: cut_size_factor: 2 explanation_size_factor: 2 exploration_weight: 5 n_rollouts: 30 remove_value: 0.0\n",
            "[100/100] - 607s - MAE: { severe_congestion 11.2 -congestion 2.76 -free_flow 1.81 - total: 5.27 } - RMSE: { severe_congestion 11.5 -congestion 3.29 -free_flow 2.1 - total: 5.62 } - MAPE: { severe_congestion 56.1% -congestion 5.57% -free_flow 2.68% - total: 21.7% } - Average time: 6.07s \n",
            "\n",
            "Testing: cut_size_factor: 2 explanation_size_factor: 2 exploration_weight: 5 n_rollouts: 30 remove_value: -10.0\n",
            "[100/100] - 607s - MAE: { severe_congestion 11.3 -congestion 2.56 -free_flow 1.97 - total: 5.29 } - RMSE: { severe_congestion 11.6 -congestion 2.99 -free_flow 2.19 - total: 5.61 } - MAPE: { severe_congestion 56.6% -congestion 5.18% -free_flow 2.92% - total: 21.8% } - Average time: 6.07s \n",
            "\n",
            "Testing: cut_size_factor: 2 explanation_size_factor: 2 exploration_weight: 5 n_rollouts: 50 remove_value: 0.0\n",
            "[100/100] - 996s - MAE: { severe_congestion 10.9 -congestion 2.33 -free_flow 1.69 - total: 4.96 } - RMSE: { severe_congestion 11.2 -congestion 2.78 -free_flow 1.93 - total: 5.29 } - MAPE: { severe_congestion 54.4% -congestion 4.73% -free_flow 2.51% - total: 20.7% } - Average time: 9.96s \n",
            "\n",
            "Testing: cut_size_factor: 2 explanation_size_factor: 2 exploration_weight: 5 n_rollouts: 50 remove_value: -10.0\n",
            "[100/100] - 1014s - MAE: { severe_congestion 11 -congestion 2.24 -free_flow 1.88 - total: 5.03 } - RMSE: { severe_congestion 11.3 -congestion 2.77 -free_flow 2.08 - total: 5.38 } - MAPE: { severe_congestion 55.6% -congestion 4.49% -free_flow 2.78% - total: 21.2% } - Average time: 10.1s \n",
            "\n",
            "Testing: cut_size_factor: 2 explanation_size_factor: 2 exploration_weight: 10 n_rollouts: 30 remove_value: 0.0\n",
            "[100/100] - 633s - MAE: { severe_congestion 11.2 -congestion 2.63 -free_flow 1.76 - total: 5.18 } - RMSE: { severe_congestion 11.5 -congestion 3.13 -free_flow 2.03 - total: 5.52 } - MAPE: { severe_congestion 55.8% -congestion 5.37% -free_flow 2.61% - total: 21.4% } - Average time: 6.33s \n",
            "\n",
            "Testing: cut_size_factor: 2 explanation_size_factor: 2 exploration_weight: 10 n_rollouts: 30 remove_value: -10.0\n",
            "[100/100] - 634s - MAE: { severe_congestion 11.4 -congestion 2.58 -free_flow 1.93 - total: 5.28 } - RMSE: { severe_congestion 11.8 -congestion 2.98 -free_flow 2.17 - total: 5.61 } - MAPE: { severe_congestion 56.9% -congestion 5.17% -free_flow 2.86% - total: 21.8% } - Average time: 6.34s \n",
            "\n",
            "Testing: cut_size_factor: 2 explanation_size_factor: 2 exploration_weight: 10 n_rollouts: 50 remove_value: 0.0\n",
            "[100/100] - 1022s - MAE: { severe_congestion 10.8 -congestion 2.52 -free_flow 1.66 - total: 4.98 } - RMSE: { severe_congestion 11.1 -congestion 2.96 -free_flow 1.88 - total: 5.29 } - MAPE: { severe_congestion 54% -congestion 5.19% -free_flow 2.45% - total: 20.7% } - Average time: 10.2s \n",
            "\n",
            "Testing: cut_size_factor: 2 explanation_size_factor: 2 exploration_weight: 10 n_rollouts: 50 remove_value: -10.0\n",
            "[100/100] - 987s - MAE: { severe_congestion 10.8 -congestion 2.4 -free_flow 1.78 - total: 4.99 } - RMSE: { severe_congestion 11.1 -congestion 2.87 -free_flow 1.96 - total: 5.32 } - MAPE: { severe_congestion 54.6% -congestion 4.82% -free_flow 2.63% - total: 20.9% } - Average time: 9.87s \n",
            "\n",
            "Testing: cut_size_factor: 2 explanation_size_factor: 2 exploration_weight: 20 n_rollouts: 30 remove_value: 0.0\n",
            "[100/100] - 620s - MAE: { severe_congestion 11.1 -congestion 2.48 -free_flow 1.64 - total: 5.07 } - RMSE: { severe_congestion 11.4 -congestion 2.92 -free_flow 1.86 - total: 5.38 } - MAPE: { severe_congestion 55.6% -congestion 5.06% -free_flow 2.43% - total: 21.2% } - Average time: 6.2s \n",
            "\n",
            "Testing: cut_size_factor: 2 explanation_size_factor: 2 exploration_weight: 20 n_rollouts: 30 remove_value: -10.0\n",
            "[100/100] - 612s - MAE: { severe_congestion 11.4 -congestion 2.91 -free_flow 1.9 - total: 5.41 } - RMSE: { severe_congestion 11.8 -congestion 3.36 -free_flow 2.12 - total: 5.75 } - MAPE: { severe_congestion 57.2% -congestion 5.92% -free_flow 2.8% - total: 22.2% } - Average time: 6.12s \n",
            "\n",
            "Testing: cut_size_factor: 2 explanation_size_factor: 2 exploration_weight: 20 n_rollouts: 50 remove_value: 0.0\n",
            "[100/100] - 1097s - MAE: { severe_congestion 10.7 -congestion 2.63 -free_flow 1.68 - total: 5.01 } - RMSE: { severe_congestion 11 -congestion 3.13 -free_flow 1.89 - total: 5.33 } - MAPE: { severe_congestion 54.1% -congestion 5.32% -free_flow 2.49% - total: 20.8% } - Average time: 11s \n",
            "\n",
            "Testing: cut_size_factor: 2 explanation_size_factor: 2 exploration_weight: 20 n_rollouts: 50 remove_value: -10.0\n",
            "[100/100] - 1080s - MAE: { severe_congestion 10.9 -congestion 2.62 -free_flow 1.82 - total: 5.11 } - RMSE: { severe_congestion 11.2 -congestion 3.19 -free_flow 2.01 - total: 5.47 } - MAPE: { severe_congestion 55% -congestion 5.34% -free_flow 2.69% - total: 21.2% } - Average time: 10.8s \n",
            "\n",
            "Testing: cut_size_factor: 2 explanation_size_factor: 3 exploration_weight: 5 n_rollouts: 30 remove_value: 0.0\n",
            "[100/100] - 825s - MAE: { severe_congestion 11.4 -congestion 2.63 -free_flow 1.76 - total: 5.24 } - RMSE: { severe_congestion 11.6 -congestion 3.09 -free_flow 2.03 - total: 5.56 } - MAPE: { severe_congestion 56.4% -congestion 5.34% -free_flow 2.61% - total: 21.6% } - Average time: 8.25s \n",
            "\n",
            "Testing: cut_size_factor: 2 explanation_size_factor: 3 exploration_weight: 5 n_rollouts: 30 remove_value: -10.0\n",
            "[100/100] - 824s - MAE: { severe_congestion 11.2 -congestion 2.84 -free_flow 1.86 - total: 5.29 } - RMSE: { severe_congestion 11.6 -congestion 3.36 -free_flow 2.06 - total: 5.65 } - MAPE: { severe_congestion 56.3% -congestion 5.77% -free_flow 2.75% - total: 21.8% } - Average time: 8.24s \n",
            "\n",
            "Testing: cut_size_factor: 2 explanation_size_factor: 3 exploration_weight: 5 n_rollouts: 50 remove_value: 0.0\n",
            "[100/100] - 1350s - MAE: { severe_congestion 10.6 -congestion 2.17 -free_flow 1.62 - total: 4.78 } - RMSE: { severe_congestion 10.8 -congestion 2.61 -free_flow 1.85 - total: 5.09 } - MAPE: { severe_congestion 53.3% -congestion 4.41% -free_flow 2.41% - total: 20.2% } - Average time: 13.5s \n",
            "\n",
            "Testing: cut_size_factor: 2 explanation_size_factor: 3 exploration_weight: 5 n_rollouts: 50 remove_value: -10.0\n",
            "[100/100] - 1342s - MAE: { severe_congestion 10.6 -congestion 2.65 -free_flow 1.78 - total: 5.02 } - RMSE: { severe_congestion 11 -congestion 3.13 -free_flow 1.97 - total: 5.35 } - MAPE: { severe_congestion 53.7% -congestion 5.37% -free_flow 2.63% - total: 20.8% } - Average time: 13.4s \n",
            "\n",
            "Testing: cut_size_factor: 2 explanation_size_factor: 3 exploration_weight: 10 n_rollouts: 30 remove_value: 0.0\n",
            "[100/100] - 810s - MAE: { severe_congestion 10.7 -congestion 2.66 -free_flow 1.74 - total: 5.03 } - RMSE: { severe_congestion 11 -congestion 3.08 -free_flow 1.96 - total: 5.32 } - MAPE: { severe_congestion 54.3% -congestion 5.44% -free_flow 2.58% - total: 20.9% } - Average time: 8.1s \n",
            "\n",
            "Testing: cut_size_factor: 2 explanation_size_factor: 3 exploration_weight: 10 n_rollouts: 30 remove_value: -10.0\n",
            "[100/100] - 803s - MAE: { severe_congestion 10.9 -congestion 2.95 -free_flow 1.9 - total: 5.26 } - RMSE: { severe_congestion 11.3 -congestion 3.49 -free_flow 2.12 - total: 5.61 } - MAPE: { severe_congestion 54.9% -congestion 5.96% -free_flow 2.82% - total: 21.4% } - Average time: 8.03s \n",
            "\n",
            "Testing: cut_size_factor: 2 explanation_size_factor: 3 exploration_weight: 10 n_rollouts: 50 remove_value: 0.0\n",
            "[100/100] - 1354s - MAE: { severe_congestion 10.7 -congestion 2.65 -free_flow 1.69 - total: 5.01 } - RMSE: { severe_congestion 11 -congestion 3.17 -free_flow 1.95 - total: 5.36 } - MAPE: { severe_congestion 53.7% -congestion 5.4% -free_flow 2.5% - total: 20.7% } - Average time: 13.5s \n",
            "\n",
            "Testing: cut_size_factor: 2 explanation_size_factor: 3 exploration_weight: 10 n_rollouts: 50 remove_value: -10.0\n",
            "[100/100] - 1427s - MAE: { severe_congestion 10.8 -congestion 2.53 -free_flow 1.82 - total: 5.05 } - RMSE: { severe_congestion 11.2 -congestion 2.99 -free_flow 2.04 - total: 5.4 } - MAPE: { severe_congestion 54.6% -congestion 5.14% -free_flow 2.69% - total: 21% } - Average time: 14.3s \n",
            "\n",
            "Testing: cut_size_factor: 2 explanation_size_factor: 3 exploration_weight: 20 n_rollouts: 30 remove_value: 0.0\n",
            "[100/100] - 874s - MAE: { severe_congestion 10.9 -congestion 2.62 -free_flow 1.76 - total: 5.11 } - RMSE: { severe_congestion 11.2 -congestion 3.1 -free_flow 2.01 - total: 5.44 } - MAPE: { severe_congestion 54.7% -congestion 5.37% -free_flow 2.61% - total: 21.1% } - Average time: 8.74s \n",
            "\n",
            "Testing: cut_size_factor: 2 explanation_size_factor: 3 exploration_weight: 20 n_rollouts: 30 remove_value: -10.0\n",
            "[100/100] - 869s - MAE: { severe_congestion 11.3 -congestion 3.01 -free_flow 1.95 - total: 5.43 } - RMSE: { severe_congestion 11.7 -congestion 3.63 -free_flow 2.19 - total: 5.81 } - MAPE: { severe_congestion 56.9% -congestion 6.11% -free_flow 2.88% - total: 22.2% } - Average time: 8.69s \n",
            "\n",
            "Testing: cut_size_factor: 2 explanation_size_factor: 3 exploration_weight: 20 n_rollouts: 50 remove_value: 0.0\n",
            "[100/100] - 1435s - MAE: { severe_congestion 10.6 -congestion 2.15 -free_flow 1.67 - total: 4.81 } - RMSE: { severe_congestion 10.9 -congestion 2.57 -free_flow 1.88 - total: 5.1 } - MAPE: { severe_congestion 53.4% -congestion 4.38% -free_flow 2.47% - total: 20.3% } - Average time: 14.3s \n",
            "\n",
            "Testing: cut_size_factor: 2 explanation_size_factor: 3 exploration_weight: 20 n_rollouts: 50 remove_value: -10.0\n",
            "[100/100] - 1440s - MAE: { severe_congestion 10.7 -congestion 2.38 -free_flow 1.85 - total: 4.98 } - RMSE: { severe_congestion 11 -congestion 2.85 -free_flow 2.03 - total: 5.29 } - MAPE: { severe_congestion 54% -congestion 4.75% -free_flow 2.74% - total: 20.7% } - Average time: 14.4s \n",
            "\n"
          ]
        }
      ],
      "source": [
        "from src.explanation.monte_carlo.explanation import apply_grid_search\n",
        "\n",
        "apply_grid_search(\n",
        "    x_train[::10],\n",
        "    y_train[::10],\n",
        "    distance_matrix,\n",
        "    spatial_temporal_gnn,\n",
        "    scaler,\n",
        "    n_rollouts_list=[30, 50],\n",
        "    explanation_size_factor_list=[2, 3],\n",
        "    cut_size_factor_list=[2],\n",
        "    exploration_weight_list=[5, 10, 20],\n",
        "    remove_value_list=[0., -10.])"
      ]
    },
    {
      "cell_type": "code",
      "execution_count": 14,
      "metadata": {
        "id": "qVtOLnQ68GDf"
      },
      "outputs": [],
      "source": [
        "CUT_SIZE_FACTOR = 2\n",
        "EXPLANATION_SIZE_FACTOR = 3\n",
        "EXPLORATION_WEIGHT = 5\n",
        "N_ROLLOUTS = 50"
      ]
    },
    {
      "cell_type": "code",
      "execution_count": 15,
      "metadata": {
        "id": "3FYN5mEu8GAl"
      },
      "outputs": [],
      "source": [
        "import os\n",
        "import numpy as np\n",
        "\n",
        "EXPLAINED_DATA_DIR = os.path.join(BASE_DATA_DIR, 'explained')\n",
        "os.makedirs(EXPLAINED_DATA_DIR, exist_ok=True)\n"
      ]
    },
    {
      "cell_type": "code",
      "execution_count": 16,
      "metadata": {
        "colab": {
          "base_uri": "https://localhost:8080/"
        },
        "id": "kdB__0mW8F-E",
        "outputId": "18de07a4-72a5-4aa6-a4d5-d460d97a9104"
      },
      "outputs": [
        {
          "name": "stdout",
          "output_type": "stream",
          "text": [
            "Computing the explanations for the training set...\n",
            "[999/999] - 13738s - MAE: { severe_congestion 10.8 -congestion 1.95 -free_flow 1.46 - total: 4.73 } - RMSE: { severe_congestion 11.1 -congestion 2.37 -free_flow 1.64 - total: 5.04 } - MAPE: { severe_congestion 53.6% -congestion 3.9% -free_flow 2.16% - total: 19.9% } - Average time: 13.8s \n"
          ]
        }
      ],
      "source": [
        "from src.explanation.monte_carlo.explanation import get_all_explanations\n",
        "\n",
        "\n",
        "print('Computing the explanations for the training set...')\n",
        "x_train_explained, y_train_explained, train_scores = get_all_explanations(\n",
        "    x_train,\n",
        "    y_train,\n",
        "    distance_matrix,\n",
        "    spatial_temporal_gnn,\n",
        "    scaler,\n",
        "    n_rollouts=N_ROLLOUTS,\n",
        "    explanation_size_factor=EXPLANATION_SIZE_FACTOR,\n",
        "    cut_size_factor=CUT_SIZE_FACTOR,\n",
        "    exploration_weight=EXPLORATION_WEIGHT,\n",
        "    remove_value=0.,\n",
        "    divide_by_traffic_cluster_kind=True)\n",
        "\n",
        "# Save the explained data.\n",
        "np.save(os.path.join(EXPLAINED_DATA_DIR, 'x_train.npy'), x_train_explained)\n",
        "np.save(os.path.join(EXPLAINED_DATA_DIR, 'y_train.npy'), y_train_explained)\n",
        "np.save(os.path.join(EXPLAINED_DATA_DIR, 'train_scores.npy'), train_scores)\n",
        "np.save(os.path.join(EXPLAINED_DATA_DIR, 'x_train_time.npy'), x_train_time)\n",
        "np.save(os.path.join(EXPLAINED_DATA_DIR, 'y_train_time.npy'), y_train_time)\n"
      ]
    },
    {
      "cell_type": "code",
      "execution_count": 17,
      "metadata": {
        "colab": {
          "base_uri": "https://localhost:8080/"
        },
        "id": "WdIyprvn8F7d",
        "outputId": "4c396c5d-9c3b-4e1a-962a-a2b752370f87"
      },
      "outputs": [
        {
          "name": "stdout",
          "output_type": "stream",
          "text": [
            "Computing the explanations for the validation set...\n",
            "[198/198] - 2829s - MAE: { severe_congestion 10.5 -congestion 2.03 -free_flow 1.41 - total: 4.57 } - RMSE: { severe_congestion 10.9 -congestion 2.46 -free_flow 1.63 - total: 4.89 } - MAPE: { severe_congestion 52.6% -congestion 4.22% -free_flow 2.11% - total: 19.3% } - Average time: 14.3s \n"
          ]
        }
      ],
      "source": [
        "from src.explanation.monte_carlo.explanation import get_all_explanations\n",
        "\n",
        "\n",
        "print('Computing the explanations for the validation set...')\n",
        "x_val_explained, y_val_explained, val_scores = get_all_explanations(\n",
        "    x_val,\n",
        "    y_val,\n",
        "    distance_matrix,\n",
        "    spatial_temporal_gnn,\n",
        "    scaler,\n",
        "    n_rollouts=N_ROLLOUTS,\n",
        "    explanation_size_factor=EXPLANATION_SIZE_FACTOR,\n",
        "    cut_size_factor=CUT_SIZE_FACTOR,\n",
        "    exploration_weight=EXPLORATION_WEIGHT,\n",
        "    remove_value=0.,\n",
        "    divide_by_traffic_cluster_kind=True)\n",
        "\n",
        "# Save the explained data.\n",
        "np.save(os.path.join(EXPLAINED_DATA_DIR, 'x_val.npy'), x_val_explained)\n",
        "np.save(os.path.join(EXPLAINED_DATA_DIR, 'y_val.npy'), y_val_explained)\n",
        "np.save(os.path.join(EXPLAINED_DATA_DIR, 'val_scores.npy'), val_scores)\n",
        "np.save(os.path.join(EXPLAINED_DATA_DIR, 'x_val_time.npy'), x_val_time)\n",
        "np.save(os.path.join(EXPLAINED_DATA_DIR, 'y_val_time.npy'), y_val_time)"
      ]
    },
    {
      "cell_type": "code",
      "execution_count": 18,
      "metadata": {
        "colab": {
          "base_uri": "https://localhost:8080/"
        },
        "id": "x-U5tti38F4V",
        "outputId": "b632c836-3ed5-4537-9b83-12692b3d3c42"
      },
      "outputs": [
        {
          "name": "stdout",
          "output_type": "stream",
          "text": [
            "Computing the explanations for the test set...\n",
            "[300/300] - 4006s - MAE: { severe_congestion 10.1 -congestion 2.04 -free_flow 1.47 - total: 4.52 } - RMSE: { severe_congestion 10.4 -congestion 2.46 -free_flow 1.65 - total: 4.81 } - MAPE: { severe_congestion 49.2% -congestion 4.08% -free_flow 2.19% - total: 18.4% } - Average time: 13.4s \n"
          ]
        }
      ],
      "source": [
        "from src.explanation.monte_carlo.explanation import get_all_explanations\n",
        "\n",
        "\n",
        "print('Computing the explanations for the test set...')\n",
        "x_test_explained, y_test_explained, test_scores = get_all_explanations(\n",
        "    x_test,\n",
        "    y_test,\n",
        "    distance_matrix,\n",
        "    spatial_temporal_gnn,\n",
        "    scaler,\n",
        "    n_rollouts=N_ROLLOUTS,\n",
        "    explanation_size_factor=EXPLANATION_SIZE_FACTOR,\n",
        "    cut_size_factor=CUT_SIZE_FACTOR,\n",
        "    exploration_weight=EXPLORATION_WEIGHT,\n",
        "    remove_value=0.,\n",
        "    divide_by_traffic_cluster_kind=True)\n",
        "\n",
        "# Save the explained data.\n",
        "np.save(os.path.join(EXPLAINED_DATA_DIR, 'x_test.npy'), x_test_explained)\n",
        "np.save(os.path.join(EXPLAINED_DATA_DIR, 'y_test.npy'), y_test_explained)\n",
        "np.save(os.path.join(EXPLAINED_DATA_DIR, 'test_scores.npy'), test_scores)\n",
        "np.save(os.path.join(EXPLAINED_DATA_DIR, 'x_test_time.npy'), x_test_time)\n",
        "np.save(os.path.join(EXPLAINED_DATA_DIR, 'y_test_time.npy'), y_test_time)"
      ]
    }
  ],
  "metadata": {
    "accelerator": "GPU",
    "colab": {
      "gpuType": "T4",
      "provenance": []
    },
    "kernelspec": {
      "display_name": "Python 3",
      "name": "python3"
    },
    "language_info": {
      "codemirror_mode": {
        "name": "ipython",
        "version": 3
      },
      "file_extension": ".py",
      "mimetype": "text/x-python",
      "name": "python",
      "nbconvert_exporter": "python",
      "pygments_lexer": "ipython3",
      "version": "3.10.0"
    },
    "orig_nbformat": 4
  },
  "nbformat": 4,
  "nbformat_minor": 0
}
