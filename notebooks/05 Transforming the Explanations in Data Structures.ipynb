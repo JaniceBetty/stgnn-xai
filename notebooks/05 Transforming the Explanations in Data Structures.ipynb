{
 "cells": [
  {
   "cell_type": "code",
   "execution_count": 1,
   "metadata": {},
   "outputs": [],
   "source": [
    "import sys\n",
    "import os\n",
    "\n",
    "# Set the main path in the root folder of the project.\n",
    "sys.path.append(os.path.join('..'))"
   ]
  },
  {
   "cell_type": "code",
   "execution_count": 2,
   "metadata": {},
   "outputs": [],
   "source": [
    "# Settings for autoreloading.\n",
    "%load_ext autoreload\n",
    "%autoreload 2"
   ]
  },
  {
   "cell_type": "code",
   "execution_count": 3,
   "metadata": {},
   "outputs": [],
   "source": [
    "from src.utils.seed import set_random_seed\n",
    "\n",
    "# Set the random seed for deterministic operations.\n",
    "SEED = 42\n",
    "set_random_seed(SEED)"
   ]
  },
  {
   "cell_type": "code",
   "execution_count": 4,
   "metadata": {},
   "outputs": [
    {
     "name": "stdout",
     "output_type": "stream",
     "text": [
      "The selected device is: \"cuda\"\n"
     ]
    }
   ],
   "source": [
    "import torch\n",
    "\n",
    "# Set the device for training and querying the model.\n",
    "DEVICE = 'cuda' if torch.cuda.is_available() else 'cpu'\n",
    "print(f'The selected device is: \"{DEVICE}\"')"
   ]
  },
  {
   "attachments": {},
   "cell_type": "markdown",
   "metadata": {},
   "source": [
    "# Loading the Data"
   ]
  },
  {
   "cell_type": "code",
   "execution_count": 5,
   "metadata": {},
   "outputs": [],
   "source": [
    "import os\n",
    "\n",
    "BASE_DATA_DIR = os.path.join('..', 'data', 'metr-la')"
   ]
  },
  {
   "cell_type": "code",
   "execution_count": 6,
   "metadata": {},
   "outputs": [],
   "source": [
    "import pickle\n",
    "with open(os.path.join(BASE_DATA_DIR, 'processed', 'scaler.pkl'), 'rb') as f:\n",
    "    scaler = pickle.load(f)"
   ]
  },
  {
   "cell_type": "code",
   "execution_count": 7,
   "metadata": {},
   "outputs": [
    {
     "name": "stderr",
     "output_type": "stream",
     "text": [
      "c:\\Users\\riccardo\\AppData\\Local\\Programs\\Python\\Python310\\lib\\site-packages\\torch\\nn\\modules\\lazy.py:180: UserWarning: Lazy modules are a new feature under heavy development so changes to the API or functionality can happen at any moment.\n",
      "  warnings.warn('Lazy modules are a new feature under heavy development '\n"
     ]
    }
   ],
   "source": [
    "from src.spatial_temporal_gnn.model import SpatialTemporalGNN\n",
    "from src.explanation.navigator.model import Navigator\n",
    "from src.data.data_extraction import get_adjacency_matrix\n",
    "\n",
    "# Get the adjacency matrix\n",
    "adj_matrix_structure = get_adjacency_matrix(\n",
    "    os.path.join(BASE_DATA_DIR, 'raw', 'adj_mx_metr_la.pkl'))\n",
    "\n",
    "# Get the header of the adjacency matrix, the node indices and the\n",
    "# matrix itself.\n",
    "header, node_ids_dict, adj_matrix = adj_matrix_structure\n",
    "\n",
    "# Get the STGNN and load the checkpoints.\n",
    "spatial_temporal_gnn = SpatialTemporalGNN(9, 1, 12, 12, adj_matrix, DEVICE, 64)\n",
    "\n",
    "stgnn_checkpoints_path = os.path.join('..', 'models', 'checkpoints',\n",
    "                                      'st_gnn_metr_la.pth')\n",
    "\n",
    "stgnn_checkpoints = torch.load(stgnn_checkpoints_path)\n",
    "spatial_temporal_gnn.load_state_dict(stgnn_checkpoints['model_state_dict'])\n",
    "\n",
    "# Set the STGNN in evaluation mode.\n",
    "spatial_temporal_gnn.eval();\n",
    "\n",
    "# Get the Navigator and load the checkpoints.\n",
    "navigator = Navigator(DEVICE)\n",
    "\n",
    "navigator_checkpoints_path = os.path.join('..', 'models', 'checkpoints',\n",
    "                                          'navigator_metr_la.pth')\n",
    "\n",
    "navigator_checkpoints = torch.load(navigator_checkpoints_path)\n",
    "navigator.load_state_dict(navigator_checkpoints['model_state_dict'])\n",
    "\n",
    "# Set the Navigator in evaluation mode.\n",
    "navigator.eval();"
   ]
  },
  {
   "cell_type": "code",
   "execution_count": 8,
   "metadata": {},
   "outputs": [],
   "source": [
    "from src.data.data_extraction import get_locations_dataframe\n",
    "\n",
    "# Get the dataframe containing the latitude and longitude of each sensor.\n",
    "locations_df = get_locations_dataframe(\n",
    "    os.path.join(BASE_DATA_DIR, 'raw', 'graph_sensor_locations_metr_la.csv'),\n",
    "    has_header=True)"
   ]
  },
  {
   "cell_type": "code",
   "execution_count": 9,
   "metadata": {},
   "outputs": [],
   "source": [
    "# Get the node positions dictionary.\n",
    "node_pos_dict = { i: id for id, i in node_ids_dict.items() }"
   ]
  },
  {
   "cell_type": "code",
   "execution_count": 10,
   "metadata": {},
   "outputs": [],
   "source": [
    "import pickle\n",
    "\n",
    "# Get the data scaler.\n",
    "with open(os.path.join(BASE_DATA_DIR, 'processed', 'scaler.pkl'), 'rb') as f:\n",
    "    scaler = pickle.load(f)"
   ]
  },
  {
   "cell_type": "code",
   "execution_count": 11,
   "metadata": {},
   "outputs": [],
   "source": [
    "import os\n",
    "import numpy as np\n",
    "\n",
    "# Get the data used for explanations.\n",
    "x_train = np.load(os.path.join(BASE_DATA_DIR, 'explainable', 'x_train.npy'))\n",
    "y_train = np.load(os.path.join(BASE_DATA_DIR, 'explainable', 'y_train.npy'))\n",
    "x_val = np.load(os.path.join(BASE_DATA_DIR, 'explainable', 'x_val.npy'))\n",
    "y_val = np.load(os.path.join(BASE_DATA_DIR, 'explainable', 'y_val.npy'))\n",
    "x_test = np.load(os.path.join(BASE_DATA_DIR, 'explainable', 'x_test.npy'))\n",
    "y_test = np.load(os.path.join(BASE_DATA_DIR, 'explainable', 'y_test.npy'))\n",
    "\n",
    "# Get the time information of the data used for explanations.\n",
    "x_train_time = np.load(os.path.join(BASE_DATA_DIR, 'explainable', 'x_train_time.npy'))\n",
    "y_train_time = np.load(os.path.join(BASE_DATA_DIR, 'explainable', 'y_train_time.npy'))\n",
    "x_val_time = np.load(os.path.join(BASE_DATA_DIR, 'explainable', 'x_val_time.npy'))\n",
    "y_val_time = np.load(os.path.join(BASE_DATA_DIR, 'explainable', 'y_val_time.npy'))\n",
    "x_test_time = np.load(os.path.join(BASE_DATA_DIR, 'explainable', 'x_test_time.npy'))\n",
    "y_test_time = np.load(os.path.join(BASE_DATA_DIR, 'explainable', 'y_test_time.npy'))"
   ]
  },
  {
   "cell_type": "code",
   "execution_count": 12,
   "metadata": {},
   "outputs": [],
   "source": [
    "from geopy.geocoders import Nominatim\n",
    "from geopy.extra.rate_limiter import RateLimiter\n",
    "\n",
    "geocoder = Nominatim(user_agent='metr-la')\n",
    "\n",
    "geocode = RateLimiter(\n",
    "    geocoder.geocode,\n",
    "    min_delay_seconds=.05,\n",
    "    return_value_on_exception=None)"
   ]
  },
  {
   "cell_type": "code",
   "execution_count": 13,
   "metadata": {},
   "outputs": [],
   "source": [
    "import pandas as pd\n",
    "\n",
    "def get_road(row: pd.Series) -> str:\n",
    "    data = geocoder.reverse((row['latitude'], row['longitude'])).raw\n",
    "    road = data['address']['road']\n",
    "    return road"
   ]
  },
  {
   "cell_type": "code",
   "execution_count": 14,
   "metadata": {},
   "outputs": [],
   "source": [
    "locations_df['road'] = locations_df.apply(get_road, axis=1)"
   ]
  },
  {
   "cell_type": "code",
   "execution_count": 15,
   "metadata": {},
   "outputs": [],
   "source": [
    "'''locations_df['location'] = locations_df.apply(\n",
    "    lambda row: geocoder.reverse((row['latitude'], row['longitude'])).raw,\n",
    "    axis=1)''';"
   ]
  },
  {
   "cell_type": "code",
   "execution_count": 16,
   "metadata": {},
   "outputs": [],
   "source": [
    "'''for id, lat, long, road in zip(locations_df['sensor_id'], locations_df['latitude'], locations_df['longitude'], locations_df['road']):\n",
    "    if road == 'Arroyo Seco Parkway':\n",
    "        print(id, lat, long)''';"
   ]
  },
  {
   "cell_type": "code",
   "execution_count": 17,
   "metadata": {},
   "outputs": [],
   "source": [
    "'''# Open the file containing the highway nodes information.\n",
    "import json\n",
    "\n",
    "with open(os.path.join(BASE_DATA_DIR, 'raw', 'Street Centerline.geojson'), 'rb') as f:\n",
    "    highway_nodes = json.load(f)['features']''';"
   ]
  },
  {
   "cell_type": "code",
   "execution_count": 18,
   "metadata": {},
   "outputs": [],
   "source": [
    "# highway_nodes"
   ]
  },
  {
   "cell_type": "code",
   "execution_count": 19,
   "metadata": {},
   "outputs": [],
   "source": [
    "# set(v ['address']['road'] for v in locations_df['location'].values)"
   ]
  },
  {
   "cell_type": "code",
   "execution_count": 20,
   "metadata": {},
   "outputs": [],
   "source": [
    "# locations_df['location'].values[0]"
   ]
  },
  {
   "cell_type": "code",
   "execution_count": 21,
   "metadata": {},
   "outputs": [
    {
     "data": {
      "text/plain": [
       "{'Arroyo Seco Parkway',\n",
       " 'East 4th Street',\n",
       " 'Foothill Freeway',\n",
       " 'Glendale Freeway',\n",
       " 'Golden State Freeway',\n",
       " 'Hollywood Freeway',\n",
       " 'San Diego Freeway',\n",
       " 'Santa Ana Freeway',\n",
       " 'Sherman Way',\n",
       " 'US 101',\n",
       " 'Ventura Freeway'}"
      ]
     },
     "execution_count": 21,
     "metadata": {},
     "output_type": "execute_result"
    }
   ],
   "source": [
    "set(road for road in locations_df['road'].values)"
   ]
  },
  {
   "attachments": {},
   "cell_type": "markdown",
   "metadata": {},
   "source": [
    "Fixing wrong assignment of coordinates"
   ]
  },
  {
   "cell_type": "code",
   "execution_count": 22,
   "metadata": {},
   "outputs": [],
   "source": [
    "'''for road in locations_df['road'].values:\n",
    "    if road == 'Sherman Way':\n",
    "        print('Wrong point:')\n",
    "        print(road)''';"
   ]
  },
  {
   "cell_type": "code",
   "execution_count": 23,
   "metadata": {},
   "outputs": [],
   "source": [
    "'''for v in locations_df['location'].values:\n",
    "    if v['address']['road'] == 'East 4th Street':\n",
    "        print('Wrong point:')\n",
    "        print(v)''';"
   ]
  },
  {
   "cell_type": "code",
   "execution_count": 24,
   "metadata": {},
   "outputs": [],
   "source": [
    "'''for v in locations_df['location'].values:\n",
    "    if v['address']['road'] == 'US 101':\n",
    "        print('Wrong point:')\n",
    "        print(v)''';"
   ]
  },
  {
   "attachments": {},
   "cell_type": "markdown",
   "metadata": {},
   "source": [
    "By searching these coordinates, it can be observed that they refer to the Golden State Freeway, hence we manually change this wrongly assigned reference"
   ]
  },
  {
   "cell_type": "code",
   "execution_count": 25,
   "metadata": {},
   "outputs": [],
   "source": [
    "import pandas as pd\n",
    "\n",
    "\n",
    "def change_road_name(row: pd.Series) -> str:\n",
    "    if row['road'] == 'East 4th Street':\n",
    "        return 'Golden State Freeway'\n",
    "\n",
    "    elif row['road'] == 'Sherman Way':\n",
    "        return 'San Diego Freeway'\n",
    "\n",
    "    elif row['road'] == 'US 101':\n",
    "        return 'Hollywood Freeway'\n",
    "\n",
    "    return row['road']"
   ]
  },
  {
   "cell_type": "code",
   "execution_count": 26,
   "metadata": {},
   "outputs": [],
   "source": [
    "locations_df['road'] = locations_df.apply(change_road_name, axis=1)"
   ]
  },
  {
   "cell_type": "code",
   "execution_count": 27,
   "metadata": {},
   "outputs": [],
   "source": [
    "'''for v in locations_df:\n",
    "    print(v)\n",
    "    if v['road'] == 'East 4th Street':\n",
    "        v['road'] = 'Golden State Freeway'\n",
    "    elif v['road'] == 'Sherman Way':\n",
    "        v['road'] = 'San Diego Freeway'\n",
    "    elif v['road'] == 'US 101':\n",
    "        v['road'] = 'Hollywood Freeway''';\n",
    "    #old_entry = locations_df.loc[i]\n",
    "    #new_entry = old_entry.copy()\n",
    "    #new_entry['location'] = v\n",
    "\n",
    "    #locations_df.loc[i] = old_entry"
   ]
  },
  {
   "cell_type": "code",
   "execution_count": 28,
   "metadata": {},
   "outputs": [
    {
     "data": {
      "text/plain": [
       "{'Arroyo Seco Parkway',\n",
       " 'Foothill Freeway',\n",
       " 'Glendale Freeway',\n",
       " 'Golden State Freeway',\n",
       " 'Hollywood Freeway',\n",
       " 'San Diego Freeway',\n",
       " 'Santa Ana Freeway',\n",
       " 'Ventura Freeway'}"
      ]
     },
     "execution_count": 28,
     "metadata": {},
     "output_type": "execute_result"
    }
   ],
   "source": [
    "set(road for road in locations_df['road'].values)"
   ]
  },
  {
   "cell_type": "code",
   "execution_count": 29,
   "metadata": {},
   "outputs": [],
   "source": [
    "'''\n",
    "for v in locations_df['location'].values:\n",
    "    if v['address']['road'] == 'East 4th Street':\n",
    "        print('Wrong point:')\n",
    "        print(v)\n",
    "''';"
   ]
  },
  {
   "cell_type": "code",
   "execution_count": 30,
   "metadata": {},
   "outputs": [],
   "source": [
    "'''from typing import Any, Dict, List, Tuple\n",
    "\n",
    "def get_road_beginning_coordinates(\n",
    "    highway_nodes: List[Dict[str, Any]],\n",
    "    road_name: str,\n",
    "    entry_road_name: str\n",
    "    ) -> Tuple[float, float]:\n",
    "    def is_highway_point_matching(point: Dict[str, Any]) -> bool:\n",
    "        properties = point['properties']\n",
    "        entry_point_matches = 'from_st' in properties and \\\n",
    "            properties['from_st'] is not None and \\\n",
    "            entry_road_name.lower() == properties['from_st'].lower()\n",
    "        exit_point_matches = 'to_st' in properties and \\\n",
    "            properties['to_st'] is not None and \\\n",
    "            road_name.lower() == properties['to_st'].lower()\n",
    "        return entry_point_matches and exit_point_matches\n",
    "\n",
    "    for point in highway_nodes:\n",
    "        if is_highway_point_matching(point):\n",
    "            properties = point['properties']\n",
    "            return properties['lat'], properties['lon']\n",
    "    return None''';"
   ]
  },
  {
   "cell_type": "code",
   "execution_count": 31,
   "metadata": {},
   "outputs": [],
   "source": [
    "# a = get_road_beginning_coordinates(highway_nodes, 'Pasadena Frwy', 'Alpine St')"
   ]
  },
  {
   "cell_type": "code",
   "execution_count": 32,
   "metadata": {},
   "outputs": [],
   "source": [
    "# print(a)"
   ]
  },
  {
   "attachments": {},
   "cell_type": "markdown",
   "metadata": {},
   "source": [
    "Road Beginnings Measured from: \n",
    "* [ArcGIS official website](https://www.arcgis.com/home/webmap/viewer.html?featurecollection=https%3A%2F%2Fgeo.dot.gov%2Fserver%2Frest%2Fservices%2FHosted%2FCalifornia_2018_PR%2FFeatureServer%3Ff%3Djson%26option%3Dfootprints&supportsProjection=true&supportsJSONP=true)"
   ]
  },
  {
   "cell_type": "code",
   "execution_count": 33,
   "metadata": {},
   "outputs": [],
   "source": [
    "road_beginnings = {\n",
    "    'Arroyo Seco Parkway': (34.06261, -118.24863),\n",
    "    'Foothill Freeway': (34.317596, -118.481173),\n",
    "    'Glendale Freeway': (34.207526, -118.215157),\n",
    "    'Golden State Freeway': (34.060422, -118.213057),\n",
    "    'Hollywood Freeway': (34.151159, -118.373795),\n",
    "    'San Diego Freeway': (34.294368, -118.469921),\n",
    "    'Santa Ana Freeway': (34.06312,\t-118.247073),\n",
    "    'Ventura Freeway': (34.147306, -118.160817)}"
   ]
  },
  {
   "cell_type": "code",
   "execution_count": 34,
   "metadata": {},
   "outputs": [],
   "source": [
    "'''from geopy.distance import distance\n",
    "\n",
    "coords_1 = (52.2296756, 21.0122287)\n",
    "coords_2 = (52.406374, 16.9251681)\n",
    "\n",
    "print(distance(coords_1, coords_2).km)''';"
   ]
  },
  {
   "cell_type": "code",
   "execution_count": 37,
   "metadata": {},
   "outputs": [],
   "source": [
    "import pandas as pd\n",
    "from geopy.distance import distance\n",
    "\n",
    "\n",
    "def get_kilometrage(\n",
    "    row: pd.Series,\n",
    "    ) -> float:\n",
    "    road = row['road']\n",
    "    road_beginning_coordinates = road_beginnings[road]\n",
    "    coordinates = (row['latitude'], row['longitude'])\n",
    "    return distance(road_beginning_coordinates, coordinates).km"
   ]
  },
  {
   "cell_type": "code",
   "execution_count": 38,
   "metadata": {},
   "outputs": [],
   "source": [
    "locations_df['kilometrage'] = locations_df.apply(get_kilometrage, axis=1)"
   ]
  },
  {
   "cell_type": "code",
   "execution_count": 40,
   "metadata": {},
   "outputs": [
    {
     "data": {
      "text/html": [
       "<div>\n",
       "<style scoped>\n",
       "    .dataframe tbody tr th:only-of-type {\n",
       "        vertical-align: middle;\n",
       "    }\n",
       "\n",
       "    .dataframe tbody tr th {\n",
       "        vertical-align: top;\n",
       "    }\n",
       "\n",
       "    .dataframe thead th {\n",
       "        text-align: right;\n",
       "    }\n",
       "</style>\n",
       "<table border=\"1\" class=\"dataframe\">\n",
       "  <thead>\n",
       "    <tr style=\"text-align: right;\">\n",
       "      <th></th>\n",
       "      <th>sensor_id</th>\n",
       "      <th>latitude</th>\n",
       "      <th>longitude</th>\n",
       "      <th>road</th>\n",
       "      <th>kilometrage</th>\n",
       "    </tr>\n",
       "    <tr>\n",
       "      <th>index</th>\n",
       "      <th></th>\n",
       "      <th></th>\n",
       "      <th></th>\n",
       "      <th></th>\n",
       "      <th></th>\n",
       "    </tr>\n",
       "  </thead>\n",
       "  <tbody>\n",
       "    <tr>\n",
       "      <th>0</th>\n",
       "      <td>773869</td>\n",
       "      <td>34.15497</td>\n",
       "      <td>-118.31829</td>\n",
       "      <td>Ventura Freeway</td>\n",
       "      <td>14.547154</td>\n",
       "    </tr>\n",
       "    <tr>\n",
       "      <th>1</th>\n",
       "      <td>767541</td>\n",
       "      <td>34.11621</td>\n",
       "      <td>-118.23799</td>\n",
       "      <td>Glendale Freeway</td>\n",
       "      <td>10.345752</td>\n",
       "    </tr>\n",
       "    <tr>\n",
       "      <th>2</th>\n",
       "      <td>767542</td>\n",
       "      <td>34.11641</td>\n",
       "      <td>-118.23819</td>\n",
       "      <td>Glendale Freeway</td>\n",
       "      <td>10.327808</td>\n",
       "    </tr>\n",
       "    <tr>\n",
       "      <th>3</th>\n",
       "      <td>717447</td>\n",
       "      <td>34.07248</td>\n",
       "      <td>-118.26772</td>\n",
       "      <td>Hollywood Freeway</td>\n",
       "      <td>13.112986</td>\n",
       "    </tr>\n",
       "    <tr>\n",
       "      <th>4</th>\n",
       "      <td>717446</td>\n",
       "      <td>34.07142</td>\n",
       "      <td>-118.26572</td>\n",
       "      <td>Hollywood Freeway</td>\n",
       "      <td>13.329056</td>\n",
       "    </tr>\n",
       "    <tr>\n",
       "      <th>5</th>\n",
       "      <td>717445</td>\n",
       "      <td>34.06913</td>\n",
       "      <td>-118.25932</td>\n",
       "      <td>Hollywood Freeway</td>\n",
       "      <td>13.940930</td>\n",
       "    </tr>\n",
       "    <tr>\n",
       "      <th>6</th>\n",
       "      <td>773062</td>\n",
       "      <td>34.05368</td>\n",
       "      <td>-118.23369</td>\n",
       "      <td>Santa Ana Freeway</td>\n",
       "      <td>1.619571</td>\n",
       "    </tr>\n",
       "    <tr>\n",
       "      <th>7</th>\n",
       "      <td>767620</td>\n",
       "      <td>34.13486</td>\n",
       "      <td>-118.22932</td>\n",
       "      <td>Glendale Freeway</td>\n",
       "      <td>8.165598</td>\n",
       "    </tr>\n",
       "    <tr>\n",
       "      <th>8</th>\n",
       "      <td>737529</td>\n",
       "      <td>34.20264</td>\n",
       "      <td>-118.47352</td>\n",
       "      <td>San Diego Freeway</td>\n",
       "      <td>10.180500</td>\n",
       "    </tr>\n",
       "    <tr>\n",
       "      <th>9</th>\n",
       "      <td>717816</td>\n",
       "      <td>34.15562</td>\n",
       "      <td>-118.46860</td>\n",
       "      <td>San Diego Freeway</td>\n",
       "      <td>15.391305</td>\n",
       "    </tr>\n",
       "  </tbody>\n",
       "</table>\n",
       "</div>"
      ],
      "text/plain": [
       "      sensor_id  latitude  longitude               road  kilometrage\n",
       "index                                                               \n",
       "0        773869  34.15497 -118.31829    Ventura Freeway    14.547154\n",
       "1        767541  34.11621 -118.23799   Glendale Freeway    10.345752\n",
       "2        767542  34.11641 -118.23819   Glendale Freeway    10.327808\n",
       "3        717447  34.07248 -118.26772  Hollywood Freeway    13.112986\n",
       "4        717446  34.07142 -118.26572  Hollywood Freeway    13.329056\n",
       "5        717445  34.06913 -118.25932  Hollywood Freeway    13.940930\n",
       "6        773062  34.05368 -118.23369  Santa Ana Freeway     1.619571\n",
       "7        767620  34.13486 -118.22932   Glendale Freeway     8.165598\n",
       "8        737529  34.20264 -118.47352  San Diego Freeway    10.180500\n",
       "9        717816  34.15562 -118.46860  San Diego Freeway    15.391305"
      ]
     },
     "execution_count": 40,
     "metadata": {},
     "output_type": "execute_result"
    }
   ],
   "source": [
    "locations_df.head(10)"
   ]
  },
  {
   "cell_type": "code",
   "execution_count": null,
   "metadata": {},
   "outputs": [],
   "source": []
  },
  {
   "cell_type": "code",
   "execution_count": null,
   "metadata": {},
   "outputs": [],
   "source": []
  },
  {
   "cell_type": "code",
   "execution_count": null,
   "metadata": {},
   "outputs": [],
   "source": [
    "'''locations_df['kilometrage'] = locations_df.apply(\n",
    "    lambda row: geocoder.reverse((row['latitude'], row['longitude'])).raw,\n",
    "    axis=1)''';"
   ]
  },
  {
   "cell_type": "code",
   "execution_count": null,
   "metadata": {},
   "outputs": [],
   "source": [
    "'''import requests\n",
    "\n",
    "# Define the API key\n",
    "api_key = YOUR_API_KEY\n",
    "\n",
    "# Define the starting and ending points for the route\n",
    "origin = 'San Francisco, California'\n",
    "destination = 'Cleveland, Ohio'\n",
    "\n",
    "# Build the URL for the Google Maps Distance Matrix API\n",
    "url = 'https://maps.googleapis.com/maps/api/distancematrix/json?units=imperial'\n",
    "url += '&origins=' + origin\n",
    "url += '&destinations=' + destination\n",
    "url += '&mode=driving'\n",
    "url += '&key=' + api_key\n",
    "\n",
    "# Make the API request and store the response\n",
    "response = requests.get(url)\n",
    "data = response.json()\n",
    "\n",
    "#Extract the driving distance from the response\n",
    "driving_distance = data['rows'][0]['elements'][0]['distance']['text']\n",
    "\n",
    "# Print the driving distance\n",
    "print('The driving distance between {} and {} is {}.'.format(origin, destination, driving_distance))''';"
   ]
  },
  {
   "cell_type": "code",
   "execution_count": null,
   "metadata": {},
   "outputs": [],
   "source": []
  },
  {
   "cell_type": "code",
   "execution_count": null,
   "metadata": {},
   "outputs": [],
   "source": [
    "# road_beginnings = {}\n",
    "\n",
    "# road_beginnings['Arroyo Seco Parkway'] = get_road_beginning_coordinates(highway_nodes, 'Pasadena Frwy', 'Alpine St')"
   ]
  },
  {
   "cell_type": "code",
   "execution_count": null,
   "metadata": {},
   "outputs": [
    {
     "name": "stdout",
     "output_type": "stream",
     "text": [
      "{'zip_code': '90012', 'cl_node_id': '58045.0', 'from_st': 'STADIUM WAY', 'x': '6489756.63125', 'y': '1847768.44896', 'assetid': '113351.0', 'lon': '-118.23744492', 'tooltip': 'STADIUM WAY at PASADENA FRWY', 'type': None, 'to_st': 'PASADENA FRWY', 'lat': '34.06952458'}\n",
      "{'zip_code': '90012', 'cl_node_id': '58041.0', 'from_st': 'STADIUM WAY', 'x': '6489886.23646', 'y': '1847913.325', 'assetid': '120397.0', 'lon': '-118.2370181', 'tooltip': 'STADIUM WAY at PASADENA FRWY', 'type': None, 'to_st': 'PASADENA FRWY', 'lat': '34.06992352'}\n",
      "{'zip_code': '90012', 'cl_node_id': '20438.0', 'from_st': 'SOLANO AVE', 'x': '6491504.3651', 'y': '1849664.18854', 'assetid': '132314.0', 'lon': '-118.2316884', 'tooltip': 'SOLANO AVE at PASADENA FRWY', 'type': None, 'to_st': 'PASADENA FRWY', 'lat': '34.07474501'}\n",
      "{'zip_code': '90065', 'cl_node_id': '55770.0', 'from_st': 'PASADENA AVE', 'x': '6497242.03177', 'y': '1853895.53594', 'assetid': '145121.0', 'lon': '-118.21277124', 'tooltip': 'PASADENA AVE at PASADENA FRWY', 'type': None, 'to_st': 'PASADENA FRWY', 'lat': '34.086407'}\n",
      "{'zip_code': '90042', 'cl_node_id': '56497.0', 'from_st': 'MARMION WAY', 'x': '6507066.12917', 'y': '1862895.56146', 'assetid': '148543.0', 'lon': '-118.18037922', 'tooltip': 'MARMION WAY at PASADENA FRWY', 'type': None, 'to_st': 'PASADENA FRWY', 'lat': '34.11119061'}\n",
      "{'zip_code': '90042', 'cl_node_id': '63736.0', 'from_st': 'AVENUE 60', 'x': '6505325.98854', 'y': '1861635.75521', 'assetid': '162783.0', 'lon': '-118.18612026', 'tooltip': 'AVENUE 60 at PASADENA FRWY', 'type': None, 'to_st': 'PASADENA FRWY', 'lat': '34.10772012'}\n",
      "{'zip_code': '90042', 'cl_node_id': '63737.0', 'from_st': 'VIA MARISOL', 'x': '6503812.11458', 'y': '1860271.66198', 'assetid': '162784.0', 'lon': '-118.19111273', 'tooltip': 'VIA MARISOL at PASADENA FRWY', 'type': None, 'to_st': 'PASADENA FRWY', 'lat': '34.10396397'}\n",
      "{'zip_code': '90042', 'cl_node_id': '63738.0', 'from_st': 'AVENUE 52', 'x': '6502222.49271', 'y': '1859900.97188', 'assetid': '162782.0', 'lon': '-118.19636137', 'tooltip': 'AVENUE 52 at PASADENA FRWY', 'type': None, 'to_st': 'PASADENA FRWY', 'lat': '34.10293695'}\n",
      "{'zip_code': '90031', 'cl_node_id': '63739.0', 'from_st': 'AVENUE 43', 'x': '6499215.62708', 'y': '1856385.59792', 'assetid': '162785.0', 'lon': '-118.20627007', 'tooltip': 'AVENUE 43 at PASADENA FRWY', 'type': None, 'to_st': 'PASADENA FRWY', 'lat': '34.09326065'}\n",
      "{'zip_code': '90065', 'cl_node_id': '63741.0', 'from_st': 'AVENUE 26', 'x': '6494528.0974', 'y': '1852782.50156', 'assetid': '162787.0', 'lon': '-118.22172625', 'tooltip': 'AVENUE 26 at PASADENA FRWY', 'type': None, 'to_st': 'PASADENA FRWY', 'lat': '34.08333242'}\n",
      "{'zip_code': '90031', 'cl_node_id': '63742.0', 'from_st': 'SAN FERNANDO ROAD NORTHEAST ROADWAY', 'x': '6493435.63438', 'y': '1851883.68229', 'assetid': '162788.0', 'lon': '-118.22532746', 'tooltip': 'SAN FERNANDO ROAD NORTHEAST ROADWAY at PASADENA FRWY', 'type': None, 'to_st': 'PASADENA FRWY', 'lat': '34.08085592'}\n",
      "{'zip_code': '90031', 'cl_node_id': '63743.0', 'from_st': 'AVENUE 19', 'x': '6493210.04375', 'y': '1851651.91979', 'assetid': '162789.0', 'lon': '-118.22607073', 'tooltip': 'AVENUE 19 at PASADENA FRWY', 'type': None, 'to_st': 'PASADENA FRWY', 'lat': '34.08021768'}\n",
      "{'zip_code': '90012', 'cl_node_id': '63744.0', 'from_st': 'AMADOR ST', 'x': '6491231.4099', 'y': '1849662.34844', 'assetid': '162790.0', 'lon': '-118.23258973', 'tooltip': 'AMADOR ST at PASADENA FRWY', 'type': None, 'to_st': 'PASADENA FRWY', 'lat': '34.07473822'}\n",
      "{'zip_code': '90012', 'cl_node_id': '63745.0', 'from_st': 'STADIUM WAY', 'x': '6490429.6875', 'y': '1848406.77604', 'assetid': '162791.0', 'lon': '-118.23522745', 'tooltip': 'STADIUM WAY at PASADENA FRWY', 'type': None, 'to_st': 'PASADENA FRWY', 'lat': '34.07128296'}\n",
      "{'zip_code': '90012', 'cl_node_id': '63746.0', 'from_st': 'COLLEGE ST', 'x': '6488248.16354', 'y': '1846391.94688', 'assetid': '162792.0', 'lon': '-118.24241486', 'tooltip': 'COLLEGE ST at PASADENA FRWY', 'type': None, 'to_st': 'PASADENA FRWY', 'lat': '34.06573226'}\n",
      "{'zip_code': '90012', 'cl_node_id': '63747.0', 'from_st': 'ALPINE ST', 'x': '6487282.89479', 'y': '1846041.76406', 'assetid': '162793.0', 'lon': '-118.24559917', 'tooltip': 'ALPINE ST at PASADENA FRWY', 'type': None, 'to_st': 'PASADENA FRWY', 'lat': '34.06476357'}\n",
      "{'zip_code': '90042', 'cl_node_id': '63912.0', 'from_st': 'YORK BLVD', 'x': '6508009.97135', 'y': '1863492.91354', 'assetid': '162964.0', 'lon': '-118.17726462', 'tooltip': 'YORK BLVD at PASADENA FRWY', 'type': None, 'to_st': 'PASADENA FRWY', 'lat': '34.11283667'}\n"
     ]
    }
   ],
   "source": [
    "'''\n",
    "for e in highway_nodes:\n",
    "    properties = e['properties']\n",
    "    if ('to_st' in properties and properties['to_st'] is not None and 'pasadena frwy' in properties['to_st'].lower()):\n",
    "        print(properties)\n",
    "''';"
   ]
  },
  {
   "cell_type": "code",
   "execution_count": null,
   "metadata": {},
   "outputs": [
    {
     "ename": "GeocoderUnavailable",
     "evalue": "HTTPSConnectionPool(host='nominatim.openstreetmap.org', port=443): Max retries exceeded with url: /reverse?lat=34.20264&lon=-118.47352&format=json&addressdetails=1 (Caused by ConnectTimeoutError(<urllib3.connection.HTTPSConnection object at 0x00000223F9B1F040>, 'Connection to nominatim.openstreetmap.org timed out. (connect timeout=1)'))",
     "output_type": "error",
     "traceback": [
      "\u001b[1;31m---------------------------------------------------------------------------\u001b[0m",
      "\u001b[1;31mTimeoutError\u001b[0m                              Traceback (most recent call last)",
      "File \u001b[1;32mc:\\Users\\riccardo\\AppData\\Local\\Programs\\Python\\Python310\\lib\\site-packages\\urllib3\\connection.py:174\u001b[0m, in \u001b[0;36mHTTPConnection._new_conn\u001b[1;34m(self)\u001b[0m\n\u001b[0;32m    173\u001b[0m \u001b[39mtry\u001b[39;00m:\n\u001b[1;32m--> 174\u001b[0m     conn \u001b[39m=\u001b[39m connection\u001b[39m.\u001b[39mcreate_connection(\n\u001b[0;32m    175\u001b[0m         (\u001b[39mself\u001b[39m\u001b[39m.\u001b[39m_dns_host, \u001b[39mself\u001b[39m\u001b[39m.\u001b[39mport), \u001b[39mself\u001b[39m\u001b[39m.\u001b[39mtimeout, \u001b[39m*\u001b[39m\u001b[39m*\u001b[39mextra_kw\n\u001b[0;32m    176\u001b[0m     )\n\u001b[0;32m    178\u001b[0m \u001b[39mexcept\u001b[39;00m SocketTimeout:\n",
      "File \u001b[1;32mc:\\Users\\riccardo\\AppData\\Local\\Programs\\Python\\Python310\\lib\\site-packages\\urllib3\\util\\connection.py:95\u001b[0m, in \u001b[0;36mcreate_connection\u001b[1;34m(address, timeout, source_address, socket_options)\u001b[0m\n\u001b[0;32m     94\u001b[0m \u001b[39mif\u001b[39;00m err \u001b[39mis\u001b[39;00m \u001b[39mnot\u001b[39;00m \u001b[39mNone\u001b[39;00m:\n\u001b[1;32m---> 95\u001b[0m     \u001b[39mraise\u001b[39;00m err\n\u001b[0;32m     97\u001b[0m \u001b[39mraise\u001b[39;00m socket\u001b[39m.\u001b[39merror(\u001b[39m\"\u001b[39m\u001b[39mgetaddrinfo returns an empty list\u001b[39m\u001b[39m\"\u001b[39m)\n",
      "File \u001b[1;32mc:\\Users\\riccardo\\AppData\\Local\\Programs\\Python\\Python310\\lib\\site-packages\\urllib3\\util\\connection.py:85\u001b[0m, in \u001b[0;36mcreate_connection\u001b[1;34m(address, timeout, source_address, socket_options)\u001b[0m\n\u001b[0;32m     84\u001b[0m     sock\u001b[39m.\u001b[39mbind(source_address)\n\u001b[1;32m---> 85\u001b[0m sock\u001b[39m.\u001b[39;49mconnect(sa)\n\u001b[0;32m     86\u001b[0m \u001b[39mreturn\u001b[39;00m sock\n",
      "\u001b[1;31mTimeoutError\u001b[0m: timed out",
      "\nDuring handling of the above exception, another exception occurred:\n",
      "\u001b[1;31mConnectTimeoutError\u001b[0m                       Traceback (most recent call last)",
      "File \u001b[1;32mc:\\Users\\riccardo\\AppData\\Local\\Programs\\Python\\Python310\\lib\\site-packages\\urllib3\\connectionpool.py:703\u001b[0m, in \u001b[0;36mHTTPConnectionPool.urlopen\u001b[1;34m(self, method, url, body, headers, retries, redirect, assert_same_host, timeout, pool_timeout, release_conn, chunked, body_pos, **response_kw)\u001b[0m\n\u001b[0;32m    702\u001b[0m \u001b[39m# Make the request on the httplib connection object.\u001b[39;00m\n\u001b[1;32m--> 703\u001b[0m httplib_response \u001b[39m=\u001b[39m \u001b[39mself\u001b[39;49m\u001b[39m.\u001b[39;49m_make_request(\n\u001b[0;32m    704\u001b[0m     conn,\n\u001b[0;32m    705\u001b[0m     method,\n\u001b[0;32m    706\u001b[0m     url,\n\u001b[0;32m    707\u001b[0m     timeout\u001b[39m=\u001b[39;49mtimeout_obj,\n\u001b[0;32m    708\u001b[0m     body\u001b[39m=\u001b[39;49mbody,\n\u001b[0;32m    709\u001b[0m     headers\u001b[39m=\u001b[39;49mheaders,\n\u001b[0;32m    710\u001b[0m     chunked\u001b[39m=\u001b[39;49mchunked,\n\u001b[0;32m    711\u001b[0m )\n\u001b[0;32m    713\u001b[0m \u001b[39m# If we're going to release the connection in ``finally:``, then\u001b[39;00m\n\u001b[0;32m    714\u001b[0m \u001b[39m# the response doesn't need to know about the connection. Otherwise\u001b[39;00m\n\u001b[0;32m    715\u001b[0m \u001b[39m# it will also try to release it and we'll have a double-release\u001b[39;00m\n\u001b[0;32m    716\u001b[0m \u001b[39m# mess.\u001b[39;00m\n",
      "File \u001b[1;32mc:\\Users\\riccardo\\AppData\\Local\\Programs\\Python\\Python310\\lib\\site-packages\\urllib3\\connectionpool.py:386\u001b[0m, in \u001b[0;36mHTTPConnectionPool._make_request\u001b[1;34m(self, conn, method, url, timeout, chunked, **httplib_request_kw)\u001b[0m\n\u001b[0;32m    385\u001b[0m \u001b[39mtry\u001b[39;00m:\n\u001b[1;32m--> 386\u001b[0m     \u001b[39mself\u001b[39;49m\u001b[39m.\u001b[39;49m_validate_conn(conn)\n\u001b[0;32m    387\u001b[0m \u001b[39mexcept\u001b[39;00m (SocketTimeout, BaseSSLError) \u001b[39mas\u001b[39;00m e:\n\u001b[0;32m    388\u001b[0m     \u001b[39m# Py2 raises this as a BaseSSLError, Py3 raises it as socket timeout.\u001b[39;00m\n",
      "File \u001b[1;32mc:\\Users\\riccardo\\AppData\\Local\\Programs\\Python\\Python310\\lib\\site-packages\\urllib3\\connectionpool.py:1042\u001b[0m, in \u001b[0;36mHTTPSConnectionPool._validate_conn\u001b[1;34m(self, conn)\u001b[0m\n\u001b[0;32m   1041\u001b[0m \u001b[39mif\u001b[39;00m \u001b[39mnot\u001b[39;00m \u001b[39mgetattr\u001b[39m(conn, \u001b[39m\"\u001b[39m\u001b[39msock\u001b[39m\u001b[39m\"\u001b[39m, \u001b[39mNone\u001b[39;00m):  \u001b[39m# AppEngine might not have  `.sock`\u001b[39;00m\n\u001b[1;32m-> 1042\u001b[0m     conn\u001b[39m.\u001b[39;49mconnect()\n\u001b[0;32m   1044\u001b[0m \u001b[39mif\u001b[39;00m \u001b[39mnot\u001b[39;00m conn\u001b[39m.\u001b[39mis_verified:\n",
      "File \u001b[1;32mc:\\Users\\riccardo\\AppData\\Local\\Programs\\Python\\Python310\\lib\\site-packages\\urllib3\\connection.py:358\u001b[0m, in \u001b[0;36mHTTPSConnection.connect\u001b[1;34m(self)\u001b[0m\n\u001b[0;32m    356\u001b[0m \u001b[39mdef\u001b[39;00m \u001b[39mconnect\u001b[39m(\u001b[39mself\u001b[39m):\n\u001b[0;32m    357\u001b[0m     \u001b[39m# Add certificate verification\u001b[39;00m\n\u001b[1;32m--> 358\u001b[0m     \u001b[39mself\u001b[39m\u001b[39m.\u001b[39msock \u001b[39m=\u001b[39m conn \u001b[39m=\u001b[39m \u001b[39mself\u001b[39;49m\u001b[39m.\u001b[39;49m_new_conn()\n\u001b[0;32m    359\u001b[0m     hostname \u001b[39m=\u001b[39m \u001b[39mself\u001b[39m\u001b[39m.\u001b[39mhost\n",
      "File \u001b[1;32mc:\\Users\\riccardo\\AppData\\Local\\Programs\\Python\\Python310\\lib\\site-packages\\urllib3\\connection.py:179\u001b[0m, in \u001b[0;36mHTTPConnection._new_conn\u001b[1;34m(self)\u001b[0m\n\u001b[0;32m    178\u001b[0m \u001b[39mexcept\u001b[39;00m SocketTimeout:\n\u001b[1;32m--> 179\u001b[0m     \u001b[39mraise\u001b[39;00m ConnectTimeoutError(\n\u001b[0;32m    180\u001b[0m         \u001b[39mself\u001b[39m,\n\u001b[0;32m    181\u001b[0m         \u001b[39m\"\u001b[39m\u001b[39mConnection to \u001b[39m\u001b[39m%s\u001b[39;00m\u001b[39m timed out. (connect timeout=\u001b[39m\u001b[39m%s\u001b[39;00m\u001b[39m)\u001b[39m\u001b[39m\"\u001b[39m\n\u001b[0;32m    182\u001b[0m         \u001b[39m%\u001b[39m (\u001b[39mself\u001b[39m\u001b[39m.\u001b[39mhost, \u001b[39mself\u001b[39m\u001b[39m.\u001b[39mtimeout),\n\u001b[0;32m    183\u001b[0m     )\n\u001b[0;32m    185\u001b[0m \u001b[39mexcept\u001b[39;00m SocketError \u001b[39mas\u001b[39;00m e:\n",
      "\u001b[1;31mConnectTimeoutError\u001b[0m: (<urllib3.connection.HTTPSConnection object at 0x00000223F9B1F040>, 'Connection to nominatim.openstreetmap.org timed out. (connect timeout=1)')",
      "\nDuring handling of the above exception, another exception occurred:\n",
      "\u001b[1;31mMaxRetryError\u001b[0m                             Traceback (most recent call last)",
      "File \u001b[1;32mc:\\Users\\riccardo\\AppData\\Local\\Programs\\Python\\Python310\\lib\\site-packages\\requests\\adapters.py:489\u001b[0m, in \u001b[0;36mHTTPAdapter.send\u001b[1;34m(self, request, stream, timeout, verify, cert, proxies)\u001b[0m\n\u001b[0;32m    488\u001b[0m \u001b[39mif\u001b[39;00m \u001b[39mnot\u001b[39;00m chunked:\n\u001b[1;32m--> 489\u001b[0m     resp \u001b[39m=\u001b[39m conn\u001b[39m.\u001b[39;49murlopen(\n\u001b[0;32m    490\u001b[0m         method\u001b[39m=\u001b[39;49mrequest\u001b[39m.\u001b[39;49mmethod,\n\u001b[0;32m    491\u001b[0m         url\u001b[39m=\u001b[39;49murl,\n\u001b[0;32m    492\u001b[0m         body\u001b[39m=\u001b[39;49mrequest\u001b[39m.\u001b[39;49mbody,\n\u001b[0;32m    493\u001b[0m         headers\u001b[39m=\u001b[39;49mrequest\u001b[39m.\u001b[39;49mheaders,\n\u001b[0;32m    494\u001b[0m         redirect\u001b[39m=\u001b[39;49m\u001b[39mFalse\u001b[39;49;00m,\n\u001b[0;32m    495\u001b[0m         assert_same_host\u001b[39m=\u001b[39;49m\u001b[39mFalse\u001b[39;49;00m,\n\u001b[0;32m    496\u001b[0m         preload_content\u001b[39m=\u001b[39;49m\u001b[39mFalse\u001b[39;49;00m,\n\u001b[0;32m    497\u001b[0m         decode_content\u001b[39m=\u001b[39;49m\u001b[39mFalse\u001b[39;49;00m,\n\u001b[0;32m    498\u001b[0m         retries\u001b[39m=\u001b[39;49m\u001b[39mself\u001b[39;49m\u001b[39m.\u001b[39;49mmax_retries,\n\u001b[0;32m    499\u001b[0m         timeout\u001b[39m=\u001b[39;49mtimeout,\n\u001b[0;32m    500\u001b[0m     )\n\u001b[0;32m    502\u001b[0m \u001b[39m# Send the request.\u001b[39;00m\n\u001b[0;32m    503\u001b[0m \u001b[39melse\u001b[39;00m:\n",
      "File \u001b[1;32mc:\\Users\\riccardo\\AppData\\Local\\Programs\\Python\\Python310\\lib\\site-packages\\urllib3\\connectionpool.py:815\u001b[0m, in \u001b[0;36mHTTPConnectionPool.urlopen\u001b[1;34m(self, method, url, body, headers, retries, redirect, assert_same_host, timeout, pool_timeout, release_conn, chunked, body_pos, **response_kw)\u001b[0m\n\u001b[0;32m    812\u001b[0m     log\u001b[39m.\u001b[39mwarning(\n\u001b[0;32m    813\u001b[0m         \u001b[39m\"\u001b[39m\u001b[39mRetrying (\u001b[39m\u001b[39m%r\u001b[39;00m\u001b[39m) after connection broken by \u001b[39m\u001b[39m'\u001b[39m\u001b[39m%r\u001b[39;00m\u001b[39m'\u001b[39m\u001b[39m: \u001b[39m\u001b[39m%s\u001b[39;00m\u001b[39m\"\u001b[39m, retries, err, url\n\u001b[0;32m    814\u001b[0m     )\n\u001b[1;32m--> 815\u001b[0m     \u001b[39mreturn\u001b[39;00m \u001b[39mself\u001b[39m\u001b[39m.\u001b[39murlopen(\n\u001b[0;32m    816\u001b[0m         method,\n\u001b[0;32m    817\u001b[0m         url,\n\u001b[0;32m    818\u001b[0m         body,\n\u001b[0;32m    819\u001b[0m         headers,\n\u001b[0;32m    820\u001b[0m         retries,\n\u001b[0;32m    821\u001b[0m         redirect,\n\u001b[0;32m    822\u001b[0m         assert_same_host,\n\u001b[0;32m    823\u001b[0m         timeout\u001b[39m=\u001b[39mtimeout,\n\u001b[0;32m    824\u001b[0m         pool_timeout\u001b[39m=\u001b[39mpool_timeout,\n\u001b[0;32m    825\u001b[0m         release_conn\u001b[39m=\u001b[39mrelease_conn,\n\u001b[0;32m    826\u001b[0m         chunked\u001b[39m=\u001b[39mchunked,\n\u001b[0;32m    827\u001b[0m         body_pos\u001b[39m=\u001b[39mbody_pos,\n\u001b[0;32m    828\u001b[0m         \u001b[39m*\u001b[39m\u001b[39m*\u001b[39mresponse_kw\n\u001b[0;32m    829\u001b[0m     )\n\u001b[0;32m    831\u001b[0m \u001b[39m# Handle redirect?\u001b[39;00m\n",
      "File \u001b[1;32mc:\\Users\\riccardo\\AppData\\Local\\Programs\\Python\\Python310\\lib\\site-packages\\urllib3\\connectionpool.py:815\u001b[0m, in \u001b[0;36mHTTPConnectionPool.urlopen\u001b[1;34m(self, method, url, body, headers, retries, redirect, assert_same_host, timeout, pool_timeout, release_conn, chunked, body_pos, **response_kw)\u001b[0m\n\u001b[0;32m    812\u001b[0m     log\u001b[39m.\u001b[39mwarning(\n\u001b[0;32m    813\u001b[0m         \u001b[39m\"\u001b[39m\u001b[39mRetrying (\u001b[39m\u001b[39m%r\u001b[39;00m\u001b[39m) after connection broken by \u001b[39m\u001b[39m'\u001b[39m\u001b[39m%r\u001b[39;00m\u001b[39m'\u001b[39m\u001b[39m: \u001b[39m\u001b[39m%s\u001b[39;00m\u001b[39m\"\u001b[39m, retries, err, url\n\u001b[0;32m    814\u001b[0m     )\n\u001b[1;32m--> 815\u001b[0m     \u001b[39mreturn\u001b[39;00m \u001b[39mself\u001b[39m\u001b[39m.\u001b[39murlopen(\n\u001b[0;32m    816\u001b[0m         method,\n\u001b[0;32m    817\u001b[0m         url,\n\u001b[0;32m    818\u001b[0m         body,\n\u001b[0;32m    819\u001b[0m         headers,\n\u001b[0;32m    820\u001b[0m         retries,\n\u001b[0;32m    821\u001b[0m         redirect,\n\u001b[0;32m    822\u001b[0m         assert_same_host,\n\u001b[0;32m    823\u001b[0m         timeout\u001b[39m=\u001b[39mtimeout,\n\u001b[0;32m    824\u001b[0m         pool_timeout\u001b[39m=\u001b[39mpool_timeout,\n\u001b[0;32m    825\u001b[0m         release_conn\u001b[39m=\u001b[39mrelease_conn,\n\u001b[0;32m    826\u001b[0m         chunked\u001b[39m=\u001b[39mchunked,\n\u001b[0;32m    827\u001b[0m         body_pos\u001b[39m=\u001b[39mbody_pos,\n\u001b[0;32m    828\u001b[0m         \u001b[39m*\u001b[39m\u001b[39m*\u001b[39mresponse_kw\n\u001b[0;32m    829\u001b[0m     )\n\u001b[0;32m    831\u001b[0m \u001b[39m# Handle redirect?\u001b[39;00m\n",
      "File \u001b[1;32mc:\\Users\\riccardo\\AppData\\Local\\Programs\\Python\\Python310\\lib\\site-packages\\urllib3\\connectionpool.py:787\u001b[0m, in \u001b[0;36mHTTPConnectionPool.urlopen\u001b[1;34m(self, method, url, body, headers, retries, redirect, assert_same_host, timeout, pool_timeout, release_conn, chunked, body_pos, **response_kw)\u001b[0m\n\u001b[0;32m    785\u001b[0m     e \u001b[39m=\u001b[39m ProtocolError(\u001b[39m\"\u001b[39m\u001b[39mConnection aborted.\u001b[39m\u001b[39m\"\u001b[39m, e)\n\u001b[1;32m--> 787\u001b[0m retries \u001b[39m=\u001b[39m retries\u001b[39m.\u001b[39;49mincrement(\n\u001b[0;32m    788\u001b[0m     method, url, error\u001b[39m=\u001b[39;49me, _pool\u001b[39m=\u001b[39;49m\u001b[39mself\u001b[39;49m, _stacktrace\u001b[39m=\u001b[39;49msys\u001b[39m.\u001b[39;49mexc_info()[\u001b[39m2\u001b[39;49m]\n\u001b[0;32m    789\u001b[0m )\n\u001b[0;32m    790\u001b[0m retries\u001b[39m.\u001b[39msleep()\n",
      "File \u001b[1;32mc:\\Users\\riccardo\\AppData\\Local\\Programs\\Python\\Python310\\lib\\site-packages\\urllib3\\util\\retry.py:592\u001b[0m, in \u001b[0;36mRetry.increment\u001b[1;34m(self, method, url, response, error, _pool, _stacktrace)\u001b[0m\n\u001b[0;32m    591\u001b[0m \u001b[39mif\u001b[39;00m new_retry\u001b[39m.\u001b[39mis_exhausted():\n\u001b[1;32m--> 592\u001b[0m     \u001b[39mraise\u001b[39;00m MaxRetryError(_pool, url, error \u001b[39mor\u001b[39;00m ResponseError(cause))\n\u001b[0;32m    594\u001b[0m log\u001b[39m.\u001b[39mdebug(\u001b[39m\"\u001b[39m\u001b[39mIncremented Retry for (url=\u001b[39m\u001b[39m'\u001b[39m\u001b[39m%s\u001b[39;00m\u001b[39m'\u001b[39m\u001b[39m): \u001b[39m\u001b[39m%r\u001b[39;00m\u001b[39m\"\u001b[39m, url, new_retry)\n",
      "\u001b[1;31mMaxRetryError\u001b[0m: HTTPSConnectionPool(host='nominatim.openstreetmap.org', port=443): Max retries exceeded with url: /reverse?lat=34.20264&lon=-118.47352&format=json&addressdetails=1 (Caused by ConnectTimeoutError(<urllib3.connection.HTTPSConnection object at 0x00000223F9B1F040>, 'Connection to nominatim.openstreetmap.org timed out. (connect timeout=1)'))",
      "\nDuring handling of the above exception, another exception occurred:\n",
      "\u001b[1;31mConnectTimeout\u001b[0m                            Traceback (most recent call last)",
      "File \u001b[1;32mc:\\Users\\riccardo\\AppData\\Local\\Programs\\Python\\Python310\\lib\\site-packages\\geopy\\adapters.py:457\u001b[0m, in \u001b[0;36mRequestsAdapter._request\u001b[1;34m(self, url, timeout, headers)\u001b[0m\n\u001b[0;32m    456\u001b[0m \u001b[39mtry\u001b[39;00m:\n\u001b[1;32m--> 457\u001b[0m     resp \u001b[39m=\u001b[39m \u001b[39mself\u001b[39;49m\u001b[39m.\u001b[39;49msession\u001b[39m.\u001b[39;49mget(url, timeout\u001b[39m=\u001b[39;49mtimeout, headers\u001b[39m=\u001b[39;49mheaders)\n\u001b[0;32m    458\u001b[0m \u001b[39mexcept\u001b[39;00m \u001b[39mException\u001b[39;00m \u001b[39mas\u001b[39;00m error:\n",
      "File \u001b[1;32mc:\\Users\\riccardo\\AppData\\Local\\Programs\\Python\\Python310\\lib\\site-packages\\requests\\sessions.py:600\u001b[0m, in \u001b[0;36mSession.get\u001b[1;34m(self, url, **kwargs)\u001b[0m\n\u001b[0;32m    599\u001b[0m kwargs\u001b[39m.\u001b[39msetdefault(\u001b[39m\"\u001b[39m\u001b[39mallow_redirects\u001b[39m\u001b[39m\"\u001b[39m, \u001b[39mTrue\u001b[39;00m)\n\u001b[1;32m--> 600\u001b[0m \u001b[39mreturn\u001b[39;00m \u001b[39mself\u001b[39m\u001b[39m.\u001b[39mrequest(\u001b[39m\"\u001b[39m\u001b[39mGET\u001b[39m\u001b[39m\"\u001b[39m, url, \u001b[39m*\u001b[39m\u001b[39m*\u001b[39mkwargs)\n",
      "File \u001b[1;32mc:\\Users\\riccardo\\AppData\\Local\\Programs\\Python\\Python310\\lib\\site-packages\\requests\\sessions.py:587\u001b[0m, in \u001b[0;36mSession.request\u001b[1;34m(self, method, url, params, data, headers, cookies, files, auth, timeout, allow_redirects, proxies, hooks, stream, verify, cert, json)\u001b[0m\n\u001b[0;32m    586\u001b[0m send_kwargs\u001b[39m.\u001b[39mupdate(settings)\n\u001b[1;32m--> 587\u001b[0m resp \u001b[39m=\u001b[39m \u001b[39mself\u001b[39m\u001b[39m.\u001b[39msend(prep, \u001b[39m*\u001b[39m\u001b[39m*\u001b[39msend_kwargs)\n\u001b[0;32m    589\u001b[0m \u001b[39mreturn\u001b[39;00m resp\n",
      "File \u001b[1;32mc:\\Users\\riccardo\\AppData\\Local\\Programs\\Python\\Python310\\lib\\site-packages\\requests\\sessions.py:701\u001b[0m, in \u001b[0;36mSession.send\u001b[1;34m(self, request, **kwargs)\u001b[0m\n\u001b[0;32m    700\u001b[0m \u001b[39m# Send the request\u001b[39;00m\n\u001b[1;32m--> 701\u001b[0m r \u001b[39m=\u001b[39m adapter\u001b[39m.\u001b[39msend(request, \u001b[39m*\u001b[39m\u001b[39m*\u001b[39mkwargs)\n\u001b[0;32m    703\u001b[0m \u001b[39m# Total elapsed time of the request (approximately)\u001b[39;00m\n",
      "File \u001b[1;32mc:\\Users\\riccardo\\AppData\\Local\\Programs\\Python\\Python310\\lib\\site-packages\\requests\\adapters.py:553\u001b[0m, in \u001b[0;36mHTTPAdapter.send\u001b[1;34m(self, request, stream, timeout, verify, cert, proxies)\u001b[0m\n\u001b[0;32m    552\u001b[0m     \u001b[39mif\u001b[39;00m \u001b[39mnot\u001b[39;00m \u001b[39misinstance\u001b[39m(e\u001b[39m.\u001b[39mreason, NewConnectionError):\n\u001b[1;32m--> 553\u001b[0m         \u001b[39mraise\u001b[39;00m ConnectTimeout(e, request\u001b[39m=\u001b[39mrequest)\n\u001b[0;32m    555\u001b[0m \u001b[39mif\u001b[39;00m \u001b[39misinstance\u001b[39m(e\u001b[39m.\u001b[39mreason, ResponseError):\n",
      "\u001b[1;31mConnectTimeout\u001b[0m: HTTPSConnectionPool(host='nominatim.openstreetmap.org', port=443): Max retries exceeded with url: /reverse?lat=34.20264&lon=-118.47352&format=json&addressdetails=1 (Caused by ConnectTimeoutError(<urllib3.connection.HTTPSConnection object at 0x00000223F9B1F040>, 'Connection to nominatim.openstreetmap.org timed out. (connect timeout=1)'))",
      "\nDuring handling of the above exception, another exception occurred:\n",
      "\u001b[1;31mGeocoderUnavailable\u001b[0m                       Traceback (most recent call last)",
      "\u001b[1;32mc:\\Users\\riccardo\\Desktop\\Verbal-Explanation-of-Graph-Neural-Networks-for-Traffic-Forecasting\\notebooks\\05 Transforming the Explanations in Data Structures.ipynb Cell 18\u001b[0m in \u001b[0;36m4\n\u001b[0;32m      <a href='vscode-notebook-cell:/c%3A/Users/riccardo/Desktop/Verbal-Explanation-of-Graph-Neural-Networks-for-Traffic-Forecasting/notebooks/05%20Transforming%20the%20Explanations%20in%20Data%20Structures.ipynb#X41sZmlsZQ%3D%3D?line=0'>1</a>\u001b[0m node_highway_dict \u001b[39m=\u001b[39m {}\n\u001b[0;32m      <a href='vscode-notebook-cell:/c%3A/Users/riccardo/Desktop/Verbal-Explanation-of-Graph-Neural-Networks-for-Traffic-Forecasting/notebooks/05%20Transforming%20the%20Explanations%20in%20Data%20Structures.ipynb#X41sZmlsZQ%3D%3D?line=2'>3</a>\u001b[0m \u001b[39mfor\u001b[39;00m row \u001b[39min\u001b[39;00m locations_df\u001b[39m.\u001b[39mitertuples():\n\u001b[1;32m----> <a href='vscode-notebook-cell:/c%3A/Users/riccardo/Desktop/Verbal-Explanation-of-Graph-Neural-Networks-for-Traffic-Forecasting/notebooks/05%20Transforming%20the%20Explanations%20in%20Data%20Structures.ipynb#X41sZmlsZQ%3D%3D?line=3'>4</a>\u001b[0m     road \u001b[39m=\u001b[39m geocoder\u001b[39m.\u001b[39;49mreverse((row\u001b[39m.\u001b[39;49mlatitude, row\u001b[39m.\u001b[39;49mlongitude))\u001b[39m.\u001b[39mraw[\u001b[39m'\u001b[39m\u001b[39maddress\u001b[39m\u001b[39m'\u001b[39m][\u001b[39m'\u001b[39m\u001b[39mroad\u001b[39m\u001b[39m'\u001b[39m]\n\u001b[0;32m      <a href='vscode-notebook-cell:/c%3A/Users/riccardo/Desktop/Verbal-Explanation-of-Graph-Neural-Networks-for-Traffic-Forecasting/notebooks/05%20Transforming%20the%20Explanations%20in%20Data%20Structures.ipynb#X41sZmlsZQ%3D%3D?line=4'>5</a>\u001b[0m     node_highway_dict[row\u001b[39m.\u001b[39msensor_id] \u001b[39m=\u001b[39m road\n",
      "File \u001b[1;32mc:\\Users\\riccardo\\AppData\\Local\\Programs\\Python\\Python310\\lib\\site-packages\\geopy\\geocoders\\nominatim.py:372\u001b[0m, in \u001b[0;36mNominatim.reverse\u001b[1;34m(self, query, exactly_one, timeout, language, addressdetails, zoom, namedetails)\u001b[0m\n\u001b[0;32m    370\u001b[0m logger\u001b[39m.\u001b[39mdebug(\u001b[39m\"\u001b[39m\u001b[39m%s\u001b[39;00m\u001b[39m.reverse: \u001b[39m\u001b[39m%s\u001b[39;00m\u001b[39m\"\u001b[39m, \u001b[39mself\u001b[39m\u001b[39m.\u001b[39m\u001b[39m__class__\u001b[39m\u001b[39m.\u001b[39m\u001b[39m__name__\u001b[39m, url)\n\u001b[0;32m    371\u001b[0m callback \u001b[39m=\u001b[39m partial(\u001b[39mself\u001b[39m\u001b[39m.\u001b[39m_parse_json, exactly_one\u001b[39m=\u001b[39mexactly_one)\n\u001b[1;32m--> 372\u001b[0m \u001b[39mreturn\u001b[39;00m \u001b[39mself\u001b[39;49m\u001b[39m.\u001b[39;49m_call_geocoder(url, callback, timeout\u001b[39m=\u001b[39;49mtimeout)\n",
      "File \u001b[1;32mc:\\Users\\riccardo\\AppData\\Local\\Programs\\Python\\Python310\\lib\\site-packages\\geopy\\geocoders\\base.py:368\u001b[0m, in \u001b[0;36mGeocoder._call_geocoder\u001b[1;34m(self, url, callback, timeout, is_json, headers)\u001b[0m\n\u001b[0;32m    366\u001b[0m \u001b[39mtry\u001b[39;00m:\n\u001b[0;32m    367\u001b[0m     \u001b[39mif\u001b[39;00m is_json:\n\u001b[1;32m--> 368\u001b[0m         result \u001b[39m=\u001b[39m \u001b[39mself\u001b[39;49m\u001b[39m.\u001b[39;49madapter\u001b[39m.\u001b[39;49mget_json(url, timeout\u001b[39m=\u001b[39;49mtimeout, headers\u001b[39m=\u001b[39;49mreq_headers)\n\u001b[0;32m    369\u001b[0m     \u001b[39melse\u001b[39;00m:\n\u001b[0;32m    370\u001b[0m         result \u001b[39m=\u001b[39m \u001b[39mself\u001b[39m\u001b[39m.\u001b[39madapter\u001b[39m.\u001b[39mget_text(url, timeout\u001b[39m=\u001b[39mtimeout, headers\u001b[39m=\u001b[39mreq_headers)\n",
      "File \u001b[1;32mc:\\Users\\riccardo\\AppData\\Local\\Programs\\Python\\Python310\\lib\\site-packages\\geopy\\adapters.py:447\u001b[0m, in \u001b[0;36mRequestsAdapter.get_json\u001b[1;34m(self, url, timeout, headers)\u001b[0m\n\u001b[0;32m    446\u001b[0m \u001b[39mdef\u001b[39;00m \u001b[39mget_json\u001b[39m(\u001b[39mself\u001b[39m, url, \u001b[39m*\u001b[39m, timeout, headers):\n\u001b[1;32m--> 447\u001b[0m     resp \u001b[39m=\u001b[39m \u001b[39mself\u001b[39;49m\u001b[39m.\u001b[39;49m_request(url, timeout\u001b[39m=\u001b[39;49mtimeout, headers\u001b[39m=\u001b[39;49mheaders)\n\u001b[0;32m    448\u001b[0m     \u001b[39mtry\u001b[39;00m:\n\u001b[0;32m    449\u001b[0m         \u001b[39mreturn\u001b[39;00m resp\u001b[39m.\u001b[39mjson()\n",
      "File \u001b[1;32mc:\\Users\\riccardo\\AppData\\Local\\Programs\\Python\\Python310\\lib\\site-packages\\geopy\\adapters.py:469\u001b[0m, in \u001b[0;36mRequestsAdapter._request\u001b[1;34m(self, url, timeout, headers)\u001b[0m\n\u001b[0;32m    467\u001b[0m         \u001b[39mraise\u001b[39;00m GeocoderServiceError(message)\n\u001b[0;32m    468\u001b[0m     \u001b[39melse\u001b[39;00m:\n\u001b[1;32m--> 469\u001b[0m         \u001b[39mraise\u001b[39;00m GeocoderUnavailable(message)\n\u001b[0;32m    470\u001b[0m \u001b[39melif\u001b[39;00m \u001b[39misinstance\u001b[39m(error, requests\u001b[39m.\u001b[39mTimeout):\n\u001b[0;32m    471\u001b[0m     \u001b[39mraise\u001b[39;00m GeocoderTimedOut(\u001b[39m\"\u001b[39m\u001b[39mService timed out\u001b[39m\u001b[39m\"\u001b[39m)\n",
      "\u001b[1;31mGeocoderUnavailable\u001b[0m: HTTPSConnectionPool(host='nominatim.openstreetmap.org', port=443): Max retries exceeded with url: /reverse?lat=34.20264&lon=-118.47352&format=json&addressdetails=1 (Caused by ConnectTimeoutError(<urllib3.connection.HTTPSConnection object at 0x00000223F9B1F040>, 'Connection to nominatim.openstreetmap.org timed out. (connect timeout=1)'))"
     ]
    }
   ],
   "source": [
    "'''\n",
    "node_highway_dict = {}\n",
    "\n",
    "for row in locations_df.itertuples():\n",
    "    road = geocoder.reverse((row.latitude, row.longitude)).raw['address']['road']\n",
    "    node_highway_dict[row.sensor_id] = road\n",
    "''';"
   ]
  },
  {
   "cell_type": "code",
   "execution_count": null,
   "metadata": {},
   "outputs": [
    {
     "data": {
      "text/plain": [
       "{('Arroyo Seco Parkway', None),\n",
       " ('East 4th Street', None),\n",
       " ('Foothill Freeway', None),\n",
       " ('Glendale Freeway', None),\n",
       " ('Golden State Freeway', '141'),\n",
       " ('Golden State Freeway', '141B'),\n",
       " ('Golden State Freeway', 'Glendale & Riverside'),\n",
       " ('Golden State Freeway', None),\n",
       " ('Hollywood Freeway', '101 & Western'),\n",
       " ('Hollywood Freeway', '11B'),\n",
       " ('Hollywood Freeway', '12A'),\n",
       " ('Hollywood Freeway', '6A'),\n",
       " ('Hollywood Freeway', '9C'),\n",
       " ('Hollywood Freeway', 'Western & La Mirada'),\n",
       " ('Hollywood Freeway', None),\n",
       " ('San Diego Freeway', None),\n",
       " ('Santa Ana Freeway', None),\n",
       " ('Sherman Way', None),\n",
       " ('US 101', None),\n",
       " ('Ventura Freeway', '5'),\n",
       " ('Ventura Freeway', None)}"
      ]
     },
     "execution_count": 35,
     "metadata": {},
     "output_type": "execute_result"
    }
   ],
   "source": [
    "# set((v['address']['road'], v['address']['highway'] if 'highway' in v['address'] else None) for v in locations_df['location'].values )"
   ]
  },
  {
   "cell_type": "code",
   "execution_count": null,
   "metadata": {},
   "outputs": [
    {
     "data": {
      "text/plain": [
       "{'Arroyo Seco Parkway',\n",
       " 'East 4th Street',\n",
       " 'Foothill Freeway',\n",
       " 'Glendale Freeway',\n",
       " 'Golden State Freeway',\n",
       " 'Hollywood Freeway',\n",
       " 'San Diego Freeway',\n",
       " 'Santa Ana Freeway',\n",
       " 'Sherman Way',\n",
       " 'US 101',\n",
       " 'Ventura Freeway'}"
      ]
     },
     "execution_count": 36,
     "metadata": {},
     "output_type": "execute_result"
    }
   ],
   "source": [
    "# set(v ['address']['road'] for v in locations_df['location'].values)"
   ]
  },
  {
   "cell_type": "code",
   "execution_count": null,
   "metadata": {},
   "outputs": [],
   "source": []
  },
  {
   "cell_type": "code",
   "execution_count": null,
   "metadata": {},
   "outputs": [],
   "source": [
    "'''for t, n in zip(node_idxs[0], node_idxs[1]):\n",
    "    latitude = locations_df[locations_df['sensor_id'] == node_pos_dict[n]]['latitude'].values[0]\n",
    "    longitude = locations_df[locations_df['sensor_id'] == node_pos_dict[n]]['longitude'].values[0]\n",
    "    location = geocoder.reverse((latitude, longitude))\n",
    "    address = location.raw['address']\n",
    "    city = address['city']\n",
    "    street = address['road']\n",
    "    try:\n",
    "        area = address['suburb']\n",
    "    except KeyError:\n",
    "        area = address['neighbourhood']\n",
    "    nodes_with_time_and_speed.append((y_test_time_sample[t, n], n, y_test_sample[t, n, 0], city, street, area))''';\n"
   ]
  },
  {
   "cell_type": "code",
   "execution_count": null,
   "metadata": {},
   "outputs": [],
   "source": [
    "'''nodes_with_time_and_speed = [] \n",
    "\n",
    "for t, n in zip(node_idxs[0], node_idxs[1]):\n",
    "    latitude = locations_df[locations_df['sensor_id'] == node_pos_dict[n]]['latitude'].values[0]\n",
    "    longitude = locations_df[locations_df['sensor_id'] == node_pos_dict[n]]['longitude'].values[0]\n",
    "    location = geocoder.reverse((latitude, longitude))\n",
    "    address = location.raw['address']\n",
    "    city = address['city']\n",
    "    street = address['road']\n",
    "    try:\n",
    "        area = address['suburb']\n",
    "    except KeyError:\n",
    "        area = address['neighbourhood']\n",
    "    nodes_with_time_and_speed.append((y_test_time_sample[t, n], n, y_test_sample[t, n, 0], city, street, area))\n",
    "''';"
   ]
  },
  {
   "cell_type": "code",
   "execution_count": null,
   "metadata": {},
   "outputs": [
    {
     "data": {
      "text/plain": [
       "[(numpy.datetime64('2012-06-04T05:45:00.000000000'),\n",
       "  16,\n",
       "  35.352768,\n",
       "  'Los Angeles',\n",
       "  'Arroyo Seco Parkway',\n",
       "  'Chinatown'),\n",
       " (numpy.datetime64('2012-06-04T05:45:00.000000000'),\n",
       "  196,\n",
       "  35.112137,\n",
       "  'Los Angeles',\n",
       "  'Arroyo Seco Parkway',\n",
       "  'Dayton Avenue'),\n",
       " (numpy.datetime64('2012-06-04T05:50:00.000000000'),\n",
       "  16,\n",
       "  34.866005,\n",
       "  'Los Angeles',\n",
       "  'Arroyo Seco Parkway',\n",
       "  'Chinatown'),\n",
       " (numpy.datetime64('2012-06-04T05:50:00.000000000'),\n",
       "  196,\n",
       "  34.5799,\n",
       "  'Los Angeles',\n",
       "  'Arroyo Seco Parkway',\n",
       "  'Dayton Avenue'),\n",
       " (numpy.datetime64('2012-06-04T05:55:00.000000000'),\n",
       "  16,\n",
       "  34.926838,\n",
       "  'Los Angeles',\n",
       "  'Arroyo Seco Parkway',\n",
       "  'Chinatown'),\n",
       " (numpy.datetime64('2012-06-04T05:55:00.000000000'),\n",
       "  196,\n",
       "  34.584217,\n",
       "  'Los Angeles',\n",
       "  'Arroyo Seco Parkway',\n",
       "  'Dayton Avenue'),\n",
       " (numpy.datetime64('2012-06-04T06:00:00.000000000'),\n",
       "  16,\n",
       "  35.600292,\n",
       "  'Los Angeles',\n",
       "  'Arroyo Seco Parkway',\n",
       "  'Chinatown'),\n",
       " (numpy.datetime64('2012-06-04T06:00:00.000000000'),\n",
       "  196,\n",
       "  35.142715,\n",
       "  'Los Angeles',\n",
       "  'Arroyo Seco Parkway',\n",
       "  'Dayton Avenue'),\n",
       " (numpy.datetime64('2012-06-04T06:05:00.000000000'),\n",
       "  16,\n",
       "  34.550823,\n",
       "  'Los Angeles',\n",
       "  'Arroyo Seco Parkway',\n",
       "  'Chinatown'),\n",
       " (numpy.datetime64('2012-06-04T06:05:00.000000000'),\n",
       "  196,\n",
       "  34.035618,\n",
       "  'Los Angeles',\n",
       "  'Arroyo Seco Parkway',\n",
       "  'Dayton Avenue'),\n",
       " (numpy.datetime64('2012-06-04T06:10:00.000000000'),\n",
       "  16,\n",
       "  32.767227,\n",
       "  'Los Angeles',\n",
       "  'Arroyo Seco Parkway',\n",
       "  'Chinatown'),\n",
       " (numpy.datetime64('2012-06-04T06:10:00.000000000'),\n",
       "  196,\n",
       "  32.132698,\n",
       "  'Los Angeles',\n",
       "  'Arroyo Seco Parkway',\n",
       "  'Dayton Avenue'),\n",
       " (numpy.datetime64('2012-06-04T06:15:00.000000000'),\n",
       "  16,\n",
       "  33.677856,\n",
       "  'Los Angeles',\n",
       "  'Arroyo Seco Parkway',\n",
       "  'Chinatown'),\n",
       " (numpy.datetime64('2012-06-04T06:15:00.000000000'),\n",
       "  196,\n",
       "  33.246357,\n",
       "  'Los Angeles',\n",
       "  'Arroyo Seco Parkway',\n",
       "  'Dayton Avenue'),\n",
       " (numpy.datetime64('2012-06-04T06:20:00.000000000'),\n",
       "  16,\n",
       "  33.76597,\n",
       "  'Los Angeles',\n",
       "  'Arroyo Seco Parkway',\n",
       "  'Chinatown'),\n",
       " (numpy.datetime64('2012-06-04T06:20:00.000000000'),\n",
       "  196,\n",
       "  33.834396,\n",
       "  'Los Angeles',\n",
       "  'Arroyo Seco Parkway',\n",
       "  'Dayton Avenue'),\n",
       " (numpy.datetime64('2012-06-04T06:25:00.000000000'),\n",
       "  16,\n",
       "  33.604694,\n",
       "  'Los Angeles',\n",
       "  'Arroyo Seco Parkway',\n",
       "  'Chinatown'),\n",
       " (numpy.datetime64('2012-06-04T06:25:00.000000000'),\n",
       "  196,\n",
       "  34.004375,\n",
       "  'Los Angeles',\n",
       "  'Arroyo Seco Parkway',\n",
       "  'Dayton Avenue'),\n",
       " (numpy.datetime64('2012-06-04T06:30:00.000000000'),\n",
       "  16,\n",
       "  33.706665,\n",
       "  'Los Angeles',\n",
       "  'Arroyo Seco Parkway',\n",
       "  'Chinatown'),\n",
       " (numpy.datetime64('2012-06-04T06:30:00.000000000'),\n",
       "  196,\n",
       "  33.565376,\n",
       "  'Los Angeles',\n",
       "  'Arroyo Seco Parkway',\n",
       "  'Dayton Avenue'),\n",
       " (numpy.datetime64('2012-06-04T06:35:00.000000000'),\n",
       "  16,\n",
       "  34.097023,\n",
       "  'Los Angeles',\n",
       "  'Arroyo Seco Parkway',\n",
       "  'Chinatown'),\n",
       " (numpy.datetime64('2012-06-04T06:35:00.000000000'),\n",
       "  196,\n",
       "  33.589268,\n",
       "  'Los Angeles',\n",
       "  'Arroyo Seco Parkway',\n",
       "  'Dayton Avenue'),\n",
       " (numpy.datetime64('2012-06-04T06:40:00.000000000'),\n",
       "  16,\n",
       "  33.505253,\n",
       "  'Los Angeles',\n",
       "  'Arroyo Seco Parkway',\n",
       "  'Chinatown'),\n",
       " (numpy.datetime64('2012-06-04T06:40:00.000000000'),\n",
       "  196,\n",
       "  33.066093,\n",
       "  'Los Angeles',\n",
       "  'Arroyo Seco Parkway',\n",
       "  'Dayton Avenue')]"
      ]
     },
     "execution_count": 45,
     "metadata": {},
     "output_type": "execute_result"
    }
   ],
   "source": [
    "# nodes_with_time_and_speed"
   ]
  },
  {
   "cell_type": "code",
   "execution_count": null,
   "metadata": {},
   "outputs": [
    {
     "data": {
      "text/html": [
       "<div>\n",
       "<style scoped>\n",
       "    .dataframe tbody tr th:only-of-type {\n",
       "        vertical-align: middle;\n",
       "    }\n",
       "\n",
       "    .dataframe tbody tr th {\n",
       "        vertical-align: top;\n",
       "    }\n",
       "\n",
       "    .dataframe thead th {\n",
       "        text-align: right;\n",
       "    }\n",
       "</style>\n",
       "<table border=\"1\" class=\"dataframe\">\n",
       "  <thead>\n",
       "    <tr style=\"text-align: right;\">\n",
       "      <th></th>\n",
       "      <th>sensor_id</th>\n",
       "      <th>latitude</th>\n",
       "      <th>longitude</th>\n",
       "    </tr>\n",
       "    <tr>\n",
       "      <th>index</th>\n",
       "      <th></th>\n",
       "      <th></th>\n",
       "      <th></th>\n",
       "    </tr>\n",
       "  </thead>\n",
       "  <tbody>\n",
       "    <tr>\n",
       "      <th>0</th>\n",
       "      <td>773869</td>\n",
       "      <td>34.15497</td>\n",
       "      <td>-118.31829</td>\n",
       "    </tr>\n",
       "    <tr>\n",
       "      <th>1</th>\n",
       "      <td>767541</td>\n",
       "      <td>34.11621</td>\n",
       "      <td>-118.23799</td>\n",
       "    </tr>\n",
       "    <tr>\n",
       "      <th>2</th>\n",
       "      <td>767542</td>\n",
       "      <td>34.11641</td>\n",
       "      <td>-118.23819</td>\n",
       "    </tr>\n",
       "    <tr>\n",
       "      <th>3</th>\n",
       "      <td>717447</td>\n",
       "      <td>34.07248</td>\n",
       "      <td>-118.26772</td>\n",
       "    </tr>\n",
       "    <tr>\n",
       "      <th>4</th>\n",
       "      <td>717446</td>\n",
       "      <td>34.07142</td>\n",
       "      <td>-118.26572</td>\n",
       "    </tr>\n",
       "  </tbody>\n",
       "</table>\n",
       "</div>"
      ],
      "text/plain": [
       "      sensor_id  latitude  longitude\n",
       "index                               \n",
       "0        773869  34.15497 -118.31829\n",
       "1        767541  34.11621 -118.23799\n",
       "2        767542  34.11641 -118.23819\n",
       "3        717447  34.07248 -118.26772\n",
       "4        717446  34.07142 -118.26572"
      ]
     },
     "execution_count": 21,
     "metadata": {},
     "output_type": "execute_result"
    }
   ],
   "source": [
    "#"
   ]
  },
  {
   "cell_type": "code",
   "execution_count": null,
   "metadata": {},
   "outputs": [],
   "source": [
    "'''from geopy.geocoders import Nominatim\n",
    "geocoder = Nominatim(user_agent='test')\n",
    "\n",
    "from geopy.extra.rate_limiter import RateLimiter\n",
    "geocode = RateLimiter(\n",
    "    geocoder.geocode,\n",
    "    min_delay_seconds=1,\n",
    "    return_value_on_exception=None)\n",
    "\n",
    "# Get location information from latitude and longitude.\n",
    "location = geocoder.reverse((nodes_with_time_and_speed[0][-2], nodes_with_time_and_speed[0][-1]))''';"
   ]
  },
  {
   "cell_type": "code",
   "execution_count": null,
   "metadata": {},
   "outputs": [
    {
     "data": {
      "text/plain": [
       "{'place_id': 142783228,\n",
       " 'licence': 'Data © OpenStreetMap contributors, ODbL 1.0. https://osm.org/copyright',\n",
       " 'osm_type': 'way',\n",
       " 'osm_id': 148249794,\n",
       " 'lat': '34.073151616149595',\n",
       " 'lon': '-118.23389240513956',\n",
       " 'display_name': 'Arroyo Seco Parkway, Chinatown, Los Angeles, Los Angeles County, California, 90086, United States',\n",
       " 'address': {'road': 'Arroyo Seco Parkway',\n",
       "  'suburb': 'Chinatown',\n",
       "  'city': 'Los Angeles',\n",
       "  'county': 'Los Angeles County',\n",
       "  'state': 'California',\n",
       "  'ISO3166-2-lvl4': 'US-CA',\n",
       "  'postcode': '90086',\n",
       "  'country': 'United States',\n",
       "  'country_code': 'us'},\n",
       " 'boundingbox': ['34.0730538', '34.0746874', '-118.233984', '-118.2324543']}"
      ]
     },
     "execution_count": 35,
     "metadata": {},
     "output_type": "execute_result"
    }
   ],
   "source": [
    "#location.raw"
   ]
  },
  {
   "cell_type": "code",
   "execution_count": null,
   "metadata": {},
   "outputs": [],
   "source": []
  },
  {
   "cell_type": "code",
   "execution_count": null,
   "metadata": {},
   "outputs": [],
   "source": [
    "'''from geopy.geocoders import Nominatim\n",
    "geocoder = Nominatim(user_agent='test')\n",
    "\n",
    "from geopy.extra.rate_limiter import RateLimiter\n",
    "geocode = RateLimiter(\n",
    "    geocoder.geocode,\n",
    "    min_delay_seconds=1,\n",
    "    return_value_on_exception=None)\n",
    "\n",
    "# Get location information from latitude and longitude.\n",
    "location = geocoder.reverse((nodes_with_time_and_speed[1][-2], nodes_with_time_and_speed[1][-1]))''';"
   ]
  },
  {
   "cell_type": "code",
   "execution_count": null,
   "metadata": {},
   "outputs": [
    {
     "data": {
      "text/plain": [
       "{'road': 'Arroyo Seco Parkway',\n",
       " 'neighbourhood': 'Dayton Avenue',\n",
       " 'city': 'Los Angeles',\n",
       " 'county': 'Los Angeles County',\n",
       " 'state': 'California',\n",
       " 'ISO3166-2-lvl4': 'US-CA',\n",
       " 'postcode': '90031',\n",
       " 'country': 'United States',\n",
       " 'country_code': 'us'}"
      ]
     },
     "execution_count": 39,
     "metadata": {},
     "output_type": "execute_result"
    }
   ],
   "source": [
    "# location.raw['address']"
   ]
  },
  {
   "cell_type": "code",
   "execution_count": null,
   "metadata": {},
   "outputs": [],
   "source": []
  }
 ],
 "metadata": {
  "kernelspec": {
   "display_name": "Python 3",
   "language": "python",
   "name": "python3"
  },
  "language_info": {
   "codemirror_mode": {
    "name": "ipython",
    "version": 3
   },
   "file_extension": ".py",
   "mimetype": "text/x-python",
   "name": "python",
   "nbconvert_exporter": "python",
   "pygments_lexer": "ipython3",
   "version": "3.10.0"
  },
  "orig_nbformat": 4
 },
 "nbformat": 4,
 "nbformat_minor": 2
}
